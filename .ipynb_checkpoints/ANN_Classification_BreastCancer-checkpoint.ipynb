{
 "cells": [
  {
   "cell_type": "code",
   "execution_count": 1,
   "metadata": {},
   "outputs": [],
   "source": [
    "import tensorflow as tf"
   ]
  },
  {
   "cell_type": "code",
   "execution_count": 2,
   "metadata": {},
   "outputs": [],
   "source": [
    "from sklearn.datasets import load_breast_cancer"
   ]
  },
  {
   "cell_type": "code",
   "execution_count": 3,
   "metadata": {},
   "outputs": [],
   "source": [
    "data=load_breast_cancer()"
   ]
  },
  {
   "cell_type": "code",
   "execution_count": 4,
   "metadata": {},
   "outputs": [
    {
     "data": {
      "text/plain": [
       "sklearn.utils.Bunch"
      ]
     },
     "execution_count": 4,
     "metadata": {},
     "output_type": "execute_result"
    }
   ],
   "source": [
    "type(data)"
   ]
  },
  {
   "cell_type": "code",
   "execution_count": 5,
   "metadata": {},
   "outputs": [
    {
     "data": {
      "text/plain": [
       "dict_keys(['data', 'target', 'target_names', 'DESCR', 'feature_names', 'filename'])"
      ]
     },
     "execution_count": 5,
     "metadata": {},
     "output_type": "execute_result"
    }
   ],
   "source": [
    "data.keys()"
   ]
  },
  {
   "cell_type": "code",
   "execution_count": 6,
   "metadata": {},
   "outputs": [
    {
     "data": {
      "text/plain": [
       "(569, 30)"
      ]
     },
     "execution_count": 6,
     "metadata": {},
     "output_type": "execute_result"
    }
   ],
   "source": [
    "data.data.shape"
   ]
  },
  {
   "cell_type": "code",
   "execution_count": 7,
   "metadata": {},
   "outputs": [
    {
     "data": {
      "text/plain": [
       "array([[1.799e+01, 1.038e+01, 1.228e+02, ..., 2.654e-01, 4.601e-01,\n",
       "        1.189e-01],\n",
       "       [2.057e+01, 1.777e+01, 1.329e+02, ..., 1.860e-01, 2.750e-01,\n",
       "        8.902e-02],\n",
       "       [1.969e+01, 2.125e+01, 1.300e+02, ..., 2.430e-01, 3.613e-01,\n",
       "        8.758e-02],\n",
       "       ...,\n",
       "       [1.660e+01, 2.808e+01, 1.083e+02, ..., 1.418e-01, 2.218e-01,\n",
       "        7.820e-02],\n",
       "       [2.060e+01, 2.933e+01, 1.401e+02, ..., 2.650e-01, 4.087e-01,\n",
       "        1.240e-01],\n",
       "       [7.760e+00, 2.454e+01, 4.792e+01, ..., 0.000e+00, 2.871e-01,\n",
       "        7.039e-02]])"
      ]
     },
     "execution_count": 7,
     "metadata": {},
     "output_type": "execute_result"
    }
   ],
   "source": [
    "data.data"
   ]
  },
  {
   "cell_type": "code",
   "execution_count": 8,
   "metadata": {},
   "outputs": [
    {
     "data": {
      "text/plain": [
       "array([0, 0, 0, 0, 0, 0, 0, 0, 0, 0, 0, 0, 0, 0, 0, 0, 0, 0, 0, 1, 1, 1,\n",
       "       0, 0, 0, 0, 0, 0, 0, 0, 0, 0, 0, 0, 0, 0, 0, 1, 0, 0, 0, 0, 0, 0,\n",
       "       0, 0, 1, 0, 1, 1, 1, 1, 1, 0, 0, 1, 0, 0, 1, 1, 1, 1, 0, 1, 0, 0,\n",
       "       1, 1, 1, 1, 0, 1, 0, 0, 1, 0, 1, 0, 0, 1, 1, 1, 0, 0, 1, 0, 0, 0,\n",
       "       1, 1, 1, 0, 1, 1, 0, 0, 1, 1, 1, 0, 0, 1, 1, 1, 1, 0, 1, 1, 0, 1,\n",
       "       1, 1, 1, 1, 1, 1, 1, 0, 0, 0, 1, 0, 0, 1, 1, 1, 0, 0, 1, 0, 1, 0,\n",
       "       0, 1, 0, 0, 1, 1, 0, 1, 1, 0, 1, 1, 1, 1, 0, 1, 1, 1, 1, 1, 1, 1,\n",
       "       1, 1, 0, 1, 1, 1, 1, 0, 0, 1, 0, 1, 1, 0, 0, 1, 1, 0, 0, 1, 1, 1,\n",
       "       1, 0, 1, 1, 0, 0, 0, 1, 0, 1, 0, 1, 1, 1, 0, 1, 1, 0, 0, 1, 0, 0,\n",
       "       0, 0, 1, 0, 0, 0, 1, 0, 1, 0, 1, 1, 0, 1, 0, 0, 0, 0, 1, 1, 0, 0,\n",
       "       1, 1, 1, 0, 1, 1, 1, 1, 1, 0, 0, 1, 1, 0, 1, 1, 0, 0, 1, 0, 1, 1,\n",
       "       1, 1, 0, 1, 1, 1, 1, 1, 0, 1, 0, 0, 0, 0, 0, 0, 0, 0, 0, 0, 0, 0,\n",
       "       0, 0, 1, 1, 1, 1, 1, 1, 0, 1, 0, 1, 1, 0, 1, 1, 0, 1, 0, 0, 1, 1,\n",
       "       1, 1, 1, 1, 1, 1, 1, 1, 1, 1, 1, 0, 1, 1, 0, 1, 0, 1, 1, 1, 1, 1,\n",
       "       1, 1, 1, 1, 1, 1, 1, 1, 1, 0, 1, 1, 1, 0, 1, 0, 1, 1, 1, 1, 0, 0,\n",
       "       0, 1, 1, 1, 1, 0, 1, 0, 1, 0, 1, 1, 1, 0, 1, 1, 1, 1, 1, 1, 1, 0,\n",
       "       0, 0, 1, 1, 1, 1, 1, 1, 1, 1, 1, 1, 1, 0, 0, 1, 0, 0, 0, 1, 0, 0,\n",
       "       1, 1, 1, 1, 1, 0, 1, 1, 1, 1, 1, 0, 1, 1, 1, 0, 1, 1, 0, 0, 1, 1,\n",
       "       1, 1, 1, 1, 0, 1, 1, 1, 1, 1, 1, 1, 0, 1, 1, 1, 1, 1, 0, 1, 1, 0,\n",
       "       1, 1, 1, 1, 1, 1, 1, 1, 1, 1, 1, 1, 0, 1, 0, 0, 1, 0, 1, 1, 1, 1,\n",
       "       1, 0, 1, 1, 0, 1, 0, 1, 1, 0, 1, 0, 1, 1, 1, 1, 1, 1, 1, 1, 0, 0,\n",
       "       1, 1, 1, 1, 1, 1, 0, 1, 1, 1, 1, 1, 1, 1, 1, 1, 1, 0, 1, 1, 1, 1,\n",
       "       1, 1, 1, 0, 1, 0, 1, 1, 0, 1, 1, 1, 1, 1, 0, 0, 1, 0, 1, 0, 1, 1,\n",
       "       1, 1, 1, 0, 1, 1, 0, 1, 0, 1, 0, 0, 1, 1, 1, 0, 1, 1, 1, 1, 1, 1,\n",
       "       1, 1, 1, 1, 1, 0, 1, 0, 0, 1, 1, 1, 1, 1, 1, 1, 1, 1, 1, 1, 1, 1,\n",
       "       1, 1, 1, 1, 1, 1, 1, 1, 1, 1, 1, 1, 0, 0, 0, 0, 0, 0, 1])"
      ]
     },
     "execution_count": 8,
     "metadata": {},
     "output_type": "execute_result"
    }
   ],
   "source": [
    "data.target"
   ]
  },
  {
   "cell_type": "code",
   "execution_count": 9,
   "metadata": {},
   "outputs": [
    {
     "data": {
      "text/plain": [
       "(569,)"
      ]
     },
     "execution_count": 9,
     "metadata": {},
     "output_type": "execute_result"
    }
   ],
   "source": [
    "data.target.shape"
   ]
  },
  {
   "cell_type": "code",
   "execution_count": 10,
   "metadata": {},
   "outputs": [
    {
     "data": {
      "text/plain": [
       "array(['malignant', 'benign'], dtype='<U9')"
      ]
     },
     "execution_count": 10,
     "metadata": {},
     "output_type": "execute_result"
    }
   ],
   "source": [
    "data.target_names"
   ]
  },
  {
   "cell_type": "code",
   "execution_count": 11,
   "metadata": {},
   "outputs": [
    {
     "data": {
      "text/plain": [
       "array(['mean radius', 'mean texture', 'mean perimeter', 'mean area',\n",
       "       'mean smoothness', 'mean compactness', 'mean concavity',\n",
       "       'mean concave points', 'mean symmetry', 'mean fractal dimension',\n",
       "       'radius error', 'texture error', 'perimeter error', 'area error',\n",
       "       'smoothness error', 'compactness error', 'concavity error',\n",
       "       'concave points error', 'symmetry error',\n",
       "       'fractal dimension error', 'worst radius', 'worst texture',\n",
       "       'worst perimeter', 'worst area', 'worst smoothness',\n",
       "       'worst compactness', 'worst concavity', 'worst concave points',\n",
       "       'worst symmetry', 'worst fractal dimension'], dtype='<U23')"
      ]
     },
     "execution_count": 11,
     "metadata": {},
     "output_type": "execute_result"
    }
   ],
   "source": [
    "data.feature_names"
   ]
  },
  {
   "cell_type": "code",
   "execution_count": 12,
   "metadata": {},
   "outputs": [],
   "source": [
    "from sklearn.model_selection import train_test_split"
   ]
  },
  {
   "cell_type": "code",
   "execution_count": 15,
   "metadata": {},
   "outputs": [],
   "source": [
    "x_train,x_test,y_train,y_test=train_test_split(data.data,data.target, test_size=0.33)"
   ]
  },
  {
   "cell_type": "code",
   "execution_count": 16,
   "metadata": {},
   "outputs": [],
   "source": [
    "N, D=x_train.shape"
   ]
  },
  {
   "cell_type": "code",
   "execution_count": 26,
   "metadata": {},
   "outputs": [],
   "source": [
    "from sklearn.preprocessing import StandardScaler\n",
    "\n",
    "scaler=StandardScaler()\n",
    "x_train=scaler.fit_transform(x_train)\n",
    "x_test=scaler.transform(x_test)"
   ]
  },
  {
   "cell_type": "raw",
   "metadata": {},
   "source": [
    "#SAME AS ABOVE\n",
    "scalar=StandardScalar()\n",
    "scalar.fit(x_train)\n",
    "x_train=scalar.transform(x_train)\n",
    "x_test=scalar.transform(x_test)"
   ]
  },
  {
   "cell_type": "code",
   "execution_count": 45,
   "metadata": {},
   "outputs": [
    {
     "name": "stdout",
     "output_type": "stream",
     "text": [
      "Train on 381 samples, validate on 188 samples\n",
      "Epoch 1/120\n",
      "381/381 [==============================] - 1s 2ms/sample - loss: 0.8856 - accuracy: 0.3911 - val_loss: 0.8372 - val_accuracy: 0.4043\n",
      "Epoch 2/120\n",
      "381/381 [==============================] - 0s 189us/sample - loss: 0.7998 - accuracy: 0.4462 - val_loss: 0.7612 - val_accuracy: 0.4574\n",
      "Epoch 3/120\n",
      "381/381 [==============================] - 0s 189us/sample - loss: 0.7266 - accuracy: 0.5276 - val_loss: 0.6942 - val_accuracy: 0.5372\n",
      "Epoch 4/120\n",
      "381/381 [==============================] - 0s 178us/sample - loss: 0.6615 - accuracy: 0.6142 - val_loss: 0.6380 - val_accuracy: 0.6170\n",
      "Epoch 5/120\n",
      "381/381 [==============================] - 0s 189us/sample - loss: 0.6069 - accuracy: 0.6772 - val_loss: 0.5894 - val_accuracy: 0.6809\n",
      "Epoch 6/120\n",
      "381/381 [==============================] - 0s 182us/sample - loss: 0.5610 - accuracy: 0.7428 - val_loss: 0.5478 - val_accuracy: 0.7447\n",
      "Epoch 7/120\n",
      "381/381 [==============================] - 0s 189us/sample - loss: 0.5208 - accuracy: 0.7822 - val_loss: 0.5124 - val_accuracy: 0.7606\n",
      "Epoch 8/120\n",
      "381/381 [==============================] - 0s 188us/sample - loss: 0.4876 - accuracy: 0.8058 - val_loss: 0.4818 - val_accuracy: 0.8032\n",
      "Epoch 9/120\n",
      "381/381 [==============================] - 0s 171us/sample - loss: 0.4591 - accuracy: 0.8320 - val_loss: 0.4545 - val_accuracy: 0.8351\n",
      "Epoch 10/120\n",
      "381/381 [==============================] - 0s 178us/sample - loss: 0.4340 - accuracy: 0.8504 - val_loss: 0.4312 - val_accuracy: 0.8404\n",
      "Epoch 11/120\n",
      "381/381 [==============================] - 0s 189us/sample - loss: 0.4124 - accuracy: 0.8635 - val_loss: 0.4098 - val_accuracy: 0.8564\n",
      "Epoch 12/120\n",
      "381/381 [==============================] - 0s 189us/sample - loss: 0.3931 - accuracy: 0.8688 - val_loss: 0.3906 - val_accuracy: 0.8617\n",
      "Epoch 13/120\n",
      "381/381 [==============================] - 0s 168us/sample - loss: 0.3758 - accuracy: 0.8766 - val_loss: 0.3733 - val_accuracy: 0.8617\n",
      "Epoch 14/120\n",
      "381/381 [==============================] - 0s 178us/sample - loss: 0.3600 - accuracy: 0.8898 - val_loss: 0.3577 - val_accuracy: 0.8670\n",
      "Epoch 15/120\n",
      "381/381 [==============================] - 0s 189us/sample - loss: 0.3455 - accuracy: 0.8950 - val_loss: 0.3438 - val_accuracy: 0.8723\n",
      "Epoch 16/120\n",
      "381/381 [==============================] - 0s 199us/sample - loss: 0.3323 - accuracy: 0.9081 - val_loss: 0.3310 - val_accuracy: 0.8830\n",
      "Epoch 17/120\n",
      "381/381 [==============================] - 0s 189us/sample - loss: 0.3208 - accuracy: 0.9134 - val_loss: 0.3185 - val_accuracy: 0.8883\n",
      "Epoch 18/120\n",
      "381/381 [==============================] - 0s 189us/sample - loss: 0.3094 - accuracy: 0.9160 - val_loss: 0.3071 - val_accuracy: 0.8883\n",
      "Epoch 19/120\n",
      "381/381 [==============================] - 0s 199us/sample - loss: 0.2992 - accuracy: 0.9160 - val_loss: 0.2966 - val_accuracy: 0.8883\n",
      "Epoch 20/120\n",
      "381/381 [==============================] - 0s 189us/sample - loss: 0.2897 - accuracy: 0.9186 - val_loss: 0.2869 - val_accuracy: 0.8989\n",
      "Epoch 21/120\n",
      "381/381 [==============================] - 0s 189us/sample - loss: 0.2809 - accuracy: 0.9213 - val_loss: 0.2779 - val_accuracy: 0.9149\n",
      "Epoch 22/120\n",
      "381/381 [==============================] - 0s 189us/sample - loss: 0.2731 - accuracy: 0.9265 - val_loss: 0.2690 - val_accuracy: 0.9149\n",
      "Epoch 23/120\n",
      "381/381 [==============================] - 0s 189us/sample - loss: 0.2653 - accuracy: 0.9265 - val_loss: 0.2610 - val_accuracy: 0.9202\n",
      "Epoch 24/120\n",
      "381/381 [==============================] - 0s 189us/sample - loss: 0.2580 - accuracy: 0.9265 - val_loss: 0.2537 - val_accuracy: 0.9255\n",
      "Epoch 25/120\n",
      "381/381 [==============================] - 0s 189us/sample - loss: 0.2515 - accuracy: 0.9291 - val_loss: 0.2467 - val_accuracy: 0.9309\n",
      "Epoch 26/120\n",
      "381/381 [==============================] - 0s 168us/sample - loss: 0.2453 - accuracy: 0.9318 - val_loss: 0.2401 - val_accuracy: 0.9309\n",
      "Epoch 27/120\n",
      "381/381 [==============================] - 0s 178us/sample - loss: 0.2395 - accuracy: 0.9370 - val_loss: 0.2339 - val_accuracy: 0.9309\n",
      "Epoch 28/120\n",
      "381/381 [==============================] - 0s 189us/sample - loss: 0.2341 - accuracy: 0.9370 - val_loss: 0.2278 - val_accuracy: 0.9309\n",
      "Epoch 29/120\n",
      "381/381 [==============================] - 0s 199us/sample - loss: 0.2288 - accuracy: 0.9370 - val_loss: 0.2224 - val_accuracy: 0.9309\n",
      "Epoch 30/120\n",
      "381/381 [==============================] - 0s 199us/sample - loss: 0.2241 - accuracy: 0.9396 - val_loss: 0.2171 - val_accuracy: 0.9309\n",
      "Epoch 31/120\n",
      "381/381 [==============================] - 0s 199us/sample - loss: 0.2195 - accuracy: 0.9475 - val_loss: 0.2122 - val_accuracy: 0.9362\n",
      "Epoch 32/120\n",
      "381/381 [==============================] - 0s 189us/sample - loss: 0.2150 - accuracy: 0.9475 - val_loss: 0.2074 - val_accuracy: 0.9362\n",
      "Epoch 33/120\n",
      "381/381 [==============================] - 0s 189us/sample - loss: 0.2110 - accuracy: 0.9501 - val_loss: 0.2028 - val_accuracy: 0.9362\n",
      "Epoch 34/120\n",
      "381/381 [==============================] - 0s 178us/sample - loss: 0.2069 - accuracy: 0.9501 - val_loss: 0.1986 - val_accuracy: 0.9362\n",
      "Epoch 35/120\n",
      "381/381 [==============================] - 0s 178us/sample - loss: 0.2032 - accuracy: 0.9501 - val_loss: 0.1945 - val_accuracy: 0.9415\n",
      "Epoch 36/120\n",
      "381/381 [==============================] - 0s 199us/sample - loss: 0.1997 - accuracy: 0.9501 - val_loss: 0.1906 - val_accuracy: 0.9415\n",
      "Epoch 37/120\n",
      "381/381 [==============================] - 0s 189us/sample - loss: 0.1962 - accuracy: 0.9528 - val_loss: 0.1870 - val_accuracy: 0.9415\n",
      "Epoch 38/120\n",
      "381/381 [==============================] - 0s 189us/sample - loss: 0.1929 - accuracy: 0.9528 - val_loss: 0.1836 - val_accuracy: 0.9415\n",
      "Epoch 39/120\n",
      "381/381 [==============================] - 0s 178us/sample - loss: 0.1898 - accuracy: 0.9528 - val_loss: 0.1803 - val_accuracy: 0.9415\n",
      "Epoch 40/120\n",
      "381/381 [==============================] - 0s 178us/sample - loss: 0.1869 - accuracy: 0.9528 - val_loss: 0.1771 - val_accuracy: 0.9362\n",
      "Epoch 41/120\n",
      "381/381 [==============================] - 0s 168us/sample - loss: 0.1840 - accuracy: 0.9528 - val_loss: 0.1741 - val_accuracy: 0.9415\n",
      "Epoch 42/120\n",
      "381/381 [==============================] - 0s 199us/sample - loss: 0.1812 - accuracy: 0.9528 - val_loss: 0.1711 - val_accuracy: 0.9362\n",
      "Epoch 43/120\n",
      "381/381 [==============================] - 0s 189us/sample - loss: 0.1786 - accuracy: 0.9528 - val_loss: 0.1683 - val_accuracy: 0.9362\n",
      "Epoch 44/120\n",
      "381/381 [==============================] - 0s 189us/sample - loss: 0.1761 - accuracy: 0.9554 - val_loss: 0.1656 - val_accuracy: 0.9362\n",
      "Epoch 45/120\n",
      "381/381 [==============================] - 0s 178us/sample - loss: 0.1737 - accuracy: 0.9554 - val_loss: 0.1631 - val_accuracy: 0.9362\n",
      "Epoch 46/120\n",
      "381/381 [==============================] - 0s 178us/sample - loss: 0.1712 - accuracy: 0.9554 - val_loss: 0.1606 - val_accuracy: 0.9362\n",
      "Epoch 47/120\n",
      "381/381 [==============================] - 0s 189us/sample - loss: 0.1690 - accuracy: 0.9554 - val_loss: 0.1582 - val_accuracy: 0.9415\n",
      "Epoch 48/120\n",
      "381/381 [==============================] - 0s 189us/sample - loss: 0.1670 - accuracy: 0.9554 - val_loss: 0.1559 - val_accuracy: 0.9415\n",
      "Epoch 49/120\n",
      "381/381 [==============================] - 0s 178us/sample - loss: 0.1647 - accuracy: 0.9554 - val_loss: 0.1538 - val_accuracy: 0.9468\n",
      "Epoch 50/120\n",
      "381/381 [==============================] - 0s 178us/sample - loss: 0.1627 - accuracy: 0.9580 - val_loss: 0.1517 - val_accuracy: 0.9468\n",
      "Epoch 51/120\n",
      "381/381 [==============================] - 0s 178us/sample - loss: 0.1607 - accuracy: 0.9606 - val_loss: 0.1497 - val_accuracy: 0.9468\n",
      "Epoch 52/120\n",
      "381/381 [==============================] - 0s 168us/sample - loss: 0.1588 - accuracy: 0.9633 - val_loss: 0.1478 - val_accuracy: 0.9468\n",
      "Epoch 53/120\n",
      "381/381 [==============================] - 0s 168us/sample - loss: 0.1571 - accuracy: 0.9633 - val_loss: 0.1458 - val_accuracy: 0.9468\n",
      "Epoch 54/120\n",
      "381/381 [==============================] - 0s 189us/sample - loss: 0.1553 - accuracy: 0.9633 - val_loss: 0.1439 - val_accuracy: 0.9468\n",
      "Epoch 55/120\n",
      "381/381 [==============================] - 0s 189us/sample - loss: 0.1535 - accuracy: 0.9633 - val_loss: 0.1422 - val_accuracy: 0.9468\n",
      "Epoch 56/120\n"
     ]
    },
    {
     "name": "stdout",
     "output_type": "stream",
     "text": [
      "381/381 [==============================] - 0s 178us/sample - loss: 0.1519 - accuracy: 0.9633 - val_loss: 0.1405 - val_accuracy: 0.9521\n",
      "Epoch 57/120\n",
      "381/381 [==============================] - 0s 189us/sample - loss: 0.1503 - accuracy: 0.9633 - val_loss: 0.1388 - val_accuracy: 0.9521\n",
      "Epoch 58/120\n",
      "381/381 [==============================] - 0s 178us/sample - loss: 0.1489 - accuracy: 0.9633 - val_loss: 0.1373 - val_accuracy: 0.9521\n",
      "Epoch 59/120\n",
      "381/381 [==============================] - 0s 189us/sample - loss: 0.1473 - accuracy: 0.9633 - val_loss: 0.1358 - val_accuracy: 0.9521\n",
      "Epoch 60/120\n",
      "381/381 [==============================] - 0s 178us/sample - loss: 0.1458 - accuracy: 0.9633 - val_loss: 0.1343 - val_accuracy: 0.9521\n",
      "Epoch 61/120\n",
      "381/381 [==============================] - 0s 189us/sample - loss: 0.1445 - accuracy: 0.9633 - val_loss: 0.1329 - val_accuracy: 0.9521\n",
      "Epoch 62/120\n",
      "381/381 [==============================] - 0s 178us/sample - loss: 0.1430 - accuracy: 0.9659 - val_loss: 0.1315 - val_accuracy: 0.9521\n",
      "Epoch 63/120\n",
      "381/381 [==============================] - 0s 178us/sample - loss: 0.1417 - accuracy: 0.9659 - val_loss: 0.1301 - val_accuracy: 0.9521\n",
      "Epoch 64/120\n",
      "381/381 [==============================] - 0s 189us/sample - loss: 0.1404 - accuracy: 0.9659 - val_loss: 0.1288 - val_accuracy: 0.9521\n",
      "Epoch 65/120\n",
      "381/381 [==============================] - 0s 178us/sample - loss: 0.1392 - accuracy: 0.9659 - val_loss: 0.1276 - val_accuracy: 0.9521\n",
      "Epoch 66/120\n",
      "381/381 [==============================] - 0s 189us/sample - loss: 0.1380 - accuracy: 0.9659 - val_loss: 0.1263 - val_accuracy: 0.9574\n",
      "Epoch 67/120\n",
      "381/381 [==============================] - 0s 168us/sample - loss: 0.1368 - accuracy: 0.9659 - val_loss: 0.1251 - val_accuracy: 0.9574\n",
      "Epoch 68/120\n",
      "381/381 [==============================] - 0s 178us/sample - loss: 0.1356 - accuracy: 0.9659 - val_loss: 0.1240 - val_accuracy: 0.9574\n",
      "Epoch 69/120\n",
      "381/381 [==============================] - 0s 168us/sample - loss: 0.1345 - accuracy: 0.9659 - val_loss: 0.1229 - val_accuracy: 0.9574\n",
      "Epoch 70/120\n",
      "381/381 [==============================] - 0s 168us/sample - loss: 0.1334 - accuracy: 0.9659 - val_loss: 0.1218 - val_accuracy: 0.9574\n",
      "Epoch 71/120\n",
      "381/381 [==============================] - 0s 168us/sample - loss: 0.1324 - accuracy: 0.9659 - val_loss: 0.1207 - val_accuracy: 0.9574\n",
      "Epoch 72/120\n",
      "381/381 [==============================] - 0s 189us/sample - loss: 0.1314 - accuracy: 0.9685 - val_loss: 0.1197 - val_accuracy: 0.9574\n",
      "Epoch 73/120\n",
      "381/381 [==============================] - 0s 178us/sample - loss: 0.1303 - accuracy: 0.9685 - val_loss: 0.1187 - val_accuracy: 0.9628\n",
      "Epoch 74/120\n",
      "381/381 [==============================] - 0s 178us/sample - loss: 0.1294 - accuracy: 0.9685 - val_loss: 0.1177 - val_accuracy: 0.9628\n",
      "Epoch 75/120\n",
      "381/381 [==============================] - 0s 178us/sample - loss: 0.1284 - accuracy: 0.9685 - val_loss: 0.1168 - val_accuracy: 0.9628\n",
      "Epoch 76/120\n",
      "381/381 [==============================] - 0s 178us/sample - loss: 0.1275 - accuracy: 0.9711 - val_loss: 0.1159 - val_accuracy: 0.9628\n",
      "Epoch 77/120\n",
      "381/381 [==============================] - 0s 187us/sample - loss: 0.1265 - accuracy: 0.9711 - val_loss: 0.1150 - val_accuracy: 0.9628\n",
      "Epoch 78/120\n",
      "381/381 [==============================] - 0s 178us/sample - loss: 0.1257 - accuracy: 0.9711 - val_loss: 0.1142 - val_accuracy: 0.9628\n",
      "Epoch 79/120\n",
      "381/381 [==============================] - 0s 178us/sample - loss: 0.1248 - accuracy: 0.9711 - val_loss: 0.1133 - val_accuracy: 0.9628\n",
      "Epoch 80/120\n",
      "381/381 [==============================] - 0s 178us/sample - loss: 0.1240 - accuracy: 0.9711 - val_loss: 0.1125 - val_accuracy: 0.9628\n",
      "Epoch 81/120\n",
      "381/381 [==============================] - 0s 189us/sample - loss: 0.1232 - accuracy: 0.9711 - val_loss: 0.1117 - val_accuracy: 0.9628\n",
      "Epoch 82/120\n",
      "381/381 [==============================] - 0s 178us/sample - loss: 0.1224 - accuracy: 0.9711 - val_loss: 0.1109 - val_accuracy: 0.9628\n",
      "Epoch 83/120\n",
      "381/381 [==============================] - 0s 178us/sample - loss: 0.1216 - accuracy: 0.9711 - val_loss: 0.1101 - val_accuracy: 0.9628\n",
      "Epoch 84/120\n",
      "381/381 [==============================] - 0s 168us/sample - loss: 0.1208 - accuracy: 0.9711 - val_loss: 0.1094 - val_accuracy: 0.9628\n",
      "Epoch 85/120\n",
      "381/381 [==============================] - 0s 178us/sample - loss: 0.1201 - accuracy: 0.9711 - val_loss: 0.1087 - val_accuracy: 0.9628\n",
      "Epoch 86/120\n",
      "381/381 [==============================] - 0s 178us/sample - loss: 0.1193 - accuracy: 0.9711 - val_loss: 0.1080 - val_accuracy: 0.9628\n",
      "Epoch 87/120\n",
      "381/381 [==============================] - 0s 178us/sample - loss: 0.1186 - accuracy: 0.9738 - val_loss: 0.1073 - val_accuracy: 0.9628\n",
      "Epoch 88/120\n",
      "381/381 [==============================] - 0s 189us/sample - loss: 0.1179 - accuracy: 0.9738 - val_loss: 0.1066 - val_accuracy: 0.9628\n",
      "Epoch 89/120\n",
      "381/381 [==============================] - 0s 178us/sample - loss: 0.1172 - accuracy: 0.9738 - val_loss: 0.1060 - val_accuracy: 0.9628\n",
      "Epoch 90/120\n",
      "381/381 [==============================] - 0s 178us/sample - loss: 0.1165 - accuracy: 0.9738 - val_loss: 0.1053 - val_accuracy: 0.9628\n",
      "Epoch 91/120\n",
      "381/381 [==============================] - 0s 178us/sample - loss: 0.1159 - accuracy: 0.9738 - val_loss: 0.1047 - val_accuracy: 0.9628\n",
      "Epoch 92/120\n",
      "381/381 [==============================] - 0s 178us/sample - loss: 0.1152 - accuracy: 0.9738 - val_loss: 0.1041 - val_accuracy: 0.9628\n",
      "Epoch 93/120\n",
      "381/381 [==============================] - 0s 178us/sample - loss: 0.1146 - accuracy: 0.9738 - val_loss: 0.1035 - val_accuracy: 0.9628\n",
      "Epoch 94/120\n",
      "381/381 [==============================] - 0s 168us/sample - loss: 0.1140 - accuracy: 0.9738 - val_loss: 0.1029 - val_accuracy: 0.9628\n",
      "Epoch 95/120\n",
      "381/381 [==============================] - 0s 178us/sample - loss: 0.1134 - accuracy: 0.9738 - val_loss: 0.1023 - val_accuracy: 0.9628\n",
      "Epoch 96/120\n",
      "381/381 [==============================] - 0s 178us/sample - loss: 0.1128 - accuracy: 0.9738 - val_loss: 0.1018 - val_accuracy: 0.9628\n",
      "Epoch 97/120\n",
      "381/381 [==============================] - 0s 178us/sample - loss: 0.1122 - accuracy: 0.9738 - val_loss: 0.1012 - val_accuracy: 0.9628\n",
      "Epoch 98/120\n",
      "381/381 [==============================] - 0s 189us/sample - loss: 0.1116 - accuracy: 0.9738 - val_loss: 0.1007 - val_accuracy: 0.9628\n",
      "Epoch 99/120\n",
      "381/381 [==============================] - 0s 178us/sample - loss: 0.1111 - accuracy: 0.9738 - val_loss: 0.1001 - val_accuracy: 0.9628\n",
      "Epoch 100/120\n",
      "381/381 [==============================] - 0s 189us/sample - loss: 0.1105 - accuracy: 0.9738 - val_loss: 0.0996 - val_accuracy: 0.9628\n",
      "Epoch 101/120\n",
      "381/381 [==============================] - 0s 178us/sample - loss: 0.1100 - accuracy: 0.9738 - val_loss: 0.0991 - val_accuracy: 0.9628\n",
      "Epoch 102/120\n",
      "381/381 [==============================] - 0s 178us/sample - loss: 0.1094 - accuracy: 0.9738 - val_loss: 0.0986 - val_accuracy: 0.9628\n",
      "Epoch 103/120\n",
      "381/381 [==============================] - 0s 189us/sample - loss: 0.1089 - accuracy: 0.9738 - val_loss: 0.0983 - val_accuracy: 0.9628\n",
      "Epoch 104/120\n",
      "381/381 [==============================] - 0s 178us/sample - loss: 0.1084 - accuracy: 0.9738 - val_loss: 0.0978 - val_accuracy: 0.9628\n",
      "Epoch 105/120\n",
      "381/381 [==============================] - 0s 178us/sample - loss: 0.1079 - accuracy: 0.9738 - val_loss: 0.0973 - val_accuracy: 0.9628\n",
      "Epoch 106/120\n",
      "381/381 [==============================] - 0s 189us/sample - loss: 0.1074 - accuracy: 0.9738 - val_loss: 0.0969 - val_accuracy: 0.9628\n",
      "Epoch 107/120\n",
      "381/381 [==============================] - 0s 178us/sample - loss: 0.1069 - accuracy: 0.9738 - val_loss: 0.0964 - val_accuracy: 0.9628\n",
      "Epoch 108/120\n",
      "381/381 [==============================] - 0s 189us/sample - loss: 0.1065 - accuracy: 0.9738 - val_loss: 0.0959 - val_accuracy: 0.9628\n",
      "Epoch 109/120\n",
      "381/381 [==============================] - 0s 178us/sample - loss: 0.1060 - accuracy: 0.9738 - val_loss: 0.0955 - val_accuracy: 0.9628\n",
      "Epoch 110/120\n",
      "381/381 [==============================] - 0s 178us/sample - loss: 0.1056 - accuracy: 0.9738 - val_loss: 0.0951 - val_accuracy: 0.9628\n",
      "Epoch 111/120\n"
     ]
    },
    {
     "name": "stdout",
     "output_type": "stream",
     "text": [
      "381/381 [==============================] - 0s 189us/sample - loss: 0.1051 - accuracy: 0.9738 - val_loss: 0.0947 - val_accuracy: 0.9628\n",
      "Epoch 112/120\n",
      "381/381 [==============================] - 0s 178us/sample - loss: 0.1046 - accuracy: 0.9738 - val_loss: 0.0943 - val_accuracy: 0.9628\n",
      "Epoch 113/120\n",
      "381/381 [==============================] - 0s 189us/sample - loss: 0.1042 - accuracy: 0.9738 - val_loss: 0.0940 - val_accuracy: 0.9628\n",
      "Epoch 114/120\n",
      "381/381 [==============================] - 0s 178us/sample - loss: 0.1038 - accuracy: 0.9738 - val_loss: 0.0935 - val_accuracy: 0.9628\n",
      "Epoch 115/120\n",
      "381/381 [==============================] - 0s 168us/sample - loss: 0.1034 - accuracy: 0.9738 - val_loss: 0.0932 - val_accuracy: 0.9628\n",
      "Epoch 116/120\n",
      "381/381 [==============================] - 0s 178us/sample - loss: 0.1029 - accuracy: 0.9738 - val_loss: 0.0928 - val_accuracy: 0.9628\n",
      "Epoch 117/120\n",
      "381/381 [==============================] - 0s 178us/sample - loss: 0.1025 - accuracy: 0.9738 - val_loss: 0.0926 - val_accuracy: 0.9628\n",
      "Epoch 118/120\n",
      "381/381 [==============================] - 0s 178us/sample - loss: 0.1021 - accuracy: 0.9764 - val_loss: 0.0922 - val_accuracy: 0.9628\n",
      "Epoch 119/120\n",
      "381/381 [==============================] - 0s 189us/sample - loss: 0.1017 - accuracy: 0.9764 - val_loss: 0.0918 - val_accuracy: 0.9628\n",
      "Epoch 120/120\n",
      "381/381 [==============================] - 0s 189us/sample - loss: 0.1013 - accuracy: 0.9764 - val_loss: 0.0915 - val_accuracy: 0.9628\n",
      "381/381 [==============================] - 0s 105us/sample - loss: 0.1011 - accuracy: 0.9764\n",
      "Train score:  [0.10109793705733743, 0.97637796]\n",
      "188/188 [==============================] - 0s 106us/sample - loss: 0.0915 - accuracy: 0.9628\n",
      "Test score:  [0.09148127236898909, 0.96276593]\n"
     ]
    }
   ],
   "source": [
    "model=tf.keras.models.Sequential([\n",
    "    tf.keras.layers.Input(shape=(D,)),\n",
    "    tf.keras.layers.Dense(1,activation='sigmoid')\n",
    "])\n",
    "\n",
    "#model=tf.keras.models.Sequential()\n",
    "#model.add(tf.keras.layers.Dense(1,input_shape=(D,), activation='sigmoid'))\n",
    "\n",
    "model.compile(optimizer='Adam',\n",
    "             loss='binary_crossentropy',\n",
    "             metrics=['accuracy'])\n",
    "\n",
    "r=model.fit(x_train,y_train, validation_data=(x_test,y_test), epochs=120)\n",
    "\n",
    "print(\"Train score: \",model.evaluate(x_train,y_train))\n",
    "print(\"Test score: \",model.evaluate(x_test,y_test))"
   ]
  },
  {
   "cell_type": "code",
   "execution_count": 49,
   "metadata": {},
   "outputs": [
    {
     "data": {
      "text/plain": [
       "<matplotlib.legend.Legend at 0x1a67ec68248>"
      ]
     },
     "execution_count": 49,
     "metadata": {},
     "output_type": "execute_result"
    },
    {
     "data": {
      "image/png": "[encoded data removed]",
      "text/plain": [
       "<Figure size 432x288 with 1 Axes>"
      ]
     },
     "metadata": {
      "needs_background": "light"
     },
     "output_type": "display_data"
    }
   ],
   "source": [
    "import matplotlib.pyplot as plt\n",
    "plt.plot(r.history['loss'],label='loss')\n",
    "plt.plot(r.history['val_loss'],label='val_loss')\n",
    "plt.legend()"
   ]
  },
  {
   "cell_type": "code",
   "execution_count": 50,
   "metadata": {},
   "outputs": [
    {
     "data": {
      "text/plain": [
       "<matplotlib.legend.Legend at 0x1a680126608>"
      ]
     },
     "execution_count": 50,
     "metadata": {},
     "output_type": "execute_result"
    },
    {
     "data": {
      "image/png": "[encoded data removed]",
      "text/plain": [
       "<Figure size 432x288 with 1 Axes>"
      ]
     },
     "metadata": {
      "needs_background": "light"
     },
     "output_type": "display_data"
    }
   ],
   "source": [
    "plt.plot(r.history['accuracy'],label='acc')\n",
    "plt.plot(r.history['val_accuracy'],label='val_acc')\n",
    "plt.legend()"
   ]
  },
  {
   "cell_type": "code",
   "execution_count": null,
   "metadata": {},
   "outputs": [],
   "source": []
  }
 ],
 "metadata": {
  "kernelspec": {
   "display_name": "Python 3",
   "language": "python",
   "name": "python3"
  },
  "language_info": {
   "codemirror_mode": {
    "name": "ipython",
    "version": 3
   },
   "file_extension": ".py",
   "mimetype": "text/x-python",
   "name": "python",
   "nbconvert_exporter": "python",
   "pygments_lexer": "ipython3",
   "version": "3.7.7"
  }
 },
 "nbformat": 4,
 "nbformat_minor": 4
}
