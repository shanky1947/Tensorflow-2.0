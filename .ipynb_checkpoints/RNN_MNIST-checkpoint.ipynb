{
 "cells": [
  {
   "cell_type": "code",
   "execution_count": 1,
   "metadata": {},
   "outputs": [],
   "source": [
    "import tensorflow as tf\n",
    "import pandas as pd\n",
    "import numpy as np\n",
    "import matplotlib.pyplot as plt"
   ]
  },
  {
   "cell_type": "code",
   "execution_count": 3,
   "metadata": {},
   "outputs": [],
   "source": [
    "from tensorflow.keras.layers import Input, Dense, LSTM, RNN, GRU, Flatten\n",
    "from tensorflow.keras.models import Model\n",
    "from tensorflow.keras.optimizers import SGD, Adam"
   ]
  },
  {
   "cell_type": "code",
   "execution_count": 10,
   "metadata": {},
   "outputs": [],
   "source": [
    "mnist=tf.keras.datasets.mnist"
   ]
  },
  {
   "cell_type": "code",
   "execution_count": 9,
   "metadata": {},
   "outputs": [],
   "source": [
    "(x_train, y_train), (x_test, y_test)=mnist.load_data()"
   ]
  },
  {
   "cell_type": "code",
   "execution_count": 14,
   "metadata": {},
   "outputs": [],
   "source": [
    "x_train, x_test=x_train/255.0, x_test/255.0"
   ]
  },
  {
   "cell_type": "code",
   "execution_count": 17,
   "metadata": {},
   "outputs": [],
   "source": [
    "T, D=x_train[0].shape"
   ]
  },
  {
   "cell_type": "code",
   "execution_count": 35,
   "metadata": {},
   "outputs": [],
   "source": [
    "i=Input(shape=(T,D))\n",
    "x=LSTM(128)(i)\n",
    "x=Dense(10, activation='softmax')(x)\n",
    "model=Model(i,x)\n",
    "model.compile(loss='sparse_categorical_crossentropy',\n",
    "             optimizer='adam',\n",
    "             metrics=['accuracy'])"
   ]
  },
  {
   "cell_type": "code",
   "execution_count": 36,
   "metadata": {
    "scrolled": true
   },
   "outputs": [
    {
     "name": "stdout",
     "output_type": "stream",
     "text": [
      "Train on 60000 samples, validate on 10000 samples\n",
      "Epoch 1/10\n",
      "60000/60000 [==============================] - 8s 140us/sample - loss: 0.3442 - accuracy: 0.8904 - val_loss: 0.1298 - val_accuracy: 0.9612\n",
      "Epoch 2/10\n",
      "60000/60000 [==============================] - 7s 117us/sample - loss: 0.1082 - accuracy: 0.9675 - val_loss: 0.0850 - val_accuracy: 0.9729\n",
      "Epoch 3/10\n",
      "60000/60000 [==============================] - 7s 116us/sample - loss: 0.0745 - accuracy: 0.9774 - val_loss: 0.0619 - val_accuracy: 0.9803\n",
      "Epoch 4/10\n",
      "60000/60000 [==============================] - 7s 114us/sample - loss: 0.0586 - accuracy: 0.9825 - val_loss: 0.0614 - val_accuracy: 0.9798\n",
      "Epoch 5/10\n",
      "60000/60000 [==============================] - 7s 122us/sample - loss: 0.0478 - accuracy: 0.9854 - val_loss: 0.0595 - val_accuracy: 0.9819\n",
      "Epoch 6/10\n",
      "60000/60000 [==============================] - 7s 118us/sample - loss: 0.0394 - accuracy: 0.9881 - val_loss: 0.0677 - val_accuracy: 0.9791\n",
      "Epoch 7/10\n",
      "60000/60000 [==============================] - 7s 121us/sample - loss: 0.0339 - accuracy: 0.9899 - val_loss: 0.0546 - val_accuracy: 0.9821\n",
      "Epoch 8/10\n",
      "60000/60000 [==============================] - 7s 114us/sample - loss: 0.0299 - accuracy: 0.9909 - val_loss: 0.0444 - val_accuracy: 0.9868\n",
      "Epoch 9/10\n",
      "60000/60000 [==============================] - 7s 113us/sample - loss: 0.0261 - accuracy: 0.9919 - val_loss: 0.0424 - val_accuracy: 0.9870\n",
      "Epoch 10/10\n",
      "60000/60000 [==============================] - 7s 114us/sample - loss: 0.0227 - accuracy: 0.9929 - val_loss: 0.0486 - val_accuracy: 0.9873\n"
     ]
    }
   ],
   "source": [
    "r=model.fit(x_train, y_train, epochs=10, validation_data=(x_test, y_test))"
   ]
  },
  {
   "cell_type": "code",
   "execution_count": 37,
   "metadata": {},
   "outputs": [
    {
     "data": {
      "image/png": "[encoded data removed]",
      "text/plain": [
       "<Figure size 432x288 with 1 Axes>"
      ]
     },
     "metadata": {
      "needs_background": "light"
     },
     "output_type": "display_data"
    }
   ],
   "source": [
    "plt.plot(r.history['loss'],label='loss')\n",
    "plt.plot(r.history['val_loss'],label='val_loss')\n",
    "plt.legend()\n",
    "plt.show()"
   ]
  },
  {
   "cell_type": "code",
   "execution_count": 38,
   "metadata": {},
   "outputs": [
    {
     "data": {
      "image/png": "[encoded data removed]",
      "text/plain": [
       "<Figure size 432x288 with 1 Axes>"
      ]
     },
     "metadata": {
      "needs_background": "light"
     },
     "output_type": "display_data"
    }
   ],
   "source": [
    "plt.plot(r.history['accuracy'],label='accuracy')\n",
    "plt.plot(r.history['val_accuracy'],label='val_accuracy')\n",
    "plt.legend()\n",
    "plt.show()"
   ]
  },
  {
   "cell_type": "code",
   "execution_count": 39,
   "metadata": {},
   "outputs": [
    {
     "name": "stdout",
     "output_type": "stream",
     "text": [
      "10000/10000 [==============================] - 1s 76us/sample - loss: 0.0486 - accuracy: 0.9873\n"
     ]
    },
    {
     "data": {
      "text/plain": [
       "[0.04862239297213964, 0.9873]"
      ]
     },
     "execution_count": 39,
     "metadata": {},
     "output_type": "execute_result"
    }
   ],
   "source": [
    "model.evaluate(x_test, y_test)"
   ]
  },
  {
   "cell_type": "code",
   "execution_count": null,
   "metadata": {},
   "outputs": [],
   "source": []
  }
 ],
 "metadata": {
  "kernelspec": {
   "display_name": "Python 3",
   "language": "python",
   "name": "python3"
  },
  "language_info": {
   "codemirror_mode": {
    "name": "ipython",
    "version": 3
   },
   "file_extension": ".py",
   "mimetype": "text/x-python",
   "name": "python",
   "nbconvert_exporter": "python",
   "pygments_lexer": "ipython3",
   "version": "3.7.7"
  }
 },
 "nbformat": 4,
 "nbformat_minor": 4
}
