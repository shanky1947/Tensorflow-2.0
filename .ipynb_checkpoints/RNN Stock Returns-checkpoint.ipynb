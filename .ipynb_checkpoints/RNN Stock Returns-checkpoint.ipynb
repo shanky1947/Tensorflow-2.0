{
 "cells": [
  {
   "cell_type": "code",
   "execution_count": 1,
   "metadata": {},
   "outputs": [],
   "source": [
    " import tensorflow as tf\n",
    "import pandas as pd\n",
    "import numpy as np\n",
    "import matplotlib.pyplot as plt"
   ]
  },
  {
   "cell_type": "code",
   "execution_count": 2,
   "metadata": {},
   "outputs": [],
   "source": [
    "from tensorflow.keras.layers import Input, Dense, LSTM, RNN, GRU, Flatten\n",
    "from tensorflow.keras.models import Model\n",
    "from tensorflow.keras.optimizers import SGD, Adam\n",
    "from sklearn.preprocessing import StandardScaler"
   ]
  },
  {
   "cell_type": "code",
   "execution_count": 3,
   "metadata": {},
   "outputs": [],
   "source": [
    "data=pd.read_csv(\"D://ML/Lazy_Programmer_GitHub/tf2.0/sbux.csv\")"
   ]
  },
  {
   "cell_type": "code",
   "execution_count": 4,
   "metadata": {},
   "outputs": [
    {
     "data": {
      "text/html": [
       "<div>\n",
       "<style scoped>\n",
       "    .dataframe tbody tr th:only-of-type {\n",
       "        vertical-align: middle;\n",
       "    }\n",
       "\n",
       "    .dataframe tbody tr th {\n",
       "        vertical-align: top;\n",
       "    }\n",
       "\n",
       "    .dataframe thead th {\n",
       "        text-align: right;\n",
       "    }\n",
       "</style>\n",
       "<table border=\"1\" class=\"dataframe\">\n",
       "  <thead>\n",
       "    <tr style=\"text-align: right;\">\n",
       "      <th></th>\n",
       "      <th>date</th>\n",
       "      <th>open</th>\n",
       "      <th>high</th>\n",
       "      <th>low</th>\n",
       "      <th>close</th>\n",
       "      <th>volume</th>\n",
       "      <th>Name</th>\n",
       "    </tr>\n",
       "  </thead>\n",
       "  <tbody>\n",
       "    <tr>\n",
       "      <th>0</th>\n",
       "      <td>2013-02-08</td>\n",
       "      <td>27.920</td>\n",
       "      <td>28.325</td>\n",
       "      <td>27.920</td>\n",
       "      <td>28.185</td>\n",
       "      <td>7146296</td>\n",
       "      <td>SBUX</td>\n",
       "    </tr>\n",
       "    <tr>\n",
       "      <th>1</th>\n",
       "      <td>2013-02-11</td>\n",
       "      <td>28.260</td>\n",
       "      <td>28.260</td>\n",
       "      <td>27.930</td>\n",
       "      <td>28.070</td>\n",
       "      <td>5457354</td>\n",
       "      <td>SBUX</td>\n",
       "    </tr>\n",
       "    <tr>\n",
       "      <th>2</th>\n",
       "      <td>2013-02-12</td>\n",
       "      <td>28.000</td>\n",
       "      <td>28.275</td>\n",
       "      <td>27.975</td>\n",
       "      <td>28.130</td>\n",
       "      <td>8665592</td>\n",
       "      <td>SBUX</td>\n",
       "    </tr>\n",
       "    <tr>\n",
       "      <th>3</th>\n",
       "      <td>2013-02-13</td>\n",
       "      <td>28.230</td>\n",
       "      <td>28.230</td>\n",
       "      <td>27.750</td>\n",
       "      <td>27.915</td>\n",
       "      <td>7022056</td>\n",
       "      <td>SBUX</td>\n",
       "    </tr>\n",
       "    <tr>\n",
       "      <th>4</th>\n",
       "      <td>2013-02-14</td>\n",
       "      <td>27.765</td>\n",
       "      <td>27.905</td>\n",
       "      <td>27.675</td>\n",
       "      <td>27.775</td>\n",
       "      <td>8899188</td>\n",
       "      <td>SBUX</td>\n",
       "    </tr>\n",
       "  </tbody>\n",
       "</table>\n",
       "</div>"
      ],
      "text/plain": [
       "         date    open    high     low   close   volume  Name\n",
       "0  2013-02-08  27.920  28.325  27.920  28.185  7146296  SBUX\n",
       "1  2013-02-11  28.260  28.260  27.930  28.070  5457354  SBUX\n",
       "2  2013-02-12  28.000  28.275  27.975  28.130  8665592  SBUX\n",
       "3  2013-02-13  28.230  28.230  27.750  27.915  7022056  SBUX\n",
       "4  2013-02-14  27.765  27.905  27.675  27.775  8899188  SBUX"
      ]
     },
     "execution_count": 4,
     "metadata": {},
     "output_type": "execute_result"
    }
   ],
   "source": [
    "data.head()"
   ]
  },
  {
   "cell_type": "code",
   "execution_count": 5,
   "metadata": {},
   "outputs": [
    {
     "data": {
      "text/html": [
       "<div>\n",
       "<style scoped>\n",
       "    .dataframe tbody tr th:only-of-type {\n",
       "        vertical-align: middle;\n",
       "    }\n",
       "\n",
       "    .dataframe tbody tr th {\n",
       "        vertical-align: top;\n",
       "    }\n",
       "\n",
       "    .dataframe thead th {\n",
       "        text-align: right;\n",
       "    }\n",
       "</style>\n",
       "<table border=\"1\" class=\"dataframe\">\n",
       "  <thead>\n",
       "    <tr style=\"text-align: right;\">\n",
       "      <th></th>\n",
       "      <th>date</th>\n",
       "      <th>open</th>\n",
       "      <th>high</th>\n",
       "      <th>low</th>\n",
       "      <th>close</th>\n",
       "      <th>volume</th>\n",
       "      <th>Name</th>\n",
       "    </tr>\n",
       "  </thead>\n",
       "  <tbody>\n",
       "    <tr>\n",
       "      <th>1254</th>\n",
       "      <td>2018-02-01</td>\n",
       "      <td>56.280</td>\n",
       "      <td>56.42</td>\n",
       "      <td>55.89</td>\n",
       "      <td>56.00</td>\n",
       "      <td>14690146</td>\n",
       "      <td>SBUX</td>\n",
       "    </tr>\n",
       "    <tr>\n",
       "      <th>1255</th>\n",
       "      <td>2018-02-02</td>\n",
       "      <td>55.900</td>\n",
       "      <td>56.32</td>\n",
       "      <td>55.70</td>\n",
       "      <td>55.77</td>\n",
       "      <td>15358909</td>\n",
       "      <td>SBUX</td>\n",
       "    </tr>\n",
       "    <tr>\n",
       "      <th>1256</th>\n",
       "      <td>2018-02-05</td>\n",
       "      <td>55.530</td>\n",
       "      <td>56.26</td>\n",
       "      <td>54.57</td>\n",
       "      <td>54.69</td>\n",
       "      <td>16059955</td>\n",
       "      <td>SBUX</td>\n",
       "    </tr>\n",
       "    <tr>\n",
       "      <th>1257</th>\n",
       "      <td>2018-02-06</td>\n",
       "      <td>53.685</td>\n",
       "      <td>56.06</td>\n",
       "      <td>53.56</td>\n",
       "      <td>55.61</td>\n",
       "      <td>17415065</td>\n",
       "      <td>SBUX</td>\n",
       "    </tr>\n",
       "    <tr>\n",
       "      <th>1258</th>\n",
       "      <td>2018-02-07</td>\n",
       "      <td>55.080</td>\n",
       "      <td>55.43</td>\n",
       "      <td>54.44</td>\n",
       "      <td>54.46</td>\n",
       "      <td>13927022</td>\n",
       "      <td>SBUX</td>\n",
       "    </tr>\n",
       "  </tbody>\n",
       "</table>\n",
       "</div>"
      ],
      "text/plain": [
       "            date    open   high    low  close    volume  Name\n",
       "1254  2018-02-01  56.280  56.42  55.89  56.00  14690146  SBUX\n",
       "1255  2018-02-02  55.900  56.32  55.70  55.77  15358909  SBUX\n",
       "1256  2018-02-05  55.530  56.26  54.57  54.69  16059955  SBUX\n",
       "1257  2018-02-06  53.685  56.06  53.56  55.61  17415065  SBUX\n",
       "1258  2018-02-07  55.080  55.43  54.44  54.46  13927022  SBUX"
      ]
     },
     "execution_count": 5,
     "metadata": {},
     "output_type": "execute_result"
    }
   ],
   "source": [
    "data.tail()"
   ]
  },
  {
   "cell_type": "markdown",
   "metadata": {},
   "source": [
    "## 1st approach(using only close price)"
   ]
  },
  {
   "cell_type": "code",
   "execution_count": 6,
   "metadata": {},
   "outputs": [
    {
     "data": {
      "text/plain": [
       "(1259, 1)"
      ]
     },
     "execution_count": 6,
     "metadata": {},
     "output_type": "execute_result"
    }
   ],
   "source": [
    "series=data['close'].values.reshape(-1,1)  #applying reshaping to xhange data into standard normal\n",
    "series.shape"
   ]
  },
  {
   "cell_type": "code",
   "execution_count": null,
   "metadata": {},
   "outputs": [],
   "source": []
  },
  {
   "cell_type": "code",
   "execution_count": 7,
   "metadata": {},
   "outputs": [
    {
     "data": {
      "text/plain": [
       "array([[-1.62500489],\n",
       "       [-1.64174953],\n",
       "       [-1.6330132 ],\n",
       "       ...,\n",
       "       [ 2.2342704 ],\n",
       "       [ 2.36822751],\n",
       "       [ 2.20078112]])"
      ]
     },
     "execution_count": 7,
     "metadata": {},
     "output_type": "execute_result"
    }
   ],
   "source": [
    "scaler=StandardScaler()\n",
    "scaler.fit(series[:len(series)//2])  #approx between value is taken as boundary betweem test and train set\n",
    "series=scaler.transform(series)\n",
    "series"
   ]
  },
  {
   "cell_type": "code",
   "execution_count": 8,
   "metadata": {},
   "outputs": [
    {
     "data": {
      "text/plain": [
       "array([-1.62500489, -1.64174953, -1.6330132 , ...,  2.2342704 ,\n",
       "        2.36822751,  2.20078112])"
      ]
     },
     "execution_count": 8,
     "metadata": {},
     "output_type": "execute_result"
    }
   ],
   "source": [
    "series=series.flatten() #flattening because we have to spit data into features and labels by splitting(take windows)\n",
    "series"
   ]
  },
  {
   "cell_type": "code",
   "execution_count": 9,
   "metadata": {},
   "outputs": [
    {
     "name": "stdout",
     "output_type": "stream",
     "text": [
      "(1249, 10, 1) (1249,)\n"
     ]
    }
   ],
   "source": [
    "T=10\n",
    "D=1\n",
    "X=[]\n",
    "Y=[]\n",
    "for t in range(len(series)-T):\n",
    "    x=series[t:t+T]\n",
    "    X.append(x)\n",
    "    y=series[t+T]\n",
    "    Y.append(y)\n",
    "\n",
    "X=np.array(X).reshape(-1, T, 1)\n",
    "Y=np.array(Y)\n",
    "N=len(X)\n",
    "print(X.shape, Y.shape)"
   ]
  },
  {
   "cell_type": "code",
   "execution_count": 10,
   "metadata": {},
   "outputs": [],
   "source": [
    "i=Input(shape=(T,1))\n",
    "x=LSTM(5)(i)\n",
    "x=Dense(1)(x)\n",
    "model=Model(i,x)\n",
    "model.compile(loss='mse',\n",
    "             optimizer=Adam(lr=0.1))"
   ]
  },
  {
   "cell_type": "code",
   "execution_count": 11,
   "metadata": {
    "scrolled": true
   },
   "outputs": [
    {
     "name": "stdout",
     "output_type": "stream",
     "text": [
      "Train on 624 samples, validate on 625 samples\n",
      "Epoch 1/10\n",
      "624/624 [==============================] - 4s 7ms/sample - loss: 0.2861 - val_loss: 0.1892\n",
      "Epoch 2/10\n",
      "624/624 [==============================] - 0s 187us/sample - loss: 0.0152 - val_loss: 0.0597\n",
      "Epoch 3/10\n",
      "624/624 [==============================] - 0s 175us/sample - loss: 0.0089 - val_loss: 0.0400\n",
      "Epoch 4/10\n",
      "624/624 [==============================] - 0s 171us/sample - loss: 0.0066 - val_loss: 0.0347\n",
      "Epoch 5/10\n",
      "624/624 [==============================] - 0s 174us/sample - loss: 0.0059 - val_loss: 0.0337\n",
      "Epoch 6/10\n",
      "624/624 [==============================] - 0s 165us/sample - loss: 0.0064 - val_loss: 0.0406\n",
      "Epoch 7/10\n",
      "624/624 [==============================] - 0s 173us/sample - loss: 0.0060 - val_loss: 0.0443\n",
      "Epoch 8/10\n",
      "624/624 [==============================] - 0s 212us/sample - loss: 0.0060 - val_loss: 0.0321\n",
      "Epoch 9/10\n",
      "624/624 [==============================] - 0s 205us/sample - loss: 0.0064 - val_loss: 0.0557\n",
      "Epoch 10/10\n",
      "624/624 [==============================] - 0s 206us/sample - loss: 0.0064 - val_loss: 0.0599\n"
     ]
    }
   ],
   "source": [
    "r=model.fit(X[:-N//2], Y[:-N//2], epochs=10, validation_data=(X[-N//2:],Y[-N//2:]))"
   ]
  },
  {
   "cell_type": "code",
   "execution_count": 12,
   "metadata": {},
   "outputs": [
    {
     "data": {
      "image/png": "[encoded data removed]",
      "text/plain": [
       "<Figure size 432x288 with 1 Axes>"
      ]
     },
     "metadata": {
      "needs_background": "light"
     },
     "output_type": "display_data"
    }
   ],
   "source": [
    "plt.plot(r.history['loss'],label='loss')\n",
    "plt.plot(r.history['val_loss'],label='val_loss')\n",
    "plt.legend()\n",
    "plt.show()"
   ]
  },
  {
   "cell_type": "markdown",
   "metadata": {},
   "source": [
    "## 2nd approach(Using stock return)"
   ]
  },
  {
   "cell_type": "code",
   "execution_count": 6,
   "metadata": {},
   "outputs": [],
   "source": [
    "#calculate return by shifting values by 1\n",
    "data['PrevClose']=data['close'].shift(1)"
   ]
  },
  {
   "cell_type": "code",
   "execution_count": 7,
   "metadata": {},
   "outputs": [
    {
     "data": {
      "text/html": [
       "<div>\n",
       "<style scoped>\n",
       "    .dataframe tbody tr th:only-of-type {\n",
       "        vertical-align: middle;\n",
       "    }\n",
       "\n",
       "    .dataframe tbody tr th {\n",
       "        vertical-align: top;\n",
       "    }\n",
       "\n",
       "    .dataframe thead th {\n",
       "        text-align: right;\n",
       "    }\n",
       "</style>\n",
       "<table border=\"1\" class=\"dataframe\">\n",
       "  <thead>\n",
       "    <tr style=\"text-align: right;\">\n",
       "      <th></th>\n",
       "      <th>date</th>\n",
       "      <th>open</th>\n",
       "      <th>high</th>\n",
       "      <th>low</th>\n",
       "      <th>close</th>\n",
       "      <th>volume</th>\n",
       "      <th>Name</th>\n",
       "      <th>PrevClose</th>\n",
       "    </tr>\n",
       "  </thead>\n",
       "  <tbody>\n",
       "    <tr>\n",
       "      <th>0</th>\n",
       "      <td>2013-02-08</td>\n",
       "      <td>27.920</td>\n",
       "      <td>28.325</td>\n",
       "      <td>27.920</td>\n",
       "      <td>28.185</td>\n",
       "      <td>7146296</td>\n",
       "      <td>SBUX</td>\n",
       "      <td>NaN</td>\n",
       "    </tr>\n",
       "    <tr>\n",
       "      <th>1</th>\n",
       "      <td>2013-02-11</td>\n",
       "      <td>28.260</td>\n",
       "      <td>28.260</td>\n",
       "      <td>27.930</td>\n",
       "      <td>28.070</td>\n",
       "      <td>5457354</td>\n",
       "      <td>SBUX</td>\n",
       "      <td>28.185</td>\n",
       "    </tr>\n",
       "    <tr>\n",
       "      <th>2</th>\n",
       "      <td>2013-02-12</td>\n",
       "      <td>28.000</td>\n",
       "      <td>28.275</td>\n",
       "      <td>27.975</td>\n",
       "      <td>28.130</td>\n",
       "      <td>8665592</td>\n",
       "      <td>SBUX</td>\n",
       "      <td>28.070</td>\n",
       "    </tr>\n",
       "    <tr>\n",
       "      <th>3</th>\n",
       "      <td>2013-02-13</td>\n",
       "      <td>28.230</td>\n",
       "      <td>28.230</td>\n",
       "      <td>27.750</td>\n",
       "      <td>27.915</td>\n",
       "      <td>7022056</td>\n",
       "      <td>SBUX</td>\n",
       "      <td>28.130</td>\n",
       "    </tr>\n",
       "    <tr>\n",
       "      <th>4</th>\n",
       "      <td>2013-02-14</td>\n",
       "      <td>27.765</td>\n",
       "      <td>27.905</td>\n",
       "      <td>27.675</td>\n",
       "      <td>27.775</td>\n",
       "      <td>8899188</td>\n",
       "      <td>SBUX</td>\n",
       "      <td>27.915</td>\n",
       "    </tr>\n",
       "  </tbody>\n",
       "</table>\n",
       "</div>"
      ],
      "text/plain": [
       "         date    open    high     low   close   volume  Name  PrevClose\n",
       "0  2013-02-08  27.920  28.325  27.920  28.185  7146296  SBUX        NaN\n",
       "1  2013-02-11  28.260  28.260  27.930  28.070  5457354  SBUX     28.185\n",
       "2  2013-02-12  28.000  28.275  27.975  28.130  8665592  SBUX     28.070\n",
       "3  2013-02-13  28.230  28.230  27.750  27.915  7022056  SBUX     28.130\n",
       "4  2013-02-14  27.765  27.905  27.675  27.775  8899188  SBUX     27.915"
      ]
     },
     "execution_count": 7,
     "metadata": {},
     "output_type": "execute_result"
    }
   ],
   "source": [
    "data.head()"
   ]
  },
  {
   "cell_type": "code",
   "execution_count": 8,
   "metadata": {},
   "outputs": [],
   "source": [
    "#calculate return as (x[t]-x[t-1]/x[t-1])\n",
    "data['Return']=(data['close']-data['PrevClose'])/data['PrevClose']"
   ]
  },
  {
   "cell_type": "code",
   "execution_count": 9,
   "metadata": {},
   "outputs": [
    {
     "data": {
      "text/html": [
       "<div>\n",
       "<style scoped>\n",
       "    .dataframe tbody tr th:only-of-type {\n",
       "        vertical-align: middle;\n",
       "    }\n",
       "\n",
       "    .dataframe tbody tr th {\n",
       "        vertical-align: top;\n",
       "    }\n",
       "\n",
       "    .dataframe thead th {\n",
       "        text-align: right;\n",
       "    }\n",
       "</style>\n",
       "<table border=\"1\" class=\"dataframe\">\n",
       "  <thead>\n",
       "    <tr style=\"text-align: right;\">\n",
       "      <th></th>\n",
       "      <th>date</th>\n",
       "      <th>open</th>\n",
       "      <th>high</th>\n",
       "      <th>low</th>\n",
       "      <th>close</th>\n",
       "      <th>volume</th>\n",
       "      <th>Name</th>\n",
       "      <th>PrevClose</th>\n",
       "      <th>Return</th>\n",
       "    </tr>\n",
       "  </thead>\n",
       "  <tbody>\n",
       "    <tr>\n",
       "      <th>0</th>\n",
       "      <td>2013-02-08</td>\n",
       "      <td>27.920</td>\n",
       "      <td>28.325</td>\n",
       "      <td>27.920</td>\n",
       "      <td>28.185</td>\n",
       "      <td>7146296</td>\n",
       "      <td>SBUX</td>\n",
       "      <td>NaN</td>\n",
       "      <td>NaN</td>\n",
       "    </tr>\n",
       "    <tr>\n",
       "      <th>1</th>\n",
       "      <td>2013-02-11</td>\n",
       "      <td>28.260</td>\n",
       "      <td>28.260</td>\n",
       "      <td>27.930</td>\n",
       "      <td>28.070</td>\n",
       "      <td>5457354</td>\n",
       "      <td>SBUX</td>\n",
       "      <td>28.185</td>\n",
       "      <td>-0.004080</td>\n",
       "    </tr>\n",
       "    <tr>\n",
       "      <th>2</th>\n",
       "      <td>2013-02-12</td>\n",
       "      <td>28.000</td>\n",
       "      <td>28.275</td>\n",
       "      <td>27.975</td>\n",
       "      <td>28.130</td>\n",
       "      <td>8665592</td>\n",
       "      <td>SBUX</td>\n",
       "      <td>28.070</td>\n",
       "      <td>0.002138</td>\n",
       "    </tr>\n",
       "    <tr>\n",
       "      <th>3</th>\n",
       "      <td>2013-02-13</td>\n",
       "      <td>28.230</td>\n",
       "      <td>28.230</td>\n",
       "      <td>27.750</td>\n",
       "      <td>27.915</td>\n",
       "      <td>7022056</td>\n",
       "      <td>SBUX</td>\n",
       "      <td>28.130</td>\n",
       "      <td>-0.007643</td>\n",
       "    </tr>\n",
       "    <tr>\n",
       "      <th>4</th>\n",
       "      <td>2013-02-14</td>\n",
       "      <td>27.765</td>\n",
       "      <td>27.905</td>\n",
       "      <td>27.675</td>\n",
       "      <td>27.775</td>\n",
       "      <td>8899188</td>\n",
       "      <td>SBUX</td>\n",
       "      <td>27.915</td>\n",
       "      <td>-0.005015</td>\n",
       "    </tr>\n",
       "  </tbody>\n",
       "</table>\n",
       "</div>"
      ],
      "text/plain": [
       "         date    open    high     low   close   volume  Name  PrevClose  \\\n",
       "0  2013-02-08  27.920  28.325  27.920  28.185  7146296  SBUX        NaN   \n",
       "1  2013-02-11  28.260  28.260  27.930  28.070  5457354  SBUX     28.185   \n",
       "2  2013-02-12  28.000  28.275  27.975  28.130  8665592  SBUX     28.070   \n",
       "3  2013-02-13  28.230  28.230  27.750  27.915  7022056  SBUX     28.130   \n",
       "4  2013-02-14  27.765  27.905  27.675  27.775  8899188  SBUX     27.915   \n",
       "\n",
       "     Return  \n",
       "0       NaN  \n",
       "1 -0.004080  \n",
       "2  0.002138  \n",
       "3 -0.007643  \n",
       "4 -0.005015  "
      ]
     },
     "execution_count": 9,
     "metadata": {},
     "output_type": "execute_result"
    }
   ],
   "source": [
    "data.head()"
   ]
  },
  {
   "cell_type": "code",
   "execution_count": 10,
   "metadata": {},
   "outputs": [
    {
     "data": {
      "text/plain": [
       "<matplotlib.axes._subplots.AxesSubplot at 0x1cec84eeb08>"
      ]
     },
     "execution_count": 10,
     "metadata": {},
     "output_type": "execute_result"
    },
    {
     "data": {
      "image/png": "[encoded data removed]",
      "text/plain": [
       "<Figure size 432x288 with 1 Axes>"
      ]
     },
     "metadata": {
      "needs_background": "light"
     },
     "output_type": "display_data"
    }
   ],
   "source": [
    "data['Return'].hist()"
   ]
  },
  {
   "cell_type": "code",
   "execution_count": 34,
   "metadata": {},
   "outputs": [
    {
     "data": {
      "text/plain": [
       "array([[        nan],\n",
       "       [-0.00408018],\n",
       "       [ 0.00213751],\n",
       "       ...,\n",
       "       [-0.01936525],\n",
       "       [ 0.01682209],\n",
       "       [-0.02067973]])"
      ]
     },
     "execution_count": 34,
     "metadata": {},
     "output_type": "execute_result"
    }
   ],
   "source": [
    "#Since values are so small so we will first normalize it before feeding into LSTM\n",
    "series=data['Return'].values.reshape(-1,1)\n",
    "series"
   ]
  },
  {
   "cell_type": "code",
   "execution_count": 35,
   "metadata": {},
   "outputs": [],
   "source": [
    "scaler=StandardScaler()\n",
    "scaler.fit(series[:len(series)//2])\n",
    "series=scaler.transform(series).flatten()\n",
    "series=series[1:len(series)]"
   ]
  },
  {
   "cell_type": "code",
   "execution_count": 36,
   "metadata": {},
   "outputs": [
    {
     "data": {
      "text/plain": [
       "array([-0.44082529,  0.07836923, -0.73833714, ..., -1.71716944,\n",
       "        1.30457077, -1.82693238])"
      ]
     },
     "execution_count": 36,
     "metadata": {},
     "output_type": "execute_result"
    }
   ],
   "source": [
    "series"
   ]
  },
  {
   "cell_type": "code",
   "execution_count": 37,
   "metadata": {},
   "outputs": [
    {
     "name": "stdout",
     "output_type": "stream",
     "text": [
      "(1248, 10, 1) (1248,)\n"
     ]
    }
   ],
   "source": [
    "T=10\n",
    "D=1\n",
    "X=[]\n",
    "Y=[]\n",
    "for t in range(len(series)-T):\n",
    "    x=series[t:t+T]\n",
    "    X.append(x)\n",
    "    y=series[t+T]\n",
    "    Y.append(y)\n",
    "X=np.array(X).reshape(-1,T,1)\n",
    "Y=np.array(Y)\n",
    "N=len(X)\n",
    "print(X.shape, Y.shape)"
   ]
  },
  {
   "cell_type": "code",
   "execution_count": 14,
   "metadata": {},
   "outputs": [],
   "source": [
    "i=Input(shape=(T,1))\n",
    "x=LSTM(5)(i)\n",
    "x=Dense(1)(x)\n",
    "model=Model(i,x)\n",
    "model.compile(loss='mse',\n",
    "             optimizer=Adam(lr=0.01))"
   ]
  },
  {
   "cell_type": "code",
   "execution_count": 21,
   "metadata": {},
   "outputs": [
    {
     "data": {
      "text/plain": [
       "array([-1.57995249,  0.00973242,  1.92162425, ..., -1.71716944,\n",
       "        1.30457077, -1.82693238])"
      ]
     },
     "execution_count": 21,
     "metadata": {},
     "output_type": "execute_result"
    }
   ],
   "source": [
    "Y"
   ]
  },
  {
   "cell_type": "code",
   "execution_count": 38,
   "metadata": {
    "scrolled": true
   },
   "outputs": [
    {
     "name": "stdout",
     "output_type": "stream",
     "text": [
      "Train on 624 samples, validate on 624 samples\n",
      "Epoch 1/10\n",
      "624/624 [==============================] - 0s 174us/sample - loss: nan - val_loss: nan\n",
      "Epoch 2/10\n",
      "624/624 [==============================] - 0s 146us/sample - loss: nan - val_loss: nan\n",
      "Epoch 3/10\n",
      "624/624 [==============================] - 0s 154us/sample - loss: nan - val_loss: nan\n",
      "Epoch 4/10\n",
      "624/624 [==============================] - 0s 154us/sample - loss: nan - val_loss: nan\n",
      "Epoch 5/10\n",
      "624/624 [==============================] - 0s 153us/sample - loss: nan - val_loss: nan\n",
      "Epoch 6/10\n",
      "624/624 [==============================] - 0s 150us/sample - loss: nan - val_loss: nan\n",
      "Epoch 7/10\n",
      "624/624 [==============================] - 0s 146us/sample - loss: nan - val_loss: nan\n",
      "Epoch 8/10\n",
      "624/624 [==============================] - 0s 155us/sample - loss: nan - val_loss: nan\n",
      "Epoch 9/10\n",
      "624/624 [==============================] - 0s 146us/sample - loss: nan - val_loss: nan\n",
      "Epoch 10/10\n",
      "624/624 [==============================] - 0s 148us/sample - loss: nan - val_loss: nan\n"
     ]
    }
   ],
   "source": [
    "r=model.fit(X[:-N//2], Y[:-N//2], epochs=10, validation_data=(X[-N//2:],Y[-N//2:]))"
   ]
  },
  {
   "cell_type": "code",
   "execution_count": null,
   "metadata": {},
   "outputs": [],
   "source": [
    "plt.plot(r.history['loss'],label='loss')\n",
    "plt.plot(r.history['val_loss'],label='val_loss')\n",
    "plt.legend()\n",
    "plt.show()"
   ]
  },
  {
   "cell_type": "code",
   "execution_count": null,
   "metadata": {},
   "outputs": [],
   "source": [
    "output=model.predict(X)\n",
    "#print(output.shape)\n",
    "pred=output[:,0]\n",
    "\n",
    "plt.plot(Y, label='target')\n",
    "plt.plot(pred, label='pred')\n",
    "plt.legend()\n",
    "plt.show()"
   ]
  },
  {
   "cell_type": "code",
   "execution_count": null,
   "metadata": {},
   "outputs": [],
   "source": [
    "validation_target=Y[-N//2:]\n",
    "validation_predictions=[]\n",
    "\n",
    "last_x=X[-N//2]\n",
    "while(len(validation_predictions)<len(validation_target)):\n",
    "    pred=model.predict(last_x.reshape(1,-1,1))[0,0]\n",
    "    validation_predictions.append(pred)\n",
    "    \n",
    "    last_x=np.roll(last_x,-1)\n",
    "    last_x[-1]=pred\n",
    "plt.plot(validation_target,label='validation_target')\n",
    "plt.plot(validation_predictions,label='validation_predictions')\n",
    "plt.legend()\n",
    "plt.show()"
   ]
  },
  {
   "cell_type": "markdown",
   "metadata": {},
   "source": [
    "## 3rd approach(Multiple input feature binary classifier)"
   ]
  },
  {
   "cell_type": "code",
   "execution_count": 40,
   "metadata": {},
   "outputs": [
    {
     "data": {
      "text/plain": [
       "(1259, 5)"
      ]
     },
     "execution_count": 40,
     "metadata": {},
     "output_type": "execute_result"
    }
   ],
   "source": [
    "input_data=data[['open', 'high', 'low', 'close', 'volume']].values\n",
    "input_data.shape"
   ]
  },
  {
   "cell_type": "code",
   "execution_count": 41,
   "metadata": {},
   "outputs": [
    {
     "data": {
      "text/plain": [
       "array([        nan, -0.00408018,  0.00213751, ..., -0.01936525,\n",
       "        0.01682209, -0.02067973])"
      ]
     },
     "execution_count": 41,
     "metadata": {},
     "output_type": "execute_result"
    }
   ],
   "source": [
    "targets=data['Return'].values\n",
    "targets"
   ]
  },
  {
   "cell_type": "code",
   "execution_count": 67,
   "metadata": {},
   "outputs": [
    {
     "name": "stdout",
     "output_type": "stream",
     "text": [
      "5 1259\n"
     ]
    }
   ],
   "source": [
    "T=10\n",
    "D=input_data.shape[1]\n",
    "N=len(input_data)\n",
    "print(D,N)"
   ]
  },
  {
   "cell_type": "markdown",
   "metadata": {},
   "source": [
    "## Creating train set"
   ]
  },
  {
   "cell_type": "code",
   "execution_count": 68,
   "metadata": {},
   "outputs": [],
   "source": [
    "Ntrain=len(input_data)*2//3\n",
    "scaler=StandardScaler()\n",
    "scaler.fit(input_data[:Ntrain+T])\n",
    "input_data=scaler.transform(input_data)"
   ]
  },
  {
   "cell_type": "code",
   "execution_count": 69,
   "metadata": {},
   "outputs": [],
   "source": [
    "X_train=np.zeros((Ntrain, T, D))\n",
    "Y_train=np.zeros(Ntrain)"
   ]
  },
  {
   "cell_type": "code",
   "execution_count": 73,
   "metadata": {},
   "outputs": [],
   "source": [
    "for t in range(Ntrain):\n",
    "    X_train[t,:,:]=input_data[t:t+T]\n",
    "    Y_train[t]=(targets[t+T]>0)"
   ]
  },
  {
   "cell_type": "markdown",
   "metadata": {},
   "source": [
    "## Creating test set"
   ]
  },
  {
   "cell_type": "code",
   "execution_count": 76,
   "metadata": {},
   "outputs": [],
   "source": [
    "X_test=np.zeros((N-Ntrain, T, D))\n",
    "Y_test=np.zeros(N-Ntrain)"
   ]
  },
  {
   "cell_type": "code",
   "execution_count": 80,
   "metadata": {},
   "outputs": [],
   "source": [
    "for t in range(N-Ntrain):\n",
    "    X_test[t,:,:]=input_data[t:t+T]\n",
    "    Y_test[t]=(targets[t+T]>0)"
   ]
  },
  {
   "cell_type": "code",
   "execution_count": null,
   "metadata": {},
   "outputs": [],
   "source": [
    "i=Input(shape=(T,1))\n",
    "x=LSTM(5)(i)\n",
    "x=Dense(1)(x)\n",
    "model=Model(i,x)\n",
    "model.compile(loss='mse',\n",
    "             optimizer=Adam(lr=0.01))"
   ]
  },
  {
   "cell_type": "code",
   "execution_count": null,
   "metadata": {},
   "outputs": [],
   "source": [
    "r=model.fit(X[:-N//2], Y[:-N//2], epochs=10, validation_data=(X[-N//2:],Y[-N//2:]))"
   ]
  },
  {
   "cell_type": "code",
   "execution_count": null,
   "metadata": {},
   "outputs": [],
   "source": [
    "plt.plot(r.history['loss'],label='loss')\n",
    "plt.plot(r.history['val_loss'],label='val_loss')\n",
    "plt.legend()\n",
    "plt.show()"
   ]
  },
  {
   "cell_type": "code",
   "execution_count": null,
   "metadata": {},
   "outputs": [],
   "source": []
  }
 ],
 "metadata": {
  "kernelspec": {
   "display_name": "Python 3",
   "language": "python",
   "name": "python3"
  },
  "language_info": {
   "codemirror_mode": {
    "name": "ipython",
    "version": 3
   },
   "file_extension": ".py",
   "mimetype": "text/x-python",
   "name": "python",
   "nbconvert_exporter": "python",
   "pygments_lexer": "ipython3",
   "version": "3.7.7"
  }
 },
 "nbformat": 4,
 "nbformat_minor": 4
}
