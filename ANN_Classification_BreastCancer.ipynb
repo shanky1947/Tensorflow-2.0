{
 "cells": [
  {
   "cell_type": "code",
   "execution_count": 1,
   "metadata": {},
   "outputs": [],
   "source": [
    "import tensorflow as tf"
   ]
  },
  {
   "cell_type": "code",
   "execution_count": 2,
   "metadata": {},
   "outputs": [],
   "source": [
    "from sklearn.datasets import load_breast_cancer"
   ]
  },
  {
   "cell_type": "code",
   "execution_count": 3,
   "metadata": {},
   "outputs": [],
   "source": [
    "data=load_breast_cancer()"
   ]
  },
  {
   "cell_type": "code",
   "execution_count": 4,
   "metadata": {},
   "outputs": [
    {
     "data": {
      "text/plain": [
       "sklearn.utils.Bunch"
      ]
     },
     "execution_count": 4,
     "metadata": {},
     "output_type": "execute_result"
    }
   ],
   "source": [
    "type(data)"
   ]
  },
  {
   "cell_type": "code",
   "execution_count": 5,
   "metadata": {},
   "outputs": [
    {
     "data": {
      "text/plain": [
       "dict_keys(['data', 'target', 'target_names', 'DESCR', 'feature_names', 'filename'])"
      ]
     },
     "execution_count": 5,
     "metadata": {},
     "output_type": "execute_result"
    }
   ],
   "source": [
    "data.keys()"
   ]
  },
  {
   "cell_type": "code",
   "execution_count": 6,
   "metadata": {},
   "outputs": [
    {
     "data": {
      "text/plain": [
       "(569, 30)"
      ]
     },
     "execution_count": 6,
     "metadata": {},
     "output_type": "execute_result"
    }
   ],
   "source": [
    "data.data.shape"
   ]
  },
  {
   "cell_type": "code",
   "execution_count": 7,
   "metadata": {},
   "outputs": [
    {
     "data": {
      "text/plain": [
       "array([[1.799e+01, 1.038e+01, 1.228e+02, ..., 2.654e-01, 4.601e-01,\n",
       "        1.189e-01],\n",
       "       [2.057e+01, 1.777e+01, 1.329e+02, ..., 1.860e-01, 2.750e-01,\n",
       "        8.902e-02],\n",
       "       [1.969e+01, 2.125e+01, 1.300e+02, ..., 2.430e-01, 3.613e-01,\n",
       "        8.758e-02],\n",
       "       ...,\n",
       "       [1.660e+01, 2.808e+01, 1.083e+02, ..., 1.418e-01, 2.218e-01,\n",
       "        7.820e-02],\n",
       "       [2.060e+01, 2.933e+01, 1.401e+02, ..., 2.650e-01, 4.087e-01,\n",
       "        1.240e-01],\n",
       "       [7.760e+00, 2.454e+01, 4.792e+01, ..., 0.000e+00, 2.871e-01,\n",
       "        7.039e-02]])"
      ]
     },
     "execution_count": 7,
     "metadata": {},
     "output_type": "execute_result"
    }
   ],
   "source": [
    "data.data"
   ]
  },
  {
   "cell_type": "code",
   "execution_count": 8,
   "metadata": {},
   "outputs": [
    {
     "data": {
      "text/plain": [
       "array([0, 0, 0, 0, 0, 0, 0, 0, 0, 0, 0, 0, 0, 0, 0, 0, 0, 0, 0, 1, 1, 1,\n",
       "       0, 0, 0, 0, 0, 0, 0, 0, 0, 0, 0, 0, 0, 0, 0, 1, 0, 0, 0, 0, 0, 0,\n",
       "       0, 0, 1, 0, 1, 1, 1, 1, 1, 0, 0, 1, 0, 0, 1, 1, 1, 1, 0, 1, 0, 0,\n",
       "       1, 1, 1, 1, 0, 1, 0, 0, 1, 0, 1, 0, 0, 1, 1, 1, 0, 0, 1, 0, 0, 0,\n",
       "       1, 1, 1, 0, 1, 1, 0, 0, 1, 1, 1, 0, 0, 1, 1, 1, 1, 0, 1, 1, 0, 1,\n",
       "       1, 1, 1, 1, 1, 1, 1, 0, 0, 0, 1, 0, 0, 1, 1, 1, 0, 0, 1, 0, 1, 0,\n",
       "       0, 1, 0, 0, 1, 1, 0, 1, 1, 0, 1, 1, 1, 1, 0, 1, 1, 1, 1, 1, 1, 1,\n",
       "       1, 1, 0, 1, 1, 1, 1, 0, 0, 1, 0, 1, 1, 0, 0, 1, 1, 0, 0, 1, 1, 1,\n",
       "       1, 0, 1, 1, 0, 0, 0, 1, 0, 1, 0, 1, 1, 1, 0, 1, 1, 0, 0, 1, 0, 0,\n",
       "       0, 0, 1, 0, 0, 0, 1, 0, 1, 0, 1, 1, 0, 1, 0, 0, 0, 0, 1, 1, 0, 0,\n",
       "       1, 1, 1, 0, 1, 1, 1, 1, 1, 0, 0, 1, 1, 0, 1, 1, 0, 0, 1, 0, 1, 1,\n",
       "       1, 1, 0, 1, 1, 1, 1, 1, 0, 1, 0, 0, 0, 0, 0, 0, 0, 0, 0, 0, 0, 0,\n",
       "       0, 0, 1, 1, 1, 1, 1, 1, 0, 1, 0, 1, 1, 0, 1, 1, 0, 1, 0, 0, 1, 1,\n",
       "       1, 1, 1, 1, 1, 1, 1, 1, 1, 1, 1, 0, 1, 1, 0, 1, 0, 1, 1, 1, 1, 1,\n",
       "       1, 1, 1, 1, 1, 1, 1, 1, 1, 0, 1, 1, 1, 0, 1, 0, 1, 1, 1, 1, 0, 0,\n",
       "       0, 1, 1, 1, 1, 0, 1, 0, 1, 0, 1, 1, 1, 0, 1, 1, 1, 1, 1, 1, 1, 0,\n",
       "       0, 0, 1, 1, 1, 1, 1, 1, 1, 1, 1, 1, 1, 0, 0, 1, 0, 0, 0, 1, 0, 0,\n",
       "       1, 1, 1, 1, 1, 0, 1, 1, 1, 1, 1, 0, 1, 1, 1, 0, 1, 1, 0, 0, 1, 1,\n",
       "       1, 1, 1, 1, 0, 1, 1, 1, 1, 1, 1, 1, 0, 1, 1, 1, 1, 1, 0, 1, 1, 0,\n",
       "       1, 1, 1, 1, 1, 1, 1, 1, 1, 1, 1, 1, 0, 1, 0, 0, 1, 0, 1, 1, 1, 1,\n",
       "       1, 0, 1, 1, 0, 1, 0, 1, 1, 0, 1, 0, 1, 1, 1, 1, 1, 1, 1, 1, 0, 0,\n",
       "       1, 1, 1, 1, 1, 1, 0, 1, 1, 1, 1, 1, 1, 1, 1, 1, 1, 0, 1, 1, 1, 1,\n",
       "       1, 1, 1, 0, 1, 0, 1, 1, 0, 1, 1, 1, 1, 1, 0, 0, 1, 0, 1, 0, 1, 1,\n",
       "       1, 1, 1, 0, 1, 1, 0, 1, 0, 1, 0, 0, 1, 1, 1, 0, 1, 1, 1, 1, 1, 1,\n",
       "       1, 1, 1, 1, 1, 0, 1, 0, 0, 1, 1, 1, 1, 1, 1, 1, 1, 1, 1, 1, 1, 1,\n",
       "       1, 1, 1, 1, 1, 1, 1, 1, 1, 1, 1, 1, 0, 0, 0, 0, 0, 0, 1])"
      ]
     },
     "execution_count": 8,
     "metadata": {},
     "output_type": "execute_result"
    }
   ],
   "source": [
    "data.target"
   ]
  },
  {
   "cell_type": "code",
   "execution_count": 9,
   "metadata": {},
   "outputs": [
    {
     "data": {
      "text/plain": [
       "(569,)"
      ]
     },
     "execution_count": 9,
     "metadata": {},
     "output_type": "execute_result"
    }
   ],
   "source": [
    "data.target.shape"
   ]
  },
  {
   "cell_type": "code",
   "execution_count": 10,
   "metadata": {},
   "outputs": [
    {
     "data": {
      "text/plain": [
       "array(['malignant', 'benign'], dtype='<U9')"
      ]
     },
     "execution_count": 10,
     "metadata": {},
     "output_type": "execute_result"
    }
   ],
   "source": [
    "data.target_names"
   ]
  },
  {
   "cell_type": "code",
   "execution_count": 11,
   "metadata": {},
   "outputs": [
    {
     "data": {
      "text/plain": [
       "array(['mean radius', 'mean texture', 'mean perimeter', 'mean area',\n",
       "       'mean smoothness', 'mean compactness', 'mean concavity',\n",
       "       'mean concave points', 'mean symmetry', 'mean fractal dimension',\n",
       "       'radius error', 'texture error', 'perimeter error', 'area error',\n",
       "       'smoothness error', 'compactness error', 'concavity error',\n",
       "       'concave points error', 'symmetry error',\n",
       "       'fractal dimension error', 'worst radius', 'worst texture',\n",
       "       'worst perimeter', 'worst area', 'worst smoothness',\n",
       "       'worst compactness', 'worst concavity', 'worst concave points',\n",
       "       'worst symmetry', 'worst fractal dimension'], dtype='<U23')"
      ]
     },
     "execution_count": 11,
     "metadata": {},
     "output_type": "execute_result"
    }
   ],
   "source": [
    "data.feature_names"
   ]
  },
  {
   "cell_type": "code",
   "execution_count": 12,
   "metadata": {},
   "outputs": [],
   "source": [
    "x=data.data\n",
    "y=data.target"
   ]
  },
  {
   "cell_type": "code",
   "execution_count": 13,
   "metadata": {},
   "outputs": [],
   "source": [
    "from sklearn.model_selection import train_test_split"
   ]
  },
  {
   "cell_type": "code",
   "execution_count": 14,
   "metadata": {},
   "outputs": [],
   "source": [
    "x_train,x_test,y_train,y_test=train_test_split(data.data,data.target, test_size=0.33)"
   ]
  },
  {
   "cell_type": "code",
   "execution_count": 15,
   "metadata": {},
   "outputs": [],
   "source": [
    "N, D=x_train.shape"
   ]
  },
  {
   "cell_type": "code",
   "execution_count": 16,
   "metadata": {},
   "outputs": [],
   "source": [
    "from sklearn.preprocessing import StandardScaler\n",
    "\n",
    "scaler=StandardScaler()\n",
    "x_train=scaler.fit_transform(x_train)\n",
    "x_test=scaler.transform(x_test)"
   ]
  },
  {
   "cell_type": "raw",
   "metadata": {},
   "source": [
    "#SAME AS ABOVE\n",
    "scalar=StandardScalar()\n",
    "scalar.fit(x_train)\n",
    "x_train=scalar.transform(x_train)\n",
    "x_test=scalar.transform(x_test)"
   ]
  },
  {
   "cell_type": "code",
   "execution_count": 17,
   "metadata": {},
   "outputs": [
    {
     "name": "stdout",
     "output_type": "stream",
     "text": [
      "Train on 381 samples, validate on 188 samples\n",
      "Epoch 1/120\n",
      "381/381 [==============================] - 1s 3ms/sample - loss: 0.9949 - accuracy: 0.3543 - val_loss: 1.0420 - val_accuracy: 0.3617\n",
      "Epoch 2/120\n",
      "381/381 [==============================] - 0s 194us/sample - loss: 0.9074 - accuracy: 0.4121 - val_loss: 0.9599 - val_accuracy: 0.3883\n",
      "Epoch 3/120\n",
      "381/381 [==============================] - 0s 196us/sample - loss: 0.8298 - accuracy: 0.4987 - val_loss: 0.8882 - val_accuracy: 0.4787\n",
      "Epoch 4/120\n",
      "381/381 [==============================] - 0s 202us/sample - loss: 0.7633 - accuracy: 0.5932 - val_loss: 0.8247 - val_accuracy: 0.5372\n",
      "Epoch 5/120\n",
      "381/381 [==============================] - 0s 215us/sample - loss: 0.7063 - accuracy: 0.6614 - val_loss: 0.7686 - val_accuracy: 0.5851\n",
      "Epoch 6/120\n",
      "381/381 [==============================] - 0s 233us/sample - loss: 0.6556 - accuracy: 0.6982 - val_loss: 0.7211 - val_accuracy: 0.6277\n",
      "Epoch 7/120\n",
      "381/381 [==============================] - 0s 225us/sample - loss: 0.6136 - accuracy: 0.7244 - val_loss: 0.6788 - val_accuracy: 0.6702\n",
      "Epoch 8/120\n",
      "381/381 [==============================] - 0s 204us/sample - loss: 0.5748 - accuracy: 0.7559 - val_loss: 0.6427 - val_accuracy: 0.7181\n",
      "Epoch 9/120\n",
      "381/381 [==============================] - 0s 199us/sample - loss: 0.5419 - accuracy: 0.7848 - val_loss: 0.6103 - val_accuracy: 0.7447\n",
      "Epoch 10/120\n",
      "381/381 [==============================] - 0s 170us/sample - loss: 0.5128 - accuracy: 0.8058 - val_loss: 0.5813 - val_accuracy: 0.7766\n",
      "Epoch 11/120\n",
      "381/381 [==============================] - 0s 168us/sample - loss: 0.4869 - accuracy: 0.8294 - val_loss: 0.5544 - val_accuracy: 0.7926\n",
      "Epoch 12/120\n",
      "381/381 [==============================] - 0s 181us/sample - loss: 0.4630 - accuracy: 0.8373 - val_loss: 0.5309 - val_accuracy: 0.8191\n",
      "Epoch 13/120\n",
      "381/381 [==============================] - 0s 181us/sample - loss: 0.4420 - accuracy: 0.8451 - val_loss: 0.5094 - val_accuracy: 0.8351\n",
      "Epoch 14/120\n",
      "381/381 [==============================] - 0s 178us/sample - loss: 0.4222 - accuracy: 0.8478 - val_loss: 0.4902 - val_accuracy: 0.8511\n",
      "Epoch 15/120\n",
      "381/381 [==============================] - 0s 212us/sample - loss: 0.4048 - accuracy: 0.8504 - val_loss: 0.4723 - val_accuracy: 0.8511\n",
      "Epoch 16/120\n",
      "381/381 [==============================] - 0s 204us/sample - loss: 0.3890 - accuracy: 0.8583 - val_loss: 0.4554 - val_accuracy: 0.8670\n",
      "Epoch 17/120\n",
      "381/381 [==============================] - 0s 202us/sample - loss: 0.3742 - accuracy: 0.8688 - val_loss: 0.4390 - val_accuracy: 0.8723\n",
      "Epoch 18/120\n",
      "381/381 [==============================] - 0s 212us/sample - loss: 0.3603 - accuracy: 0.8740 - val_loss: 0.4245 - val_accuracy: 0.8777\n",
      "Epoch 19/120\n",
      "381/381 [==============================] - 0s 212us/sample - loss: 0.3475 - accuracy: 0.8845 - val_loss: 0.4108 - val_accuracy: 0.8777\n",
      "Epoch 20/120\n",
      "381/381 [==============================] - 0s 209us/sample - loss: 0.3358 - accuracy: 0.8898 - val_loss: 0.3982 - val_accuracy: 0.8830\n",
      "Epoch 21/120\n",
      "381/381 [==============================] - 0s 209us/sample - loss: 0.3246 - accuracy: 0.8898 - val_loss: 0.3862 - val_accuracy: 0.8830\n",
      "Epoch 22/120\n",
      "381/381 [==============================] - 0s 228us/sample - loss: 0.3145 - accuracy: 0.8898 - val_loss: 0.3748 - val_accuracy: 0.8830\n",
      "Epoch 23/120\n",
      "381/381 [==============================] - 0s 207us/sample - loss: 0.3053 - accuracy: 0.8950 - val_loss: 0.3633 - val_accuracy: 0.8883\n",
      "Epoch 24/120\n",
      "381/381 [==============================] - 0s 207us/sample - loss: 0.2958 - accuracy: 0.8950 - val_loss: 0.3534 - val_accuracy: 0.8936\n",
      "Epoch 25/120\n",
      "381/381 [==============================] - 0s 238us/sample - loss: 0.2875 - accuracy: 0.8976 - val_loss: 0.3438 - val_accuracy: 0.8936\n",
      "Epoch 26/120\n",
      "381/381 [==============================] - 0s 298us/sample - loss: 0.2796 - accuracy: 0.9055 - val_loss: 0.3345 - val_accuracy: 0.8936\n",
      "Epoch 27/120\n",
      "381/381 [==============================] - 0s 215us/sample - loss: 0.2719 - accuracy: 0.9055 - val_loss: 0.3261 - val_accuracy: 0.8989\n",
      "Epoch 28/120\n",
      "381/381 [==============================] - 0s 230us/sample - loss: 0.2649 - accuracy: 0.9108 - val_loss: 0.3180 - val_accuracy: 0.8989\n",
      "Epoch 29/120\n",
      "381/381 [==============================] - 0s 241us/sample - loss: 0.2584 - accuracy: 0.9108 - val_loss: 0.3097 - val_accuracy: 0.9043\n",
      "Epoch 30/120\n",
      "381/381 [==============================] - 0s 225us/sample - loss: 0.2520 - accuracy: 0.9160 - val_loss: 0.3023 - val_accuracy: 0.9043\n",
      "Epoch 31/120\n",
      "381/381 [==============================] - 0s 230us/sample - loss: 0.2460 - accuracy: 0.9160 - val_loss: 0.2955 - val_accuracy: 0.9096\n",
      "Epoch 32/120\n",
      "381/381 [==============================] - 0s 220us/sample - loss: 0.2405 - accuracy: 0.9213 - val_loss: 0.2881 - val_accuracy: 0.9096\n",
      "Epoch 33/120\n",
      "381/381 [==============================] - 0s 225us/sample - loss: 0.2349 - accuracy: 0.9213 - val_loss: 0.2818 - val_accuracy: 0.9096\n",
      "Epoch 34/120\n",
      "381/381 [==============================] - 0s 243us/sample - loss: 0.2298 - accuracy: 0.9265 - val_loss: 0.2756 - val_accuracy: 0.9096\n",
      "Epoch 35/120\n",
      "381/381 [==============================] - 0s 194us/sample - loss: 0.2250 - accuracy: 0.9265 - val_loss: 0.2694 - val_accuracy: 0.9149\n",
      "Epoch 36/120\n",
      "381/381 [==============================] - 0s 165us/sample - loss: 0.2203 - accuracy: 0.9291 - val_loss: 0.2640 - val_accuracy: 0.9202\n",
      "Epoch 37/120\n",
      "381/381 [==============================] - 0s 170us/sample - loss: 0.2160 - accuracy: 0.9291 - val_loss: 0.2585 - val_accuracy: 0.9202\n",
      "Epoch 38/120\n",
      "381/381 [==============================] - 0s 165us/sample - loss: 0.2116 - accuracy: 0.9291 - val_loss: 0.2535 - val_accuracy: 0.9255\n",
      "Epoch 39/120\n",
      "381/381 [==============================] - 0s 215us/sample - loss: 0.2078 - accuracy: 0.9318 - val_loss: 0.2482 - val_accuracy: 0.9309\n",
      "Epoch 40/120\n",
      "381/381 [==============================] - 0s 209us/sample - loss: 0.2037 - accuracy: 0.9318 - val_loss: 0.2439 - val_accuracy: 0.9309\n",
      "Epoch 41/120\n",
      "381/381 [==============================] - 0s 194us/sample - loss: 0.2001 - accuracy: 0.9318 - val_loss: 0.2394 - val_accuracy: 0.9309\n",
      "Epoch 42/120\n",
      "381/381 [==============================] - 0s 183us/sample - loss: 0.1967 - accuracy: 0.9318 - val_loss: 0.2347 - val_accuracy: 0.9362\n",
      "Epoch 43/120\n",
      "381/381 [==============================] - 0s 173us/sample - loss: 0.1931 - accuracy: 0.9318 - val_loss: 0.2306 - val_accuracy: 0.9362\n",
      "Epoch 44/120\n",
      "381/381 [==============================] - 0s 181us/sample - loss: 0.1899 - accuracy: 0.9318 - val_loss: 0.2266 - val_accuracy: 0.9362\n",
      "Epoch 45/120\n",
      "381/381 [==============================] - 0s 178us/sample - loss: 0.1868 - accuracy: 0.9344 - val_loss: 0.2226 - val_accuracy: 0.9362\n",
      "Epoch 46/120\n",
      "381/381 [==============================] - 0s 181us/sample - loss: 0.1838 - accuracy: 0.9344 - val_loss: 0.2191 - val_accuracy: 0.9362\n",
      "Epoch 47/120\n",
      "381/381 [==============================] - 0s 191us/sample - loss: 0.1809 - accuracy: 0.9344 - val_loss: 0.2154 - val_accuracy: 0.9362\n",
      "Epoch 48/120\n",
      "381/381 [==============================] - 0s 173us/sample - loss: 0.1781 - accuracy: 0.9344 - val_loss: 0.2116 - val_accuracy: 0.9362\n",
      "Epoch 49/120\n",
      "381/381 [==============================] - 0s 181us/sample - loss: 0.1753 - accuracy: 0.9344 - val_loss: 0.2085 - val_accuracy: 0.9362\n",
      "Epoch 50/120\n",
      "381/381 [==============================] - 0s 186us/sample - loss: 0.1728 - accuracy: 0.9344 - val_loss: 0.2053 - val_accuracy: 0.9362\n",
      "Epoch 51/120\n",
      "381/381 [==============================] - 0s 197us/sample - loss: 0.1702 - accuracy: 0.9344 - val_loss: 0.2022 - val_accuracy: 0.9362\n",
      "Epoch 52/120\n",
      "381/381 [==============================] - 0s 188us/sample - loss: 0.1679 - accuracy: 0.9344 - val_loss: 0.1990 - val_accuracy: 0.9362\n",
      "Epoch 53/120\n",
      "381/381 [==============================] - 0s 191us/sample - loss: 0.1654 - accuracy: 0.9396 - val_loss: 0.1962 - val_accuracy: 0.9362\n",
      "Epoch 54/120\n",
      "381/381 [==============================] - 0s 191us/sample - loss: 0.1632 - accuracy: 0.9396 - val_loss: 0.1936 - val_accuracy: 0.9362\n",
      "Epoch 55/120\n",
      "381/381 [==============================] - 0s 188us/sample - loss: 0.1611 - accuracy: 0.9396 - val_loss: 0.1908 - val_accuracy: 0.9362\n",
      "Epoch 56/120\n"
     ]
    },
    {
     "name": "stdout",
     "output_type": "stream",
     "text": [
      "381/381 [==============================] - 0s 188us/sample - loss: 0.1589 - accuracy: 0.9396 - val_loss: 0.1885 - val_accuracy: 0.9362\n",
      "Epoch 57/120\n",
      "381/381 [==============================] - 0s 188us/sample - loss: 0.1568 - accuracy: 0.9423 - val_loss: 0.1860 - val_accuracy: 0.9362\n",
      "Epoch 58/120\n",
      "381/381 [==============================] - 0s 181us/sample - loss: 0.1548 - accuracy: 0.9423 - val_loss: 0.1837 - val_accuracy: 0.9362\n",
      "Epoch 59/120\n",
      "381/381 [==============================] - 0s 186us/sample - loss: 0.1530 - accuracy: 0.9423 - val_loss: 0.1814 - val_accuracy: 0.9362\n",
      "Epoch 60/120\n",
      "381/381 [==============================] - 0s 186us/sample - loss: 0.1510 - accuracy: 0.9449 - val_loss: 0.1792 - val_accuracy: 0.9362\n",
      "Epoch 61/120\n",
      "381/381 [==============================] - 0s 207us/sample - loss: 0.1493 - accuracy: 0.9449 - val_loss: 0.1771 - val_accuracy: 0.9362\n",
      "Epoch 62/120\n",
      "381/381 [==============================] - 0s 181us/sample - loss: 0.1475 - accuracy: 0.9475 - val_loss: 0.1750 - val_accuracy: 0.9362\n",
      "Epoch 63/120\n",
      "381/381 [==============================] - 0s 175us/sample - loss: 0.1458 - accuracy: 0.9475 - val_loss: 0.1731 - val_accuracy: 0.9362\n",
      "Epoch 64/120\n",
      "381/381 [==============================] - 0s 183us/sample - loss: 0.1441 - accuracy: 0.9501 - val_loss: 0.1713 - val_accuracy: 0.9362\n",
      "Epoch 65/120\n",
      "381/381 [==============================] - 0s 199us/sample - loss: 0.1427 - accuracy: 0.9501 - val_loss: 0.1691 - val_accuracy: 0.9468\n",
      "Epoch 66/120\n",
      "381/381 [==============================] - 0s 170us/sample - loss: 0.1409 - accuracy: 0.9501 - val_loss: 0.1674 - val_accuracy: 0.9468\n",
      "Epoch 67/120\n",
      "381/381 [==============================] - 0s 170us/sample - loss: 0.1394 - accuracy: 0.9528 - val_loss: 0.1657 - val_accuracy: 0.9468\n",
      "Epoch 68/120\n",
      "381/381 [==============================] - 0s 162us/sample - loss: 0.1380 - accuracy: 0.9528 - val_loss: 0.1640 - val_accuracy: 0.9468\n",
      "Epoch 69/120\n",
      "381/381 [==============================] - 0s 173us/sample - loss: 0.1365 - accuracy: 0.9554 - val_loss: 0.1624 - val_accuracy: 0.9468\n",
      "Epoch 70/120\n",
      "381/381 [==============================] - 0s 170us/sample - loss: 0.1351 - accuracy: 0.9554 - val_loss: 0.1610 - val_accuracy: 0.9468\n",
      "Epoch 71/120\n",
      "381/381 [==============================] - 0s 168us/sample - loss: 0.1337 - accuracy: 0.9554 - val_loss: 0.1595 - val_accuracy: 0.9468\n",
      "Epoch 72/120\n",
      "381/381 [==============================] - 0s 173us/sample - loss: 0.1324 - accuracy: 0.9554 - val_loss: 0.1581 - val_accuracy: 0.9468\n",
      "Epoch 73/120\n",
      "381/381 [==============================] - 0s 189us/sample - loss: 0.1312 - accuracy: 0.9554 - val_loss: 0.1568 - val_accuracy: 0.9468\n",
      "Epoch 74/120\n",
      "381/381 [==============================] - 0s 181us/sample - loss: 0.1299 - accuracy: 0.9580 - val_loss: 0.1554 - val_accuracy: 0.9468\n",
      "Epoch 75/120\n",
      "381/381 [==============================] - 0s 173us/sample - loss: 0.1287 - accuracy: 0.9580 - val_loss: 0.1540 - val_accuracy: 0.9468\n",
      "Epoch 76/120\n",
      "381/381 [==============================] - 0s 178us/sample - loss: 0.1275 - accuracy: 0.9580 - val_loss: 0.1528 - val_accuracy: 0.9468\n",
      "Epoch 77/120\n",
      "381/381 [==============================] - 0s 168us/sample - loss: 0.1264 - accuracy: 0.9633 - val_loss: 0.1515 - val_accuracy: 0.9468\n",
      "Epoch 78/120\n",
      "381/381 [==============================] - 0s 183us/sample - loss: 0.1252 - accuracy: 0.9633 - val_loss: 0.1504 - val_accuracy: 0.9521\n",
      "Epoch 79/120\n",
      "381/381 [==============================] - 0s 175us/sample - loss: 0.1242 - accuracy: 0.9633 - val_loss: 0.1492 - val_accuracy: 0.9521\n",
      "Epoch 80/120\n",
      "381/381 [==============================] - 0s 181us/sample - loss: 0.1230 - accuracy: 0.9633 - val_loss: 0.1481 - val_accuracy: 0.9521\n",
      "Epoch 81/120\n",
      "381/381 [==============================] - 0s 186us/sample - loss: 0.1220 - accuracy: 0.9633 - val_loss: 0.1472 - val_accuracy: 0.9521\n",
      "Epoch 82/120\n",
      "381/381 [==============================] - 0s 175us/sample - loss: 0.1210 - accuracy: 0.9659 - val_loss: 0.1461 - val_accuracy: 0.9521\n",
      "Epoch 83/120\n",
      "381/381 [==============================] - 0s 173us/sample - loss: 0.1200 - accuracy: 0.9659 - val_loss: 0.1451 - val_accuracy: 0.9521\n",
      "Epoch 84/120\n",
      "381/381 [==============================] - 0s 178us/sample - loss: 0.1190 - accuracy: 0.9659 - val_loss: 0.1440 - val_accuracy: 0.9521\n",
      "Epoch 85/120\n",
      "381/381 [==============================] - 0s 178us/sample - loss: 0.1181 - accuracy: 0.9659 - val_loss: 0.1430 - val_accuracy: 0.9521\n",
      "Epoch 86/120\n",
      "381/381 [==============================] - 0s 178us/sample - loss: 0.1172 - accuracy: 0.9659 - val_loss: 0.1420 - val_accuracy: 0.9521\n",
      "Epoch 87/120\n",
      "381/381 [==============================] - 0s 181us/sample - loss: 0.1162 - accuracy: 0.9659 - val_loss: 0.1411 - val_accuracy: 0.9521\n",
      "Epoch 88/120\n",
      "381/381 [==============================] - 0s 181us/sample - loss: 0.1153 - accuracy: 0.9685 - val_loss: 0.1403 - val_accuracy: 0.9521\n",
      "Epoch 89/120\n",
      "381/381 [==============================] - 0s 181us/sample - loss: 0.1145 - accuracy: 0.9685 - val_loss: 0.1395 - val_accuracy: 0.9521\n",
      "Epoch 90/120\n",
      "381/381 [==============================] - 0s 183us/sample - loss: 0.1136 - accuracy: 0.9711 - val_loss: 0.1386 - val_accuracy: 0.9521\n",
      "Epoch 91/120\n",
      "381/381 [==============================] - 0s 175us/sample - loss: 0.1128 - accuracy: 0.9711 - val_loss: 0.1379 - val_accuracy: 0.9521\n",
      "Epoch 92/120\n",
      "381/381 [==============================] - 0s 178us/sample - loss: 0.1120 - accuracy: 0.9711 - val_loss: 0.1371 - val_accuracy: 0.9521\n",
      "Epoch 93/120\n",
      "381/381 [==============================] - 0s 170us/sample - loss: 0.1112 - accuracy: 0.9711 - val_loss: 0.1362 - val_accuracy: 0.9521\n",
      "Epoch 94/120\n",
      "381/381 [==============================] - 0s 175us/sample - loss: 0.1104 - accuracy: 0.9711 - val_loss: 0.1355 - val_accuracy: 0.9521\n",
      "Epoch 95/120\n",
      "381/381 [==============================] - 0s 175us/sample - loss: 0.1096 - accuracy: 0.9711 - val_loss: 0.1348 - val_accuracy: 0.9521\n",
      "Epoch 96/120\n",
      "381/381 [==============================] - 0s 181us/sample - loss: 0.1089 - accuracy: 0.9711 - val_loss: 0.1341 - val_accuracy: 0.9521\n",
      "Epoch 97/120\n",
      "381/381 [==============================] - 0s 175us/sample - loss: 0.1081 - accuracy: 0.9711 - val_loss: 0.1334 - val_accuracy: 0.9521\n",
      "Epoch 98/120\n",
      "381/381 [==============================] - 0s 178us/sample - loss: 0.1074 - accuracy: 0.9711 - val_loss: 0.1327 - val_accuracy: 0.9521\n",
      "Epoch 99/120\n",
      "381/381 [==============================] - 0s 178us/sample - loss: 0.1068 - accuracy: 0.9711 - val_loss: 0.1321 - val_accuracy: 0.9521\n",
      "Epoch 100/120\n",
      "381/381 [==============================] - 0s 178us/sample - loss: 0.1060 - accuracy: 0.9711 - val_loss: 0.1314 - val_accuracy: 0.9521\n",
      "Epoch 101/120\n",
      "381/381 [==============================] - 0s 175us/sample - loss: 0.1054 - accuracy: 0.9711 - val_loss: 0.1307 - val_accuracy: 0.9521\n",
      "Epoch 102/120\n",
      "381/381 [==============================] - 0s 175us/sample - loss: 0.1047 - accuracy: 0.9711 - val_loss: 0.1301 - val_accuracy: 0.9521\n",
      "Epoch 103/120\n",
      "381/381 [==============================] - 0s 178us/sample - loss: 0.1041 - accuracy: 0.9738 - val_loss: 0.1295 - val_accuracy: 0.9521\n",
      "Epoch 104/120\n",
      "381/381 [==============================] - 0s 178us/sample - loss: 0.1034 - accuracy: 0.9738 - val_loss: 0.1289 - val_accuracy: 0.9521\n",
      "Epoch 105/120\n",
      "381/381 [==============================] - 0s 186us/sample - loss: 0.1028 - accuracy: 0.9738 - val_loss: 0.1283 - val_accuracy: 0.9521\n",
      "Epoch 106/120\n",
      "381/381 [==============================] - 0s 181us/sample - loss: 0.1022 - accuracy: 0.9738 - val_loss: 0.1277 - val_accuracy: 0.9521\n",
      "Epoch 107/120\n",
      "381/381 [==============================] - 0s 189us/sample - loss: 0.1016 - accuracy: 0.9738 - val_loss: 0.1272 - val_accuracy: 0.9521\n",
      "Epoch 108/120\n",
      "381/381 [==============================] - 0s 173us/sample - loss: 0.1010 - accuracy: 0.9764 - val_loss: 0.1266 - val_accuracy: 0.9521\n",
      "Epoch 109/120\n",
      "381/381 [==============================] - 0s 199us/sample - loss: 0.1004 - accuracy: 0.9764 - val_loss: 0.1261 - val_accuracy: 0.9521\n",
      "Epoch 110/120\n",
      "381/381 [==============================] - 0s 246us/sample - loss: 0.0999 - accuracy: 0.9764 - val_loss: 0.1257 - val_accuracy: 0.9521\n",
      "Epoch 111/120\n"
     ]
    },
    {
     "name": "stdout",
     "output_type": "stream",
     "text": [
      "381/381 [==============================] - 0s 186us/sample - loss: 0.0993 - accuracy: 0.9764 - val_loss: 0.1251 - val_accuracy: 0.9521\n",
      "Epoch 112/120\n",
      "381/381 [==============================] - 0s 202us/sample - loss: 0.0987 - accuracy: 0.9764 - val_loss: 0.1247 - val_accuracy: 0.9521\n",
      "Epoch 113/120\n",
      "381/381 [==============================] - 0s 178us/sample - loss: 0.0982 - accuracy: 0.9764 - val_loss: 0.1241 - val_accuracy: 0.9521\n",
      "Epoch 114/120\n",
      "381/381 [==============================] - 0s 194us/sample - loss: 0.0977 - accuracy: 0.9764 - val_loss: 0.1236 - val_accuracy: 0.9521\n",
      "Epoch 115/120\n",
      "381/381 [==============================] - 0s 181us/sample - loss: 0.0971 - accuracy: 0.9764 - val_loss: 0.1233 - val_accuracy: 0.9521\n",
      "Epoch 116/120\n",
      "381/381 [==============================] - 0s 194us/sample - loss: 0.0966 - accuracy: 0.9764 - val_loss: 0.1228 - val_accuracy: 0.9521\n",
      "Epoch 117/120\n",
      "381/381 [==============================] - 0s 188us/sample - loss: 0.0961 - accuracy: 0.9764 - val_loss: 0.1223 - val_accuracy: 0.9521\n",
      "Epoch 118/120\n",
      "381/381 [==============================] - 0s 191us/sample - loss: 0.0956 - accuracy: 0.9764 - val_loss: 0.1218 - val_accuracy: 0.9521\n",
      "Epoch 119/120\n",
      "381/381 [==============================] - 0s 183us/sample - loss: 0.0951 - accuracy: 0.9764 - val_loss: 0.1214 - val_accuracy: 0.9521\n",
      "Epoch 120/120\n",
      "381/381 [==============================] - 0s 186us/sample - loss: 0.0946 - accuracy: 0.9764 - val_loss: 0.1210 - val_accuracy: 0.9521\n",
      "381/381 [==============================] - 0s 94us/sample - loss: 0.0943 - accuracy: 0.9764\n",
      "Train score:  [0.09430494024528294, 0.97637796]\n",
      "188/188 [==============================] - 0s 110us/sample - loss: 0.1210 - accuracy: 0.9521\n",
      "Test score:  [0.12101960562645121, 0.95212764]\n"
     ]
    }
   ],
   "source": [
    "model=tf.keras.models.Sequential([\n",
    "    tf.keras.layers.Input(shape=(D,)),\n",
    "    tf.keras.layers.Dense(1,activation='sigmoid')\n",
    "])\n",
    "\n",
    "#model=tf.keras.models.Sequential()\n",
    "#model.add(tf.keras.layers.Dense(1,input_shape=(D,), activation='sigmoid'))\n",
    "\n",
    "model.compile(optimizer='Adam',\n",
    "             loss='binary_crossentropy',\n",
    "             metrics=['accuracy'])\n",
    "\n",
    "r=model.fit(x_train,y_train, validation_data=(x_test,y_test), epochs=120)\n",
    "\n",
    "print(\"Train score: \",model.evaluate(x_train,y_train))\n",
    "print(\"Test score: \",model.evaluate(x_test,y_test))"
   ]
  },
  {
   "cell_type": "code",
   "execution_count": 18,
   "metadata": {},
   "outputs": [
    {
     "data": {
      "text/plain": [
       "<matplotlib.legend.Legend at 0x23bfe393948>"
      ]
     },
     "execution_count": 18,
     "metadata": {},
     "output_type": "execute_result"
    },
    {
     "data": {
      "image/png": "[encoded data removed]",
      "text/plain": [
       "<Figure size 432x288 with 1 Axes>"
      ]
     },
     "metadata": {
      "needs_background": "light"
     },
     "output_type": "display_data"
    }
   ],
   "source": [
    "import matplotlib.pyplot as plt\n",
    "plt.plot(r.history['loss'],label='loss')\n",
    "plt.plot(r.history['val_loss'],label='val_loss')\n",
    "plt.legend()"
   ]
  },
  {
   "cell_type": "code",
   "execution_count": 19,
   "metadata": {},
   "outputs": [
    {
     "data": {
      "text/plain": [
       "<matplotlib.legend.Legend at 0x23be8589088>"
      ]
     },
     "execution_count": 19,
     "metadata": {},
     "output_type": "execute_result"
    },
    {
     "data": {
      "image/png": "[encoded data removed]",
      "text/plain": [
       "<Figure size 432x288 with 1 Axes>"
      ]
     },
     "metadata": {
      "needs_background": "light"
     },
     "output_type": "display_data"
    }
   ],
   "source": [
    "plt.plot(r.history['accuracy'],label='acc')\n",
    "plt.plot(r.history['val_accuracy'],label='val_acc')\n",
    "plt.legend()"
   ]
  },
  {
   "cell_type": "markdown",
   "metadata": {},
   "source": [
    "# Making Predictions"
   ]
  },
  {
   "cell_type": "code",
   "execution_count": 20,
   "metadata": {},
   "outputs": [],
   "source": [
    "pred=model.predict(x_test)"
   ]
  },
  {
   "cell_type": "code",
   "execution_count": 21,
   "metadata": {},
   "outputs": [
    {
     "data": {
      "text/plain": [
       "array([[5.85523492e-04],\n",
       "       [9.52447057e-01],\n",
       "       [5.02288528e-02],\n",
       "       [9.90901470e-01],\n",
       "       [9.13032651e-01],\n",
       "       [9.64435816e-01],\n",
       "       [9.85671103e-01],\n",
       "       [9.97754037e-01],\n",
       "       [9.63064849e-01],\n",
       "       [2.38880073e-03],\n",
       "       [9.91359353e-01],\n",
       "       [9.98680055e-01],\n",
       "       [9.94742393e-01],\n",
       "       [9.87867355e-01],\n",
       "       [1.16540054e-02],\n",
       "       [9.82471883e-01],\n",
       "       [4.98509791e-04],\n",
       "       [3.86935696e-02],\n",
       "       [3.73071799e-07],\n",
       "       [1.86203808e-01],\n",
       "       [7.51577556e-01],\n",
       "       [9.97897863e-01],\n",
       "       [9.92202520e-01],\n",
       "       [9.90492165e-01],\n",
       "       [9.11495984e-01],\n",
       "       [9.88855898e-01],\n",
       "       [9.16335404e-01],\n",
       "       [9.47440743e-01],\n",
       "       [9.88315880e-01],\n",
       "       [1.60563411e-03],\n",
       "       [9.98111963e-01],\n",
       "       [8.54917616e-02],\n",
       "       [9.59544033e-02],\n",
       "       [8.40143979e-01],\n",
       "       [9.91705060e-01],\n",
       "       [9.46308553e-01],\n",
       "       [9.76116300e-01],\n",
       "       [7.47986674e-01],\n",
       "       [9.88966167e-01],\n",
       "       [1.43903253e-05],\n",
       "       [9.86124933e-01],\n",
       "       [1.05668128e-01],\n",
       "       [9.89392877e-01],\n",
       "       [9.91889954e-01],\n",
       "       [9.66799974e-01],\n",
       "       [1.45907499e-04],\n",
       "       [5.42867610e-06],\n",
       "       [9.99090910e-01],\n",
       "       [9.96539950e-01],\n",
       "       [9.82718706e-01],\n",
       "       [9.55361068e-01],\n",
       "       [9.99927759e-01],\n",
       "       [9.87451494e-01],\n",
       "       [9.53078032e-01],\n",
       "       [6.01097490e-05],\n",
       "       [3.53993790e-04],\n",
       "       [8.91840219e-01],\n",
       "       [9.96142089e-01],\n",
       "       [5.27188070e-02],\n",
       "       [9.75581884e-01],\n",
       "       [7.64931560e-01],\n",
       "       [1.10820532e-01],\n",
       "       [2.74490274e-04],\n",
       "       [9.48217809e-01],\n",
       "       [7.58061588e-01],\n",
       "       [7.69965816e-04],\n",
       "       [6.47387207e-02],\n",
       "       [1.07449956e-01],\n",
       "       [9.91875470e-01],\n",
       "       [3.81114930e-01],\n",
       "       [2.15793814e-04],\n",
       "       [1.05034129e-03],\n",
       "       [6.91652417e-01],\n",
       "       [9.91225898e-01],\n",
       "       [9.94258881e-01],\n",
       "       [9.72806096e-01],\n",
       "       [1.23133026e-01],\n",
       "       [9.90608215e-01],\n",
       "       [6.42384030e-03],\n",
       "       [8.34025383e-01],\n",
       "       [3.58169840e-04],\n",
       "       [9.09220755e-01],\n",
       "       [9.50295269e-01],\n",
       "       [9.97948825e-01],\n",
       "       [7.95027733e-01],\n",
       "       [9.68927622e-01],\n",
       "       [7.46682985e-04],\n",
       "       [9.97991562e-01],\n",
       "       [9.96633589e-01],\n",
       "       [1.16665751e-01],\n",
       "       [9.94852602e-01],\n",
       "       [9.83710408e-01],\n",
       "       [9.29903388e-01],\n",
       "       [6.25729095e-03],\n",
       "       [1.07987009e-01],\n",
       "       [9.62238312e-01],\n",
       "       [8.58453453e-01],\n",
       "       [5.95753908e-01],\n",
       "       [9.24066961e-01],\n",
       "       [6.26316648e-07],\n",
       "       [2.80526183e-05],\n",
       "       [9.97592866e-01],\n",
       "       [9.54521835e-01],\n",
       "       [2.46781419e-04],\n",
       "       [9.73075688e-01],\n",
       "       [9.98059452e-01],\n",
       "       [9.83324766e-01],\n",
       "       [6.06559850e-02],\n",
       "       [9.93618250e-01],\n",
       "       [1.42732608e-06],\n",
       "       [2.30348974e-06],\n",
       "       [9.10098672e-01],\n",
       "       [9.29637372e-01],\n",
       "       [1.73383504e-02],\n",
       "       [2.29544559e-04],\n",
       "       [9.92296398e-01],\n",
       "       [9.93888199e-01],\n",
       "       [9.91618335e-01],\n",
       "       [7.10097551e-01],\n",
       "       [9.87798810e-01],\n",
       "       [9.84516680e-01],\n",
       "       [9.55490649e-01],\n",
       "       [9.80373263e-01],\n",
       "       [9.88299251e-01],\n",
       "       [9.99770343e-01],\n",
       "       [1.60162529e-06],\n",
       "       [9.50655162e-01],\n",
       "       [9.37868535e-05],\n",
       "       [9.42404926e-01],\n",
       "       [8.19598138e-01],\n",
       "       [9.74809051e-01],\n",
       "       [9.88907516e-01],\n",
       "       [1.81982876e-03],\n",
       "       [2.99250428e-03],\n",
       "       [9.31865454e-01],\n",
       "       [4.41119254e-01],\n",
       "       [9.68543887e-01],\n",
       "       [9.97950971e-01],\n",
       "       [9.86319721e-01],\n",
       "       [2.87320167e-02],\n",
       "       [9.42400470e-03],\n",
       "       [9.30839598e-01],\n",
       "       [8.44868009e-06],\n",
       "       [9.61413622e-01],\n",
       "       [8.03644711e-04],\n",
       "       [2.81580389e-02],\n",
       "       [9.41499054e-01],\n",
       "       [1.51675735e-02],\n",
       "       [9.94501233e-01],\n",
       "       [1.25864113e-03],\n",
       "       [8.94475306e-06],\n",
       "       [8.56647566e-02],\n",
       "       [9.90281463e-01],\n",
       "       [9.17169034e-01],\n",
       "       [7.74334490e-01],\n",
       "       [9.97916996e-01],\n",
       "       [9.41839755e-01],\n",
       "       [9.69645739e-01],\n",
       "       [9.94460821e-01],\n",
       "       [4.15131859e-02],\n",
       "       [9.55513060e-01],\n",
       "       [1.29140526e-01],\n",
       "       [8.14194620e-01],\n",
       "       [6.58867939e-04],\n",
       "       [4.14299786e-01],\n",
       "       [9.42095518e-01],\n",
       "       [5.50029427e-03],\n",
       "       [7.08737671e-01],\n",
       "       [6.67415977e-01],\n",
       "       [8.80084693e-01],\n",
       "       [9.88550603e-01],\n",
       "       [3.73156252e-03],\n",
       "       [9.69804823e-01],\n",
       "       [1.23499543e-03],\n",
       "       [9.98705745e-01],\n",
       "       [3.76926619e-06],\n",
       "       [9.96639371e-01],\n",
       "       [7.05837330e-04],\n",
       "       [1.70333569e-05],\n",
       "       [9.93692636e-01],\n",
       "       [9.87011552e-01],\n",
       "       [3.03037552e-04],\n",
       "       [8.34017813e-01],\n",
       "       [1.91962913e-01],\n",
       "       [1.37799699e-03],\n",
       "       [8.73016939e-03],\n",
       "       [1.84912942e-02],\n",
       "       [8.63670588e-01]], dtype=float32)"
      ]
     },
     "execution_count": 21,
     "metadata": {},
     "output_type": "execute_result"
    }
   ],
   "source": [
    "pred"
   ]
  },
  {
   "cell_type": "code",
   "execution_count": 22,
   "metadata": {},
   "outputs": [],
   "source": [
    "import numpy as np"
   ]
  },
  {
   "cell_type": "code",
   "execution_count": 23,
   "metadata": {},
   "outputs": [],
   "source": [
    "pred=np.round(pred).flatten()"
   ]
  },
  {
   "cell_type": "code",
   "execution_count": 24,
   "metadata": {},
   "outputs": [
    {
     "data": {
      "text/plain": [
       "array([0., 1., 0., 1., 1., 1., 1., 1., 1., 0., 1., 1., 1., 1., 0., 1., 0.,\n",
       "       0., 0., 0., 1., 1., 1., 1., 1., 1., 1., 1., 1., 0., 1., 0., 0., 1.,\n",
       "       1., 1., 1., 1., 1., 0., 1., 0., 1., 1., 1., 0., 0., 1., 1., 1., 1.,\n",
       "       1., 1., 1., 0., 0., 1., 1., 0., 1., 1., 0., 0., 1., 1., 0., 0., 0.,\n",
       "       1., 0., 0., 0., 1., 1., 1., 1., 0., 1., 0., 1., 0., 1., 1., 1., 1.,\n",
       "       1., 0., 1., 1., 0., 1., 1., 1., 0., 0., 1., 1., 1., 1., 0., 0., 1.,\n",
       "       1., 0., 1., 1., 1., 0., 1., 0., 0., 1., 1., 0., 0., 1., 1., 1., 1.,\n",
       "       1., 1., 1., 1., 1., 1., 0., 1., 0., 1., 1., 1., 1., 0., 0., 1., 0.,\n",
       "       1., 1., 1., 0., 0., 1., 0., 1., 0., 0., 1., 0., 1., 0., 0., 0., 1.,\n",
       "       1., 1., 1., 1., 1., 1., 0., 1., 0., 1., 0., 0., 1., 0., 1., 1., 1.,\n",
       "       1., 0., 1., 0., 1., 0., 1., 0., 0., 1., 1., 0., 1., 0., 0., 0., 0.,\n",
       "       1.], dtype=float32)"
      ]
     },
     "execution_count": 24,
     "metadata": {},
     "output_type": "execute_result"
    }
   ],
   "source": [
    "pred"
   ]
  },
  {
   "cell_type": "code",
   "execution_count": 25,
   "metadata": {},
   "outputs": [
    {
     "name": "stdout",
     "output_type": "stream",
     "text": [
      "188/188 [==============================] - 0s 122us/sample - loss: 0.1210 - accuracy: 0.9521\n"
     ]
    },
    {
     "data": {
      "text/plain": [
       "[0.12101960562645121, 0.95212764]"
      ]
     },
     "execution_count": 25,
     "metadata": {},
     "output_type": "execute_result"
    }
   ],
   "source": [
    "model.evaluate(x_test,y_test)"
   ]
  },
  {
   "cell_type": "code",
   "execution_count": 26,
   "metadata": {},
   "outputs": [
    {
     "name": "stdout",
     "output_type": "stream",
     "text": [
      "[ True  True  True  True  True  True  True  True  True  True  True  True\n",
      "  True  True  True  True  True  True  True  True  True  True  True False\n",
      "  True  True  True  True  True  True  True  True  True  True  True  True\n",
      "  True  True  True  True  True  True  True  True  True  True  True  True\n",
      "  True  True  True  True  True  True  True  True  True  True  True  True\n",
      "  True  True  True  True  True  True  True  True  True  True  True  True\n",
      " False  True  True  True  True  True  True  True  True  True  True  True\n",
      "  True  True  True  True  True  True  True  True  True  True  True  True\n",
      "  True False  True  True  True  True  True  True  True  True  True  True\n",
      "  True  True  True  True  True  True  True  True  True  True  True  True\n",
      "  True  True  True  True  True  True  True  True  True  True  True  True\n",
      "  True  True  True False  True  True  True  True  True  True  True  True\n",
      "  True  True  True  True  True  True  True  True  True  True  True  True\n",
      "  True  True  True  True  True  True  True  True False  True  True False\n",
      " False False  True  True  True  True  True  True  True  True  True  True\n",
      "  True  True  True False  True  True  True  True]\n"
     ]
    }
   ],
   "source": [
    "print(pred==y_test)"
   ]
  },
  {
   "cell_type": "code",
   "execution_count": 27,
   "metadata": {},
   "outputs": [
    {
     "name": "stdout",
     "output_type": "stream",
     "text": [
      "Manually calculated:  0.9521276595744681\n"
     ]
    }
   ],
   "source": [
    "print(\"Manually calculated: \",np.mean(pred==y_test))"
   ]
  },
  {
   "cell_type": "code",
   "execution_count": 29,
   "metadata": {},
   "outputs": [],
   "source": [
    "model.save(\"C://Users/shash/Downloads/Jupyter/Tensorflow 2.0/linearclassifier.h5\")"
   ]
  },
  {
   "cell_type": "code",
   "execution_count": 30,
   "metadata": {},
   "outputs": [],
   "source": [
    "model=tf.keras.models.load_model(\"C://Users/shash/Downloads/Jupyter/Tensorflow 2.0/linearclassifier.h5\")"
   ]
  },
  {
   "cell_type": "code",
   "execution_count": 31,
   "metadata": {},
   "outputs": [
    {
     "name": "stdout",
     "output_type": "stream",
     "text": [
      "[<tensorflow.python.keras.layers.core.Dense object at 0x0000023BE78A08C8>]\n"
     ]
    }
   ],
   "source": [
    "print(model.layers)"
   ]
  },
  {
   "cell_type": "code",
   "execution_count": 32,
   "metadata": {},
   "outputs": [
    {
     "name": "stdout",
     "output_type": "stream",
     "text": [
      "188/188 [==============================] - 0s 721us/sample - loss: 0.1210 - accuracy: 0.9521\n"
     ]
    },
    {
     "data": {
      "text/plain": [
       "[0.12101960562645121, 0.95212764]"
      ]
     },
     "execution_count": 32,
     "metadata": {},
     "output_type": "execute_result"
    }
   ],
   "source": [
    "model.evaluate(x_test,y_test)"
   ]
  },
  {
   "cell_type": "code",
   "execution_count": null,
   "metadata": {},
   "outputs": [],
   "source": []
  }
 ],
 "metadata": {
  "kernelspec": {
   "display_name": "Python 3",
   "language": "python",
   "name": "python3"
  },
  "language_info": {
   "codemirror_mode": {
    "name": "ipython",
    "version": 3
   },
   "file_extension": ".py",
   "mimetype": "text/x-python",
   "name": "python",
   "nbconvert_exporter": "python",
   "pygments_lexer": "ipython3",
   "version": "3.7.7"
  }
 },
 "nbformat": 4,
 "nbformat_minor": 4
}
