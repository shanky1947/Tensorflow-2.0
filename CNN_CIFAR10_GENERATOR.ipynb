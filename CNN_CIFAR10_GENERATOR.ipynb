{
 "cells": [
  {
   "cell_type": "code",
   "execution_count": 1,
   "metadata": {},
   "outputs": [],
   "source": [
    "import numpy as np\n",
    "import matplotlib.pyplot as plt\n",
    "import tensorflow as tf"
   ]
  },
  {
   "cell_type": "code",
   "execution_count": 2,
   "metadata": {},
   "outputs": [],
   "source": [
    "from tensorflow.keras.layers import Dense, Dropout, Input, Flatten, Conv2D, BatchNormalization, MaxPooling2D\n",
    "from tensorflow.keras.models import Model"
   ]
  },
  {
   "cell_type": "code",
   "execution_count": 3,
   "metadata": {},
   "outputs": [],
   "source": [
    "cifar10=tf.keras.datasets.cifar10\n",
    "(x_train,y_train),(x_test,y_test)=cifar10.load_data()\n",
    "x_train,x_test=x_train/255.0,x_test/255.0\n",
    "y_train,y_test=y_train.flatten(),y_test.flatten()"
   ]
  },
  {
   "cell_type": "code",
   "execution_count": 4,
   "metadata": {},
   "outputs": [
    {
     "name": "stdout",
     "output_type": "stream",
     "text": [
      "Number of classses:  10\n"
     ]
    }
   ],
   "source": [
    "K=len(set(y_test))\n",
    "print(\"Number of classses: \",K)"
   ]
  },
  {
   "cell_type": "code",
   "execution_count": 5,
   "metadata": {},
   "outputs": [],
   "source": [
    "i = Input(shape=x_train[0].shape)\n",
    "x = Conv2D(32, (3,3), activation='relu', padding='same')(i)\n",
    "x = BatchNormalization()(x)\n",
    "x = Conv2D(32, (3,3), activation='relu', padding='same')(x)\n",
    "x = BatchNormalization()(x)\n",
    "x = MaxPooling2D((2,2))(x)\n",
    "\n",
    "x = Conv2D(32, (3,3), activation='relu', padding='same')(x)\n",
    "x = BatchNormalization()(x)\n",
    "x = Conv2D(32, (3,3), activation='relu', padding='same')(x)\n",
    "x = BatchNormalization()(x)\n",
    "x = MaxPooling2D((2,2))(x)\n",
    "\n",
    "x = Conv2D(32, (3,3), activation='relu', padding='same')(x)\n",
    "x = BatchNormalization()(x)\n",
    "x = Conv2D(32, (3,3), activation='relu', padding='same')(x)\n",
    "x = BatchNormalization()(x)\n",
    "x = MaxPooling2D((2,2))(x)\n",
    "\n",
    "x = Flatten()(x)\n",
    "x = Dropout(0.2)(x)\n",
    "x = Dense(1024, activation='relu')(x)\n",
    "x = Dropout(0.2)(x)\n",
    "x = Dense(K, activation='softmax')(x)\n",
    "\n",
    "model = Model(i,x)"
   ]
  },
  {
   "cell_type": "code",
   "execution_count": 6,
   "metadata": {},
   "outputs": [],
   "source": [
    "model.compile(optimizer='adam',\n",
    "             loss='sparse_categorical_crossentropy',\n",
    "             metrics=['accuracy'])"
   ]
  },
  {
   "cell_type": "code",
   "execution_count": 7,
   "metadata": {},
   "outputs": [],
   "source": [
    "batch_size = 32\n",
    "data_generator = tf.keras.preprocessing.image.ImageDataGenerator(width_shift_range=0.1, height_shift_range=0.1, horizontal_flip=True)\n",
    "train_generator = data_generator.flow(x_train, y_train, batch_size)\n",
    "steps_per_epoch = x_train.shape[0] // batch_size\n"
   ]
  },
  {
   "cell_type": "code",
   "execution_count": 8,
   "metadata": {
    "scrolled": true
   },
   "outputs": [
    {
     "name": "stdout",
     "output_type": "stream",
     "text": [
      "WARNING:tensorflow:From <ipython-input-8-82c5938a0141>:1: Model.fit_generator (from tensorflow.python.keras.engine.training) is deprecated and will be removed in a future version.\n",
      "Instructions for updating:\n",
      "Please use Model.fit, which supports generators.\n",
      "WARNING:tensorflow:sample_weight modes were coerced from\n",
      "  ...\n",
      "    to  \n",
      "  ['...']\n",
      "Train for 1562 steps, validate on 10000 samples\n",
      "Epoch 1/15\n",
      "1562/1562 [==============================] - 24s 16ms/step - loss: 1.4404 - accuracy: 0.4876 - val_loss: 1.1296 - val_accuracy: 0.6092\n",
      "Epoch 2/15\n",
      "1562/1562 [==============================] - 20s 13ms/step - loss: 1.0467 - accuracy: 0.6298 - val_loss: 0.9239 - val_accuracy: 0.6782\n",
      "Epoch 3/15\n",
      "1562/1562 [==============================] - 20s 13ms/step - loss: 0.9153 - accuracy: 0.6801 - val_loss: 0.8821 - val_accuracy: 0.6930\n",
      "Epoch 4/15\n",
      "1562/1562 [==============================] - 20s 13ms/step - loss: 0.8317 - accuracy: 0.7078 - val_loss: 0.7303 - val_accuracy: 0.7449\n",
      "Epoch 5/15\n",
      "1562/1562 [==============================] - 20s 13ms/step - loss: 0.7844 - accuracy: 0.7265 - val_loss: 0.8589 - val_accuracy: 0.7068\n",
      "Epoch 6/15\n",
      "1562/1562 [==============================] - 20s 13ms/step - loss: 0.7322 - accuracy: 0.7446 - val_loss: 0.7956 - val_accuracy: 0.7256\n",
      "Epoch 7/15\n",
      "1562/1562 [==============================] - 21s 13ms/step - loss: 0.6971 - accuracy: 0.7574 - val_loss: 0.6753 - val_accuracy: 0.7722\n",
      "Epoch 8/15\n",
      "1562/1562 [==============================] - 21s 13ms/step - loss: 0.6603 - accuracy: 0.7701 - val_loss: 0.6344 - val_accuracy: 0.7847\n",
      "Epoch 9/15\n",
      "1562/1562 [==============================] - 20s 13ms/step - loss: 0.6347 - accuracy: 0.7794 - val_loss: 0.6167 - val_accuracy: 0.7857\n",
      "Epoch 10/15\n",
      "1562/1562 [==============================] - 21s 13ms/step - loss: 0.6069 - accuracy: 0.7896 - val_loss: 0.7141 - val_accuracy: 0.7581\n",
      "Epoch 11/15\n",
      "1562/1562 [==============================] - 20s 13ms/step - loss: 0.5921 - accuracy: 0.7955 - val_loss: 0.5829 - val_accuracy: 0.8018\n",
      "Epoch 12/15\n",
      "1562/1562 [==============================] - 21s 13ms/step - loss: 0.5779 - accuracy: 0.7999 - val_loss: 0.5897 - val_accuracy: 0.7965\n",
      "Epoch 13/15\n",
      "1562/1562 [==============================] - 20s 13ms/step - loss: 0.5573 - accuracy: 0.8080 - val_loss: 0.5644 - val_accuracy: 0.8026\n",
      "Epoch 14/15\n",
      "1562/1562 [==============================] - 21s 13ms/step - loss: 0.5365 - accuracy: 0.8129 - val_loss: 0.5243 - val_accuracy: 0.8191\n",
      "Epoch 15/15\n",
      "1562/1562 [==============================] - 21s 13ms/step - loss: 0.5259 - accuracy: 0.8186 - val_loss: 0.5249 - val_accuracy: 0.8169\n"
     ]
    }
   ],
   "source": [
    "r = model.fit_generator(train_generator, validation_data=(x_test, y_test), steps_per_epoch=steps_per_epoch, epochs=15)"
   ]
  },
  {
   "cell_type": "code",
   "execution_count": 9,
   "metadata": {},
   "outputs": [
    {
     "name": "stdout",
     "output_type": "stream",
     "text": [
      "50000/50000 [==============================] - 6s 127us/sample - loss: 0.4100 - accuracy: 0.8591\n",
      "Training result:  [0.40997616572380063, 0.85912]\n",
      "10000/10000 [==============================] - 1s 107us/sample - loss: 0.5249 - accuracy: 0.8169\n",
      "Testing result:  [0.5248605719089509, 0.8169]\n"
     ]
    }
   ],
   "source": [
    "print(\"Training result: \",model.evaluate(x_train,y_train))\n",
    "print(\"Testing result: \",model.evaluate(x_test,y_test))"
   ]
  },
  {
   "cell_type": "code",
   "execution_count": 10,
   "metadata": {},
   "outputs": [
    {
     "data": {
      "text/plain": [
       "<matplotlib.legend.Legend at 0x26105d6f248>"
      ]
     },
     "execution_count": 10,
     "metadata": {},
     "output_type": "execute_result"
    },
    {
     "data": {
      "image/png": "[encoded data removed]",
      "text/plain": [
       "<Figure size 432x288 with 1 Axes>"
      ]
     },
     "metadata": {
      "needs_background": "light"
     },
     "output_type": "display_data"
    }
   ],
   "source": [
    "plt.plot(r.history['loss'],label='loss')\n",
    "plt.plot(r.history['val_loss'],label='val_loss')\n",
    "plt.legend()"
   ]
  },
  {
   "cell_type": "code",
   "execution_count": 11,
   "metadata": {},
   "outputs": [
    {
     "data": {
      "text/plain": [
       "<matplotlib.legend.Legend at 0x2610b259488>"
      ]
     },
     "execution_count": 11,
     "metadata": {},
     "output_type": "execute_result"
    },
    {
     "data": {
      "image/png": "[encoded data removed]",
      "text/plain": [
       "<Figure size 432x288 with 1 Axes>"
      ]
     },
     "metadata": {
      "needs_background": "light"
     },
     "output_type": "display_data"
    }
   ],
   "source": [
    "plt.plot(r.history['accuracy'],label='acc')\n",
    "plt.plot(r.history['val_accuracy'],label='val_acc')\n",
    "plt.legend()"
   ]
  },
  {
   "cell_type": "code",
   "execution_count": 12,
   "metadata": {},
   "outputs": [
    {
     "name": "stdout",
     "output_type": "stream",
     "text": [
      "Model: \"model\"\n",
      "_________________________________________________________________\n",
      "Layer (type)                 Output Shape              Param #   \n",
      "=================================================================\n",
      "input_1 (InputLayer)         [(None, 32, 32, 3)]       0         \n",
      "_________________________________________________________________\n",
      "conv2d (Conv2D)              (None, 32, 32, 32)        896       \n",
      "_________________________________________________________________\n",
      "batch_normalization (BatchNo (None, 32, 32, 32)        128       \n",
      "_________________________________________________________________\n",
      "conv2d_1 (Conv2D)            (None, 32, 32, 32)        9248      \n",
      "_________________________________________________________________\n",
      "batch_normalization_1 (Batch (None, 32, 32, 32)        128       \n",
      "_________________________________________________________________\n",
      "max_pooling2d (MaxPooling2D) (None, 16, 16, 32)        0         \n",
      "_________________________________________________________________\n",
      "conv2d_2 (Conv2D)            (None, 16, 16, 32)        9248      \n",
      "_________________________________________________________________\n",
      "batch_normalization_2 (Batch (None, 16, 16, 32)        128       \n",
      "_________________________________________________________________\n",
      "conv2d_3 (Conv2D)            (None, 16, 16, 32)        9248      \n",
      "_________________________________________________________________\n",
      "batch_normalization_3 (Batch (None, 16, 16, 32)        128       \n",
      "_________________________________________________________________\n",
      "max_pooling2d_1 (MaxPooling2 (None, 8, 8, 32)          0         \n",
      "_________________________________________________________________\n",
      "conv2d_4 (Conv2D)            (None, 8, 8, 32)          9248      \n",
      "_________________________________________________________________\n",
      "batch_normalization_4 (Batch (None, 8, 8, 32)          128       \n",
      "_________________________________________________________________\n",
      "conv2d_5 (Conv2D)            (None, 8, 8, 32)          9248      \n",
      "_________________________________________________________________\n",
      "batch_normalization_5 (Batch (None, 8, 8, 32)          128       \n",
      "_________________________________________________________________\n",
      "max_pooling2d_2 (MaxPooling2 (None, 4, 4, 32)          0         \n",
      "_________________________________________________________________\n",
      "flatten (Flatten)            (None, 512)               0         \n",
      "_________________________________________________________________\n",
      "dropout (Dropout)            (None, 512)               0         \n",
      "_________________________________________________________________\n",
      "dense (Dense)                (None, 1024)              525312    \n",
      "_________________________________________________________________\n",
      "dropout_1 (Dropout)          (None, 1024)              0         \n",
      "_________________________________________________________________\n",
      "dense_1 (Dense)              (None, 10)                10250     \n",
      "=================================================================\n",
      "Total params: 583,466\n",
      "Trainable params: 583,082\n",
      "Non-trainable params: 384\n",
      "_________________________________________________________________\n"
     ]
    }
   ],
   "source": [
    "model.summary()"
   ]
  },
  {
   "cell_type": "code",
   "execution_count": null,
   "metadata": {},
   "outputs": [],
   "source": []
  }
 ],
 "metadata": {
  "kernelspec": {
   "display_name": "Python 3",
   "language": "python",
   "name": "python3"
  },
  "language_info": {
   "codemirror_mode": {
    "name": "ipython",
    "version": 3
   },
   "file_extension": ".py",
   "mimetype": "text/x-python",
   "name": "python",
   "nbconvert_exporter": "python",
   "pygments_lexer": "ipython3",
   "version": "3.7.7"
  }
 },
 "nbformat": 4,
 "nbformat_minor": 4
}
