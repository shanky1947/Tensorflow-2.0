{
 "cells": [
  {
   "cell_type": "code",
   "execution_count": 1,
   "metadata": {},
   "outputs": [],
   "source": [
    "import os\n",
    "import cv2\n",
    "import numpy as np\n",
    "import matplotlib.pyplot as plt\n",
    "from tqdm import tqdm\n",
    "from random import shuffle\n",
    "import tensorflow as tf"
   ]
  },
  {
   "cell_type": "code",
   "execution_count": 2,
   "metadata": {},
   "outputs": [],
   "source": [
    "from tensorflow.keras.layers import Dense, Conv2D, Input, Flatten, Dropout, Flatten, MaxPooling2D\n",
    "from tensorflow.keras.layers import BatchNormalization, GlobalMaxPooling2D, Activation, Add\n",
    "from tensorflow.keras.models import Model, Sequential"
   ]
  },
  {
   "cell_type": "code",
   "execution_count": 3,
   "metadata": {},
   "outputs": [],
   "source": [
    "train_dir = r\"D:\\Projects\\ML\\Datasets\\dogs-vs-cats\\train\\train\"\n",
    "test_dir = r\"D:\\Projects\\ML\\Datasets\\dogs-vs-cats\\test1\\test1\""
   ]
  },
  {
   "cell_type": "code",
   "execution_count": 4,
   "metadata": {},
   "outputs": [],
   "source": [
    "imgSize=50"
   ]
  },
  {
   "cell_type": "code",
   "execution_count": 5,
   "metadata": {},
   "outputs": [],
   "source": [
    "def get_label(img):\n",
    "    img=img.split('.')\n",
    "    if(img[0]=='cat'):\n",
    "        return [0]\n",
    "    else:\n",
    "        return [1]"
   ]
  },
  {
   "cell_type": "code",
   "execution_count": 6,
   "metadata": {},
   "outputs": [],
   "source": [
    "def create_train_data():\n",
    "    training_data = []\n",
    "    for img in tqdm(os.listdir(train_dir)):            #going to each image by name, img=cat.0.jpg and so on\n",
    "        path = os.path.join(train_dir, img)            #joining dir path to name, get full path of image in path\n",
    "        image = cv2.imread(path, cv2.IMREAD_GRAYSCALE)  #read image from that path using cv2 and get numpy array\n",
    "        image = cv2.resize(image, (imgSize, imgSize))\n",
    "        label = get_label(img)                          #get name as cat and dog from each images name\n",
    "        data = [np.array(image), np.array(label)]\n",
    "        training_data.append(data)\n",
    "    shuffle(training_data)\n",
    "    return training_data"
   ]
  },
  {
   "cell_type": "code",
   "execution_count": 7,
   "metadata": {},
   "outputs": [
    {
     "name": "stderr",
     "output_type": "stream",
     "text": [
      "100%|███████████████████████████████████████████████████████████████████████████| 25000/25000 [00:34<00:00, 730.48it/s]\n"
     ]
    }
   ],
   "source": [
    "train_data = create_train_data()"
   ]
  },
  {
   "cell_type": "code",
   "execution_count": 8,
   "metadata": {},
   "outputs": [],
   "source": [
    "x = train_data[:-1000]\n",
    "y = train_data[-1000:]"
   ]
  },
  {
   "cell_type": "code",
   "execution_count": 9,
   "metadata": {},
   "outputs": [
    {
     "data": {
      "text/plain": [
       "(50, 50)"
      ]
     },
     "execution_count": 9,
     "metadata": {},
     "output_type": "execute_result"
    }
   ],
   "source": [
    "x[0][0].shape"
   ]
  },
  {
   "cell_type": "code",
   "execution_count": 10,
   "metadata": {},
   "outputs": [],
   "source": [
    "x_train = np.array([i[0] for i in x]).reshape(-1, imgSize, imgSize, 1)  #various nupy arrays inside a numpy array\n",
    "y_train = np.array([i[1] for i in x])"
   ]
  },
  {
   "cell_type": "code",
   "execution_count": 11,
   "metadata": {},
   "outputs": [],
   "source": [
    "x_test = np.array([i[0] for i in y]).reshape(-1, imgSize, imgSize, 1)\n",
    "y_test = np.array([i[1] for i in y])"
   ]
  },
  {
   "cell_type": "code",
   "execution_count": 12,
   "metadata": {},
   "outputs": [],
   "source": [
    "x_train = x_train/255.0\n",
    "x_test = x_test/255.0"
   ]
  },
  {
   "cell_type": "code",
   "execution_count": 13,
   "metadata": {},
   "outputs": [],
   "source": [
    "y_train = y_train.flatten()  #not necessary\n",
    "y_test = y_test.flatten()"
   ]
  },
  {
   "cell_type": "code",
   "execution_count": 14,
   "metadata": {},
   "outputs": [
    {
     "data": {
      "text/plain": [
       "(50, 50, 1)"
      ]
     },
     "execution_count": 14,
     "metadata": {},
     "output_type": "execute_result"
    }
   ],
   "source": [
    "x_train[0].shape"
   ]
  },
  {
   "cell_type": "code",
   "execution_count": 15,
   "metadata": {},
   "outputs": [],
   "source": [
    "i = Input(shape=x_train[0].shape)\n",
    "x = Conv2D(32, (3,3), activation='relu', padding='same')(i)\n",
    "x = Dropout(0.4)(x)\n",
    "x = Conv2D(32, (3,3), activation='relu', padding='same')(x)\n",
    "x = Dropout(0.4)(x)\n",
    "x = MaxPooling2D((2,2))(x)\n",
    "\n",
    "x = Conv2D(64, (3,3), activation='relu', padding='same')(x)\n",
    "x = Dropout(0.4)(x)\n",
    "x = Conv2D(64, (3,3), activation='relu', padding='same')(x)\n",
    "x = Dropout(0.4)(x)\n",
    "x = MaxPooling2D((2,2))(x)\n",
    "\n",
    "x = Conv2D(128, (3,3), activation='relu', padding='same')(x)\n",
    "x = Dropout(0.4)(x)\n",
    "x = Conv2D(128, (3,3), activation='relu', padding='same')(x)\n",
    "x = Dropout(0.4)(x)\n",
    "x = MaxPooling2D((2,2))(x)\n",
    "\n",
    "\n",
    "x = Flatten()(x)\n",
    "# x = GlobalMaxPooling2D()(x)\n",
    "# x = Dropout(0.2)(x)\n",
    "# x = Dense(1024, activation='relu')(x)\n",
    "# x = Dropout(0.2)(x)\n",
    "x = Dense(2,activation='softmax')(x)\n",
    "\n",
    "model = Model(i,x)"
   ]
  },
  {
   "cell_type": "code",
   "execution_count": 16,
   "metadata": {
    "scrolled": false
   },
   "outputs": [
    {
     "name": "stdout",
     "output_type": "stream",
     "text": [
      "Model: \"model\"\n",
      "_________________________________________________________________\n",
      "Layer (type)                 Output Shape              Param #   \n",
      "=================================================================\n",
      "input_1 (InputLayer)         [(None, 50, 50, 1)]       0         \n",
      "_________________________________________________________________\n",
      "conv2d (Conv2D)              (None, 50, 50, 32)        320       \n",
      "_________________________________________________________________\n",
      "dropout (Dropout)            (None, 50, 50, 32)        0         \n",
      "_________________________________________________________________\n",
      "conv2d_1 (Conv2D)            (None, 50, 50, 32)        9248      \n",
      "_________________________________________________________________\n",
      "dropout_1 (Dropout)          (None, 50, 50, 32)        0         \n",
      "_________________________________________________________________\n",
      "max_pooling2d (MaxPooling2D) (None, 25, 25, 32)        0         \n",
      "_________________________________________________________________\n",
      "conv2d_2 (Conv2D)            (None, 25, 25, 64)        18496     \n",
      "_________________________________________________________________\n",
      "dropout_2 (Dropout)          (None, 25, 25, 64)        0         \n",
      "_________________________________________________________________\n",
      "conv2d_3 (Conv2D)            (None, 25, 25, 64)        36928     \n",
      "_________________________________________________________________\n",
      "dropout_3 (Dropout)          (None, 25, 25, 64)        0         \n",
      "_________________________________________________________________\n",
      "max_pooling2d_1 (MaxPooling2 (None, 12, 12, 64)        0         \n",
      "_________________________________________________________________\n",
      "conv2d_4 (Conv2D)            (None, 12, 12, 128)       73856     \n",
      "_________________________________________________________________\n",
      "dropout_4 (Dropout)          (None, 12, 12, 128)       0         \n",
      "_________________________________________________________________\n",
      "conv2d_5 (Conv2D)            (None, 12, 12, 128)       147584    \n",
      "_________________________________________________________________\n",
      "dropout_5 (Dropout)          (None, 12, 12, 128)       0         \n",
      "_________________________________________________________________\n",
      "max_pooling2d_2 (MaxPooling2 (None, 6, 6, 128)         0         \n",
      "_________________________________________________________________\n",
      "flatten (Flatten)            (None, 4608)              0         \n",
      "_________________________________________________________________\n",
      "dense (Dense)                (None, 2)                 9218      \n",
      "=================================================================\n",
      "Total params: 295,650\n",
      "Trainable params: 295,650\n",
      "Non-trainable params: 0\n",
      "_________________________________________________________________\n"
     ]
    }
   ],
   "source": [
    "model.summary()"
   ]
  },
  {
   "cell_type": "code",
   "execution_count": 17,
   "metadata": {},
   "outputs": [],
   "source": [
    "model.compile(optimizer = 'adam', loss = 'sparse_categorical_crossentropy', metrics = ['accuracy'])"
   ]
  },
  {
   "cell_type": "code",
   "execution_count": 18,
   "metadata": {},
   "outputs": [],
   "source": [
    "# batch_size = 32\n",
    "# data_generator = tf.keras.preprocessing.image.ImageDataGenerator(width_shift_range=0.1, height_shift_range=0.1, horizontal_flip=True)\n",
    "# train_generator = data_generator.flow(x_train,y_train, batch_size)\n",
    "# steps_per_epoch = x_train.shape[0] // batch_size"
   ]
  },
  {
   "cell_type": "code",
   "execution_count": 19,
   "metadata": {
    "scrolled": true
   },
   "outputs": [],
   "source": [
    "# r = model.fit_generator(train_generator, validation_data=(x_test,y_test), steps_per_epoch=steps_per_epoch, epochs=50)"
   ]
  },
  {
   "cell_type": "code",
   "execution_count": 20,
   "metadata": {
    "scrolled": true
   },
   "outputs": [
    {
     "name": "stdout",
     "output_type": "stream",
     "text": [
      "Train on 24000 samples, validate on 1000 samples\n",
      "Epoch 1/50\n",
      "24000/24000 [==============================] - 23s 940us/sample - loss: 0.6824 - accuracy: 0.5562 - val_loss: 0.6572 - val_accuracy: 0.6340\n",
      "Epoch 2/50\n",
      "24000/24000 [==============================] - 19s 787us/sample - loss: 0.6179 - accuracy: 0.6569 - val_loss: 0.6087 - val_accuracy: 0.6670\n",
      "Epoch 3/50\n",
      "24000/24000 [==============================] - 19s 798us/sample - loss: 0.5547 - accuracy: 0.7171 - val_loss: 0.5366 - val_accuracy: 0.7500\n",
      "Epoch 4/50\n",
      "24000/24000 [==============================] - 19s 785us/sample - loss: 0.5180 - accuracy: 0.7462 - val_loss: 0.5034 - val_accuracy: 0.7760\n",
      "Epoch 5/50\n",
      "24000/24000 [==============================] - 19s 789us/sample - loss: 0.4876 - accuracy: 0.7652 - val_loss: 0.5114 - val_accuracy: 0.7600\n",
      "Epoch 6/50\n",
      "24000/24000 [==============================] - 19s 787us/sample - loss: 0.4638 - accuracy: 0.7788 - val_loss: 0.4627 - val_accuracy: 0.8160\n",
      "Epoch 7/50\n",
      "24000/24000 [==============================] - 19s 792us/sample - loss: 0.4520 - accuracy: 0.7866 - val_loss: 0.4573 - val_accuracy: 0.8040\n",
      "Epoch 8/50\n",
      "24000/24000 [==============================] - 19s 792us/sample - loss: 0.4381 - accuracy: 0.7960 - val_loss: 0.4338 - val_accuracy: 0.8020\n",
      "Epoch 9/50\n",
      "24000/24000 [==============================] - 19s 791us/sample - loss: 0.4220 - accuracy: 0.8049 - val_loss: 0.4370 - val_accuracy: 0.8030\n",
      "Epoch 10/50\n",
      "24000/24000 [==============================] - 19s 781us/sample - loss: 0.4117 - accuracy: 0.8114 - val_loss: 0.4266 - val_accuracy: 0.8270\n",
      "Epoch 11/50\n",
      "24000/24000 [==============================] - 19s 783us/sample - loss: 0.4070 - accuracy: 0.8124 - val_loss: 0.4289 - val_accuracy: 0.8290\n",
      "Epoch 12/50\n",
      "24000/24000 [==============================] - 19s 793us/sample - loss: 0.3995 - accuracy: 0.8180 - val_loss: 0.4494 - val_accuracy: 0.8220\n",
      "Epoch 13/50\n",
      "24000/24000 [==============================] - 19s 786us/sample - loss: 0.3963 - accuracy: 0.8171 - val_loss: 0.4130 - val_accuracy: 0.8390\n",
      "Epoch 14/50\n",
      "24000/24000 [==============================] - 19s 800us/sample - loss: 0.3955 - accuracy: 0.8194 - val_loss: 0.3983 - val_accuracy: 0.8390\n",
      "Epoch 15/50\n",
      "24000/24000 [==============================] - 19s 803us/sample - loss: 0.3876 - accuracy: 0.8226 - val_loss: 0.4077 - val_accuracy: 0.8300\n",
      "Epoch 16/50\n",
      "24000/24000 [==============================] - 19s 812us/sample - loss: 0.3827 - accuracy: 0.8272 - val_loss: 0.3992 - val_accuracy: 0.8420\n",
      "Epoch 17/50\n",
      "24000/24000 [==============================] - 19s 794us/sample - loss: 0.3744 - accuracy: 0.8303 - val_loss: 0.4312 - val_accuracy: 0.8220\n",
      "Epoch 18/50\n",
      "24000/24000 [==============================] - 19s 811us/sample - loss: 0.3743 - accuracy: 0.8308 - val_loss: 0.3689 - val_accuracy: 0.8610\n",
      "Epoch 19/50\n",
      "24000/24000 [==============================] - 19s 794us/sample - loss: 0.3695 - accuracy: 0.8318 - val_loss: 0.3920 - val_accuracy: 0.8440\n",
      "Epoch 20/50\n",
      "24000/24000 [==============================] - 19s 801us/sample - loss: 0.3661 - accuracy: 0.8344 - val_loss: 0.3831 - val_accuracy: 0.8540\n",
      "Epoch 21/50\n",
      "24000/24000 [==============================] - 19s 786us/sample - loss: 0.3644 - accuracy: 0.8362 - val_loss: 0.3504 - val_accuracy: 0.8620\n",
      "Epoch 22/50\n",
      "24000/24000 [==============================] - 19s 789us/sample - loss: 0.3583 - accuracy: 0.8382 - val_loss: 0.3784 - val_accuracy: 0.8530\n",
      "Epoch 23/50\n",
      "24000/24000 [==============================] - 19s 787us/sample - loss: 0.3620 - accuracy: 0.8353 - val_loss: 0.3673 - val_accuracy: 0.8560\n",
      "Epoch 24/50\n",
      "24000/24000 [==============================] - 19s 787us/sample - loss: 0.3558 - accuracy: 0.8405 - val_loss: 0.3747 - val_accuracy: 0.8670\n",
      "Epoch 25/50\n",
      "24000/24000 [==============================] - 19s 787us/sample - loss: 0.3566 - accuracy: 0.8400 - val_loss: 0.3784 - val_accuracy: 0.8470\n",
      "Epoch 26/50\n",
      "24000/24000 [==============================] - 19s 787us/sample - loss: 0.3564 - accuracy: 0.8418 - val_loss: 0.3630 - val_accuracy: 0.8580\n",
      "Epoch 27/50\n",
      "24000/24000 [==============================] - 19s 787us/sample - loss: 0.3538 - accuracy: 0.8399 - val_loss: 0.3654 - val_accuracy: 0.8590\n",
      "Epoch 28/50\n",
      "24000/24000 [==============================] - 19s 783us/sample - loss: 0.3569 - accuracy: 0.8412 - val_loss: 0.3908 - val_accuracy: 0.8390\n",
      "Epoch 29/50\n",
      "24000/24000 [==============================] - 19s 782us/sample - loss: 0.3478 - accuracy: 0.8443 - val_loss: 0.3406 - val_accuracy: 0.8650\n",
      "Epoch 30/50\n",
      "24000/24000 [==============================] - 19s 782us/sample - loss: 0.3505 - accuracy: 0.8437 - val_loss: 0.3615 - val_accuracy: 0.8540\n",
      "Epoch 31/50\n",
      "24000/24000 [==============================] - 19s 783us/sample - loss: 0.3499 - accuracy: 0.8422 - val_loss: 0.3511 - val_accuracy: 0.8660\n",
      "Epoch 32/50\n",
      "24000/24000 [==============================] - 19s 783us/sample - loss: 0.3450 - accuracy: 0.8451 - val_loss: 0.3501 - val_accuracy: 0.8640\n",
      "Epoch 33/50\n",
      "24000/24000 [==============================] - 19s 795us/sample - loss: 0.3413 - accuracy: 0.8477 - val_loss: 0.3446 - val_accuracy: 0.8790\n",
      "Epoch 34/50\n",
      "24000/24000 [==============================] - 19s 810us/sample - loss: 0.3438 - accuracy: 0.8463 - val_loss: 0.3369 - val_accuracy: 0.8690\n",
      "Epoch 35/50\n",
      "24000/24000 [==============================] - 19s 803us/sample - loss: 0.3457 - accuracy: 0.8467 - val_loss: 0.3345 - val_accuracy: 0.8760\n",
      "Epoch 36/50\n",
      "24000/24000 [==============================] - 19s 802us/sample - loss: 0.3420 - accuracy: 0.8460 - val_loss: 0.3474 - val_accuracy: 0.8740\n",
      "Epoch 37/50\n",
      "24000/24000 [==============================] - 19s 784us/sample - loss: 0.3414 - accuracy: 0.8478 - val_loss: 0.3481 - val_accuracy: 0.8620\n",
      "Epoch 38/50\n",
      "24000/24000 [==============================] - 19s 786us/sample - loss: 0.3417 - accuracy: 0.8482 - val_loss: 0.3571 - val_accuracy: 0.8800\n",
      "Epoch 39/50\n",
      "24000/24000 [==============================] - 19s 785us/sample - loss: 0.3368 - accuracy: 0.8528 - val_loss: 0.3164 - val_accuracy: 0.8820\n",
      "Epoch 40/50\n",
      "24000/24000 [==============================] - 19s 789us/sample - loss: 0.3397 - accuracy: 0.8500 - val_loss: 0.3439 - val_accuracy: 0.8700\n",
      "Epoch 41/50\n",
      "24000/24000 [==============================] - 19s 797us/sample - loss: 0.3366 - accuracy: 0.8515 - val_loss: 0.3433 - val_accuracy: 0.8660\n",
      "Epoch 42/50\n",
      "24000/24000 [==============================] - 19s 803us/sample - loss: 0.3358 - accuracy: 0.8506 - val_loss: 0.3525 - val_accuracy: 0.8670\n",
      "Epoch 43/50\n",
      "24000/24000 [==============================] - 19s 812us/sample - loss: 0.3244 - accuracy: 0.8577 - val_loss: 0.3548 - val_accuracy: 0.8590\n",
      "Epoch 44/50\n",
      "24000/24000 [==============================] - 20s 813us/sample - loss: 0.3443 - accuracy: 0.8454 - val_loss: 0.3701 - val_accuracy: 0.8680\n",
      "Epoch 45/50\n",
      "24000/24000 [==============================] - 19s 809us/sample - loss: 0.3284 - accuracy: 0.8548 - val_loss: 0.3453 - val_accuracy: 0.8840\n",
      "Epoch 46/50\n",
      "24000/24000 [==============================] - 19s 805us/sample - loss: 0.3326 - accuracy: 0.8532 - val_loss: 0.3492 - val_accuracy: 0.8670\n",
      "Epoch 47/50\n",
      "24000/24000 [==============================] - 19s 806us/sample - loss: 0.3307 - accuracy: 0.8562 - val_loss: 0.3245 - val_accuracy: 0.8710\n",
      "Epoch 48/50\n",
      "24000/24000 [==============================] - 19s 807us/sample - loss: 0.3295 - accuracy: 0.8535 - val_loss: 0.3341 - val_accuracy: 0.8750\n",
      "Epoch 49/50\n",
      "24000/24000 [==============================] - 19s 805us/sample - loss: 0.3284 - accuracy: 0.8545 - val_loss: 0.3544 - val_accuracy: 0.8640\n",
      "Epoch 50/50\n",
      "24000/24000 [==============================] - 19s 802us/sample - loss: 0.3347 - accuracy: 0.8499 - val_loss: 0.3695 - val_accuracy: 0.8630\n"
     ]
    }
   ],
   "source": [
    "r = model.fit(x_train, y_train, validation_data=(x_test,y_test), epochs=50)"
   ]
  },
  {
   "cell_type": "code",
   "execution_count": 21,
   "metadata": {},
   "outputs": [
    {
     "name": "stdout",
     "output_type": "stream",
     "text": [
      "24000/24000 [==============================] - 6s 253us/sample - loss: 0.3511 - accuracy: 0.8777\n",
      "Training:  [0.3511292610168457, 0.8777083]\n",
      "1000/1000 [==============================] - 0s 285us/sample - loss: 0.3695 - accuracy: 0.8630\n",
      "Testing:  [0.3694841213226318, 0.863]\n"
     ]
    }
   ],
   "source": [
    "print(\"Training: \", model.evaluate(x_train, y_train))\n",
    "print(\"Testing: \", model.evaluate(x_test, y_test))"
   ]
  },
  {
   "cell_type": "code",
   "execution_count": 22,
   "metadata": {},
   "outputs": [
    {
     "data": {
      "text/plain": [
       "<matplotlib.legend.Legend at 0x22278b6d608>"
      ]
     },
     "execution_count": 22,
     "metadata": {},
     "output_type": "execute_result"
    },
    {
     "data": {
      "image/png": "[encoded data removed]",
      "text/plain": [
       "<Figure size 432x288 with 1 Axes>"
      ]
     },
     "metadata": {
      "needs_background": "light"
     },
     "output_type": "display_data"
    }
   ],
   "source": [
    "plt.plot(r.history['loss'], label = 'loss')\n",
    "plt.plot(r.history['val_loss'], label = 'val_loss')\n",
    "plt.legend()"
   ]
  },
  {
   "cell_type": "code",
   "execution_count": 23,
   "metadata": {},
   "outputs": [
    {
     "data": {
      "text/plain": [
       "<matplotlib.legend.Legend at 0x22278ee6288>"
      ]
     },
     "execution_count": 23,
     "metadata": {},
     "output_type": "execute_result"
    },
    {
     "data": {
      "image/png": "[encoded data removed]",
      "text/plain": [
       "<Figure size 432x288 with 1 Axes>"
      ]
     },
     "metadata": {
      "needs_background": "light"
     },
     "output_type": "display_data"
    }
   ],
   "source": [
    "plt.plot(r.history['accuracy'], label = 'acc')\n",
    "plt.plot(r.history['val_accuracy'], label = 'val_acc')\n",
    "plt.legend()"
   ]
  },
  {
   "cell_type": "code",
   "execution_count": 24,
   "metadata": {},
   "outputs": [],
   "source": [
    "#model.save(\"graypadd.h5\")"
   ]
  },
  {
   "cell_type": "code",
   "execution_count": 25,
   "metadata": {},
   "outputs": [],
   "source": [
    "#graypadd = tf.keras.models.load_model(\"mymodel.h5\")"
   ]
  },
  {
   "cell_type": "code",
   "execution_count": 26,
   "metadata": {},
   "outputs": [],
   "source": [
    "# case 1- grayscale without sride(with padding)\n",
    "# case 2- rgb with strides"
   ]
  },
  {
   "cell_type": "code",
   "execution_count": null,
   "metadata": {},
   "outputs": [],
   "source": []
  }
 ],
 "metadata": {
  "kernelspec": {
   "display_name": "Python 3",
   "language": "python",
   "name": "python3"
  },
  "language_info": {
   "codemirror_mode": {
    "name": "ipython",
    "version": 3
   },
   "file_extension": ".py",
   "mimetype": "text/x-python",
   "name": "python",
   "nbconvert_exporter": "python",
   "pygments_lexer": "ipython3",
   "version": "3.7.9"
  }
 },
 "nbformat": 4,
 "nbformat_minor": 4
}
