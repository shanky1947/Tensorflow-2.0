{
 "cells": [
  {
   "cell_type": "code",
   "execution_count": 1,
   "metadata": {},
   "outputs": [],
   "source": [
    "import cv2\n",
    "import os \n",
    "from tqdm import tqdm\n",
    "import numpy as np\n",
    "from random import shuffle\n",
    "import tensorflow as tf"
   ]
  },
  {
   "cell_type": "code",
   "execution_count": 2,
   "metadata": {},
   "outputs": [],
   "source": [
    "import matplotlib.pyplot as plt"
   ]
  },
  {
   "cell_type": "code",
   "execution_count": 3,
   "metadata": {},
   "outputs": [],
   "source": [
    "from tensorflow.keras.layers import Dense, Dropout, Input, Conv2D, Flatten, MaxPooling2D, BatchNormalization, GlobalMaxPooling2D\n",
    "from tensorflow.keras.models import Model"
   ]
  },
  {
   "cell_type": "code",
   "execution_count": 4,
   "metadata": {},
   "outputs": [],
   "source": [
    "TRAIN_DIR='D://ML/Datasets/dogs-vs-cats/train/train'\n",
    "TEST_DIR='D://ML/Datasets/dogs-vs-cats/test1/test1'"
   ]
  },
  {
   "cell_type": "code",
   "execution_count": 5,
   "metadata": {},
   "outputs": [],
   "source": [
    "IMG_SIZE=50\n",
    "LR=0.001\n",
    "#LR=1e-3\n",
    "\n",
    "MODEL_NAME='dogsvscats-{}-{}.model'.format(LR,'2conv-basic')"
   ]
  },
  {
   "cell_type": "code",
   "execution_count": 6,
   "metadata": {},
   "outputs": [],
   "source": [
    "def label_img(img):\n",
    "    label=img.split('.')[0]\n",
    "    if label=='cat':\n",
    "        return [1]\n",
    "    elif label=='dog':\n",
    "        return [0]"
   ]
  },
  {
   "cell_type": "code",
   "execution_count": 7,
   "metadata": {},
   "outputs": [],
   "source": [
    "def create_train_data():\n",
    "    training_data=[]\n",
    "    for img in tqdm(os.listdir(TRAIN_DIR)):\n",
    "        label=label_img(img)\n",
    "        path=os.path.join(TRAIN_DIR, img)\n",
    "        img=cv2.imread(path, cv2.IMREAD_GRAYSCALE)\n",
    "        img=cv2.resize(img,(IMG_SIZE,IMG_SIZE))\n",
    "        training_data.append([np.array(img),np.array(label)])\n",
    "    shuffle(training_data)\n",
    "    return training_data"
   ]
  },
  {
   "cell_type": "code",
   "execution_count": 8,
   "metadata": {},
   "outputs": [],
   "source": [
    "def process_test_data():\n",
    "    testing_data=[]\n",
    "    for img in tqdm(os.listdir(TEST_DIR)):\n",
    "        path=os.path.join(TEST_DIR,img)\n",
    "        img_num=img.split('.')[0]\n",
    "        img=cv2.imread(path,cv2.IMREAD_GRAYSCALE)\n",
    "        img=cv2.resize(img,(IMG_SIZE,IMG_SIZE))\n",
    "        testing_data.append([np.array(img),img_num])\n",
    "    shuffle(testing_data)\n",
    "    return testing_data"
   ]
  },
  {
   "cell_type": "code",
   "execution_count": 9,
   "metadata": {},
   "outputs": [],
   "source": [
    "#test_data=process_test_data()"
   ]
  },
  {
   "cell_type": "code",
   "execution_count": 10,
   "metadata": {},
   "outputs": [
    {
     "name": "stderr",
     "output_type": "stream",
     "text": [
      "100%|███████████████████████████████████████████████████████████████████████████| 25000/25000 [03:38<00:00, 114.47it/s]\n"
     ]
    }
   ],
   "source": [
    "train_data=create_train_data()"
   ]
  },
  {
   "cell_type": "code",
   "execution_count": 11,
   "metadata": {},
   "outputs": [],
   "source": [
    "x = train_data[:-1000]\n",
    "y = train_data[-1000:]"
   ]
  },
  {
   "cell_type": "code",
   "execution_count": 12,
   "metadata": {},
   "outputs": [
    {
     "name": "stdout",
     "output_type": "stream",
     "text": [
      "25000 24000 1000\n"
     ]
    }
   ],
   "source": [
    "print(len(train_data),len(train_data[:-1000]),len(train_data[-1000:])) #indexing in list starts from -1 from end"
   ]
  },
  {
   "cell_type": "code",
   "execution_count": 13,
   "metadata": {},
   "outputs": [
    {
     "data": {
      "text/plain": [
       "(50, 50)"
      ]
     },
     "execution_count": 13,
     "metadata": {},
     "output_type": "execute_result"
    }
   ],
   "source": [
    "x[0][0].shape"
   ]
  },
  {
   "cell_type": "code",
   "execution_count": 14,
   "metadata": {},
   "outputs": [],
   "source": [
    "#Separating features and labels in training and testing set created from main training dataset\n",
    "\n",
    "x_train = np.array([i[0] for i in x]).reshape(-1,50,50,1)\n",
    "y_train = np.array([i[1] for i in x])"
   ]
  },
  {
   "cell_type": "code",
   "execution_count": 15,
   "metadata": {},
   "outputs": [],
   "source": [
    "x_test = np.array([i[0] for i in y]).reshape(-1,50,50,1)\n",
    "y_test = np.array([i[1] for i in y])"
   ]
  },
  {
   "cell_type": "code",
   "execution_count": 16,
   "metadata": {},
   "outputs": [
    {
     "name": "stdout",
     "output_type": "stream",
     "text": [
      "(24000, 50, 50, 1) (24000, 1) (1000, 50, 50, 1) (1000, 1)\n"
     ]
    }
   ],
   "source": [
    "print(x_train.shape,y_train.shape,x_test.shape,y_test.shape)"
   ]
  },
  {
   "cell_type": "code",
   "execution_count": 17,
   "metadata": {},
   "outputs": [],
   "source": [
    "x_train, x_test=x_train/255.0, x_test/255.0\n",
    "y_train, y_test=y_train.flatten(), y_test.flatten()"
   ]
  },
  {
   "cell_type": "code",
   "execution_count": 18,
   "metadata": {},
   "outputs": [
    {
     "name": "stdout",
     "output_type": "stream",
     "text": [
      "(24000,)\n"
     ]
    }
   ],
   "source": [
    "print(y_train.shape)"
   ]
  },
  {
   "cell_type": "code",
   "execution_count": 19,
   "metadata": {
    "scrolled": true
   },
   "outputs": [
    {
     "data": {
      "text/plain": [
       "array([[[0.53333333],\n",
       "        [0.51372549],\n",
       "        [0.49411765],\n",
       "        ...,\n",
       "        [0.27843137],\n",
       "        [0.12941176],\n",
       "        [0.12941176]],\n",
       "\n",
       "       [[0.40392157],\n",
       "        [0.52941176],\n",
       "        [0.45490196],\n",
       "        ...,\n",
       "        [0.65882353],\n",
       "        [0.50980392],\n",
       "        [0.30588235]],\n",
       "\n",
       "       [[0.56862745],\n",
       "        [0.50588235],\n",
       "        [0.5254902 ],\n",
       "        ...,\n",
       "        [0.69803922],\n",
       "        [0.68235294],\n",
       "        [0.69803922]],\n",
       "\n",
       "       ...,\n",
       "\n",
       "       [[0.5254902 ],\n",
       "        [0.58431373],\n",
       "        [0.62745098],\n",
       "        ...,\n",
       "        [0.5254902 ],\n",
       "        [0.91372549],\n",
       "        [0.94117647]],\n",
       "\n",
       "       [[0.45490196],\n",
       "        [0.70980392],\n",
       "        [0.47058824],\n",
       "        ...,\n",
       "        [0.62745098],\n",
       "        [0.96078431],\n",
       "        [0.63529412]],\n",
       "\n",
       "       [[0.58039216],\n",
       "        [0.70980392],\n",
       "        [0.64313725],\n",
       "        ...,\n",
       "        [0.82745098],\n",
       "        [0.92156863],\n",
       "        [0.50588235]]])"
      ]
     },
     "execution_count": 19,
     "metadata": {},
     "output_type": "execute_result"
    }
   ],
   "source": [
    "x_train[0]"
   ]
  },
  {
   "cell_type": "code",
   "execution_count": 20,
   "metadata": {},
   "outputs": [
    {
     "name": "stdout",
     "output_type": "stream",
     "text": [
      "(50, 50, 1)\n"
     ]
    }
   ],
   "source": [
    "print(x_train[0].shape)"
   ]
  },
  {
   "cell_type": "code",
   "execution_count": 21,
   "metadata": {},
   "outputs": [],
   "source": [
    "i = Input(shape=x_train[0].shape)\n",
    "x = Conv2D(32, (3,3), activation='relu', padding='same')(i)\n",
    "x = BatchNormalization()(x)\n",
    "x = Conv2D(32, (3,3), activation='relu', padding='same')(x)\n",
    "x = BatchNormalization()(x)\n",
    "x = MaxPooling2D((2,2))(x)\n",
    "\n",
    "x = Conv2D(32, (3,3), activation='relu', padding='same')(x)\n",
    "x = BatchNormalization()(x)\n",
    "x = Conv2D(32, (3,3), activation='relu', padding='same')(x)\n",
    "x = BatchNormalization()(x)\n",
    "x = MaxPooling2D((2,2))(x)\n",
    "\n",
    "x = Conv2D(32, (3,3), activation='relu', padding='same')(x)\n",
    "x = BatchNormalization()(x)\n",
    "x = Conv2D(32, (3,3), activation='relu', padding='same')(x)\n",
    "x = BatchNormalization()(x)\n",
    "x = MaxPooling2D((2,2))(x)\n",
    "\n",
    "\n",
    "#x = Flatten()(x)\n",
    "x = GlobalMaxPooling2D()(x)\n",
    "x = Dropout(0.2)(x)\n",
    "x = Dense(1024, activation='relu')(x)\n",
    "x = Dropout(0.2)(x)\n",
    "x = Dense(2,activation='softmax')(x)\n",
    "\n",
    "model = Model(i,x)"
   ]
  },
  {
   "cell_type": "code",
   "execution_count": 22,
   "metadata": {},
   "outputs": [],
   "source": [
    "model.compile(optimizer='adam',\n",
    "             loss='sparse_categorical_crossentropy',\n",
    "             metrics=['accuracy'])"
   ]
  },
  {
   "cell_type": "code",
   "execution_count": 23,
   "metadata": {},
   "outputs": [
    {
     "data": {
      "text/plain": [
       "24000"
      ]
     },
     "execution_count": 23,
     "metadata": {},
     "output_type": "execute_result"
    }
   ],
   "source": [
    "x_train.shape[0]"
   ]
  },
  {
   "cell_type": "code",
   "execution_count": 24,
   "metadata": {},
   "outputs": [],
   "source": [
    "batch_size = 32\n",
    "data_generator = tf.keras.preprocessing.image.ImageDataGenerator(width_shift_range=0.1, height_shift_range=0.1, horizontal_flip=True)\n",
    "train_generator = data_generator.flow(x_train,y_train, batch_size)\n",
    "steps_per_epoch = x_train.shape[0] // batch_size"
   ]
  },
  {
   "cell_type": "code",
   "execution_count": 25,
   "metadata": {
    "scrolled": true
   },
   "outputs": [
    {
     "name": "stdout",
     "output_type": "stream",
     "text": [
      "WARNING:tensorflow:From <ipython-input-25-7c34863e804e>:1: Model.fit_generator (from tensorflow.python.keras.engine.training) is deprecated and will be removed in a future version.\n",
      "Instructions for updating:\n",
      "Please use Model.fit, which supports generators.\n",
      "WARNING:tensorflow:sample_weight modes were coerced from\n",
      "  ...\n",
      "    to  \n",
      "  ['...']\n",
      "Train for 750 steps, validate on 1000 samples\n",
      "Epoch 1/50\n",
      "750/750 [==============================] - 17s 22ms/step - loss: 0.6591 - accuracy: 0.6226 - val_loss: 0.6977 - val_accuracy: 0.5390\n",
      "Epoch 2/50\n",
      "750/750 [==============================] - 13s 18ms/step - loss: 0.5440 - accuracy: 0.7223 - val_loss: 0.5560 - val_accuracy: 0.7370\n",
      "Epoch 3/50\n",
      "750/750 [==============================] - 13s 17ms/step - loss: 0.4798 - accuracy: 0.7664 - val_loss: 0.7083 - val_accuracy: 0.6090\n",
      "Epoch 4/50\n",
      "750/750 [==============================] - 13s 18ms/step - loss: 0.4297 - accuracy: 0.7983 - val_loss: 0.4436 - val_accuracy: 0.8100\n",
      "Epoch 5/50\n",
      "750/750 [==============================] - 13s 18ms/step - loss: 0.3972 - accuracy: 0.8159 - val_loss: 0.4046 - val_accuracy: 0.8180\n",
      "Epoch 6/50\n",
      "750/750 [==============================] - 13s 18ms/step - loss: 0.3666 - accuracy: 0.8333 - val_loss: 0.4051 - val_accuracy: 0.8210\n",
      "Epoch 7/50\n",
      "750/750 [==============================] - 13s 18ms/step - loss: 0.3512 - accuracy: 0.8424 - val_loss: 0.3865 - val_accuracy: 0.8270\n",
      "Epoch 8/50\n",
      "750/750 [==============================] - 14s 19ms/step - loss: 0.3367 - accuracy: 0.8517 - val_loss: 0.3966 - val_accuracy: 0.8220\n",
      "Epoch 9/50\n",
      "750/750 [==============================] - 13s 17ms/step - loss: 0.3274 - accuracy: 0.8558 - val_loss: 0.3467 - val_accuracy: 0.8530\n",
      "Epoch 10/50\n",
      "750/750 [==============================] - 13s 17ms/step - loss: 0.3141 - accuracy: 0.8608 - val_loss: 0.4589 - val_accuracy: 0.7790\n",
      "Epoch 11/50\n",
      "750/750 [==============================] - 13s 17ms/step - loss: 0.3068 - accuracy: 0.8687 - val_loss: 0.4027 - val_accuracy: 0.8310\n",
      "Epoch 12/50\n",
      "750/750 [==============================] - 13s 17ms/step - loss: 0.2989 - accuracy: 0.8703 - val_loss: 0.3368 - val_accuracy: 0.8470\n",
      "Epoch 13/50\n",
      "750/750 [==============================] - 13s 17ms/step - loss: 0.2899 - accuracy: 0.8748 - val_loss: 0.3534 - val_accuracy: 0.8300\n",
      "Epoch 14/50\n",
      "750/750 [==============================] - 13s 17ms/step - loss: 0.2836 - accuracy: 0.8753 - val_loss: 0.3131 - val_accuracy: 0.8660\n",
      "Epoch 15/50\n",
      "750/750 [==============================] - 13s 17ms/step - loss: 0.2768 - accuracy: 0.8805 - val_loss: 0.3416 - val_accuracy: 0.8410\n",
      "Epoch 16/50\n",
      "750/750 [==============================] - 13s 17ms/step - loss: 0.2700 - accuracy: 0.8800 - val_loss: 0.3148 - val_accuracy: 0.8810\n",
      "Epoch 17/50\n",
      "750/750 [==============================] - 13s 17ms/step - loss: 0.2662 - accuracy: 0.8849 - val_loss: 0.3515 - val_accuracy: 0.8550\n",
      "Epoch 18/50\n",
      "750/750 [==============================] - 13s 17ms/step - loss: 0.2618 - accuracy: 0.8853 - val_loss: 0.3179 - val_accuracy: 0.8780\n",
      "Epoch 19/50\n",
      "750/750 [==============================] - 13s 17ms/step - loss: 0.2539 - accuracy: 0.8903 - val_loss: 0.3109 - val_accuracy: 0.8720\n",
      "Epoch 20/50\n",
      "750/750 [==============================] - 13s 17ms/step - loss: 0.2498 - accuracy: 0.8946 - val_loss: 0.2855 - val_accuracy: 0.8810\n",
      "Epoch 21/50\n",
      "750/750 [==============================] - 13s 17ms/step - loss: 0.2503 - accuracy: 0.8924 - val_loss: 0.3092 - val_accuracy: 0.8820\n",
      "Epoch 22/50\n",
      "750/750 [==============================] - 13s 17ms/step - loss: 0.2411 - accuracy: 0.8979 - val_loss: 0.3531 - val_accuracy: 0.8540\n",
      "Epoch 23/50\n",
      "750/750 [==============================] - 13s 17ms/step - loss: 0.2407 - accuracy: 0.8960 - val_loss: 0.2754 - val_accuracy: 0.8830\n",
      "Epoch 24/50\n",
      "750/750 [==============================] - 13s 17ms/step - loss: 0.2341 - accuracy: 0.9004 - val_loss: 0.2969 - val_accuracy: 0.8870\n",
      "Epoch 25/50\n",
      "750/750 [==============================] - 13s 17ms/step - loss: 0.2361 - accuracy: 0.9015 - val_loss: 0.2893 - val_accuracy: 0.8780\n",
      "Epoch 26/50\n",
      "750/750 [==============================] - 13s 17ms/step - loss: 0.2307 - accuracy: 0.9009 - val_loss: 0.2603 - val_accuracy: 0.9000\n",
      "Epoch 27/50\n",
      "750/750 [==============================] - 13s 17ms/step - loss: 0.2256 - accuracy: 0.9031 - val_loss: 0.2835 - val_accuracy: 0.8800\n",
      "Epoch 28/50\n",
      "750/750 [==============================] - 13s 17ms/step - loss: 0.2252 - accuracy: 0.9036 - val_loss: 0.3070 - val_accuracy: 0.8600\n",
      "Epoch 29/50\n",
      "750/750 [==============================] - 13s 17ms/step - loss: 0.2154 - accuracy: 0.9102 - val_loss: 0.2787 - val_accuracy: 0.8880\n",
      "Epoch 30/50\n",
      "750/750 [==============================] - 13s 17ms/step - loss: 0.2192 - accuracy: 0.9097 - val_loss: 0.2646 - val_accuracy: 0.8950\n",
      "Epoch 31/50\n",
      "750/750 [==============================] - 13s 17ms/step - loss: 0.2106 - accuracy: 0.9090 - val_loss: 0.2660 - val_accuracy: 0.8990\n",
      "Epoch 32/50\n",
      "750/750 [==============================] - 13s 17ms/step - loss: 0.2124 - accuracy: 0.9104 - val_loss: 0.2526 - val_accuracy: 0.9020\n",
      "Epoch 33/50\n",
      "750/750 [==============================] - 13s 17ms/step - loss: 0.2106 - accuracy: 0.9095 - val_loss: 0.2599 - val_accuracy: 0.8890\n",
      "Epoch 34/50\n",
      "750/750 [==============================] - 13s 17ms/step - loss: 0.2068 - accuracy: 0.9129 - val_loss: 0.2861 - val_accuracy: 0.8800\n",
      "Epoch 35/50\n",
      "750/750 [==============================] - 13s 17ms/step - loss: 0.2053 - accuracy: 0.9128 - val_loss: 0.2863 - val_accuracy: 0.8700\n",
      "Epoch 36/50\n",
      "750/750 [==============================] - 13s 17ms/step - loss: 0.2044 - accuracy: 0.9145 - val_loss: 0.2624 - val_accuracy: 0.8890\n",
      "Epoch 37/50\n",
      "750/750 [==============================] - 13s 17ms/step - loss: 0.2008 - accuracy: 0.9149 - val_loss: 0.2749 - val_accuracy: 0.8910\n",
      "Epoch 38/50\n",
      "750/750 [==============================] - 13s 17ms/step - loss: 0.2028 - accuracy: 0.9122 - val_loss: 0.2626 - val_accuracy: 0.8960\n",
      "Epoch 39/50\n",
      "750/750 [==============================] - 13s 17ms/step - loss: 0.1975 - accuracy: 0.9158 - val_loss: 0.2696 - val_accuracy: 0.8900\n",
      "Epoch 40/50\n",
      "750/750 [==============================] - 13s 17ms/step - loss: 0.1944 - accuracy: 0.9197 - val_loss: 0.2734 - val_accuracy: 0.8930\n",
      "Epoch 41/50\n",
      "750/750 [==============================] - 13s 17ms/step - loss: 0.1947 - accuracy: 0.9175 - val_loss: 0.2589 - val_accuracy: 0.9010\n",
      "Epoch 42/50\n",
      "750/750 [==============================] - 13s 17ms/step - loss: 0.1874 - accuracy: 0.9223 - val_loss: 0.2531 - val_accuracy: 0.8980\n",
      "Epoch 43/50\n",
      "750/750 [==============================] - 13s 17ms/step - loss: 0.1898 - accuracy: 0.9202 - val_loss: 0.2751 - val_accuracy: 0.9030\n",
      "Epoch 44/50\n",
      "750/750 [==============================] - 13s 17ms/step - loss: 0.1899 - accuracy: 0.9188 - val_loss: 0.2542 - val_accuracy: 0.8930\n",
      "Epoch 45/50\n",
      "750/750 [==============================] - 13s 17ms/step - loss: 0.1873 - accuracy: 0.9198 - val_loss: 0.2525 - val_accuracy: 0.8980\n",
      "Epoch 46/50\n",
      "750/750 [==============================] - 13s 17ms/step - loss: 0.1843 - accuracy: 0.9222 - val_loss: 0.2579 - val_accuracy: 0.8950\n",
      "Epoch 47/50\n",
      "750/750 [==============================] - 13s 17ms/step - loss: 0.1829 - accuracy: 0.9238 - val_loss: 0.2607 - val_accuracy: 0.8880\n",
      "Epoch 48/50\n",
      "750/750 [==============================] - 12s 15ms/step - loss: 0.1826 - accuracy: 0.9230 - val_loss: 0.2458 - val_accuracy: 0.9010\n",
      "Epoch 49/50\n",
      "750/750 [==============================] - 13s 17ms/step - loss: 0.1775 - accuracy: 0.9257 - val_loss: 0.2613 - val_accuracy: 0.8940\n",
      "Epoch 50/50\n",
      "750/750 [==============================] - 13s 17ms/step - loss: 0.1835 - accuracy: 0.9236 - val_loss: 0.2506 - val_accuracy: 0.9000\n"
     ]
    }
   ],
   "source": [
    "r = model.fit_generator(train_generator, validation_data=(x_test,y_test), steps_per_epoch=steps_per_epoch, epochs=50)"
   ]
  },
  {
   "cell_type": "code",
   "execution_count": 29,
   "metadata": {},
   "outputs": [
    {
     "name": "stdout",
     "output_type": "stream",
     "text": [
      "WARNING:tensorflow:From C:\\ProgramData\\Anaconda3\\envs\\myenv\\lib\\site-packages\\tensorflow_core\\python\\ops\\resource_variable_ops.py:1786: calling BaseResourceVariable.__init__ (from tensorflow.python.ops.resource_variable_ops) with constraint is deprecated and will be removed in a future version.\n",
      "Instructions for updating:\n",
      "If using Keras pass *_constraint arguments to layers.\n",
      "INFO:tensorflow:Assets written to: my_model_with_datagen_withglobal\\assets\n"
     ]
    }
   ],
   "source": [
    "model.save(\"my_model_with_datagen_withglobal\")"
   ]
  },
  {
   "cell_type": "code",
   "execution_count": 26,
   "metadata": {},
   "outputs": [
    {
     "name": "stdout",
     "output_type": "stream",
     "text": [
      "24000/24000 [==============================] - 4s 169us/sample - loss: 0.1725 - accuracy: 0.9273\n",
      "Training result:  [0.17252878794819115, 0.9272917]\n",
      "1000/1000 [==============================] - 0s 167us/sample - loss: 0.2506 - accuracy: 0.9000\n",
      "Testing result:  [0.2506258988380432, 0.9]\n"
     ]
    }
   ],
   "source": [
    "print(\"Training result: \",model.evaluate(x_train,y_train))\n",
    "print(\"Testing result: \",model.evaluate(x_test,y_test))"
   ]
  },
  {
   "cell_type": "code",
   "execution_count": 27,
   "metadata": {},
   "outputs": [
    {
     "data": {
      "text/plain": [
       "<matplotlib.legend.Legend at 0x1ef2f3c0788>"
      ]
     },
     "execution_count": 27,
     "metadata": {},
     "output_type": "execute_result"
    },
    {
     "data": {
      "image/png": "[encoded data removed]",
      "text/plain": [
       "<Figure size 432x288 with 1 Axes>"
      ]
     },
     "metadata": {
      "needs_background": "light"
     },
     "output_type": "display_data"
    }
   ],
   "source": [
    "plt.plot(r.history['loss'],label='loss')\n",
    "plt.plot(r.history['val_loss'],label='val_loss')\n",
    "plt.legend()"
   ]
  },
  {
   "cell_type": "code",
   "execution_count": 28,
   "metadata": {},
   "outputs": [
    {
     "data": {
      "text/plain": [
       "<matplotlib.legend.Legend at 0x1ef3758fdc8>"
      ]
     },
     "execution_count": 28,
     "metadata": {},
     "output_type": "execute_result"
    },
    {
     "data": {
      "image/png": "[encoded data removed]",
      "text/plain": [
       "<Figure size 432x288 with 1 Axes>"
      ]
     },
     "metadata": {
      "needs_background": "light"
     },
     "output_type": "display_data"
    }
   ],
   "source": [
    "plt.plot(r.history['accuracy'],label='acc')\n",
    "plt.plot(r.history['val_accuracy'],label='val_acc')\n",
    "plt.legend()"
   ]
  },
  {
   "cell_type": "code",
   "execution_count": 71,
   "metadata": {},
   "outputs": [
    {
     "data": {
      "text/plain": [
       "['dog', 'cat']"
      ]
     },
     "execution_count": 71,
     "metadata": {},
     "output_type": "execute_result"
    }
   ],
   "source": [
    "labels=\"\"\"dog,cat\"\"\".split(',')\n",
    "labels"
   ]
  },
  {
   "cell_type": "code",
   "execution_count": 37,
   "metadata": {
    "scrolled": true
   },
   "outputs": [
    {
     "data": {
      "text/plain": [
       "array([0, 1, 0, 0, 1, 1, 1, 1, 0, 1, 0, 1, 0, 0, 0, 1, 1, 1, 0, 1, 0, 0,\n",
       "       1, 1, 0, 0, 0, 0, 1, 1, 0, 0, 1, 0, 0, 1, 0, 1, 0, 1, 0, 1, 0, 0,\n",
       "       0, 0, 0, 1, 0, 0, 0, 1, 0, 1, 1, 0, 1, 1, 0, 1, 0, 1, 0, 1, 1, 0,\n",
       "       1, 0, 1, 1, 0, 1, 0, 0, 0, 0, 1, 1, 1, 0, 0, 1, 1, 1, 1, 1, 0, 1,\n",
       "       1, 0, 1, 1, 0, 1, 0, 0, 0, 1, 0, 0, 1, 0, 1, 1, 1, 0, 1, 0, 0, 0,\n",
       "       0, 1, 0, 0, 0, 0, 0, 0, 0, 1, 1, 1, 1, 0, 0, 1, 0, 0, 1, 1, 1, 0,\n",
       "       1, 0, 0, 0, 0, 1, 1, 0, 0, 0, 1, 0, 0, 1, 1, 1, 1, 0, 0, 0, 0, 1,\n",
       "       0, 0, 1, 1, 0, 0, 1, 1, 0, 0, 0, 0, 0, 1, 1, 1, 0, 1, 1, 0, 1, 1,\n",
       "       0, 0, 0, 1, 1, 1, 0, 0, 1, 0, 0, 1, 1, 1, 0, 1, 0, 1, 0, 1, 1, 0,\n",
       "       1, 0, 0, 1, 1, 0, 1, 0, 0, 1, 1, 1, 0, 1, 1, 1, 0, 1, 0, 1, 0, 1,\n",
       "       1, 1, 0, 0, 0, 0, 0, 1, 0, 1, 1, 0, 0, 1, 1, 1, 1, 1, 0, 1, 1, 1,\n",
       "       1, 1, 1, 1, 1, 0, 1, 0, 1, 1, 1, 0, 1, 1, 0, 1, 0, 0, 0, 0, 1, 0,\n",
       "       0, 0, 0, 0, 0, 0, 0, 0, 0, 0, 1, 1, 1, 1, 1, 0, 0, 0, 1, 1, 1, 0,\n",
       "       1, 1, 1, 1, 0, 0, 1, 0, 0, 0, 0, 1, 0, 1, 0, 0, 0, 0, 1, 1, 0, 0,\n",
       "       0, 0, 1, 0, 0, 1, 1, 1, 0, 1, 1, 0, 0, 0, 0, 1, 0, 1, 0, 1, 1, 0,\n",
       "       1, 0, 1, 1, 0, 0, 1, 1, 0, 1, 0, 0, 1, 1, 0, 1, 1, 1, 0, 0, 1, 0,\n",
       "       0, 0, 0, 0, 1, 1, 1, 0, 0, 0, 1, 0, 1, 1, 0, 1, 1, 1, 0, 0, 0, 0,\n",
       "       0, 1, 0, 1, 1, 0, 0, 1, 0, 1, 0, 1, 0, 0, 1, 0, 0, 1, 0, 1, 0, 0,\n",
       "       1, 0, 0, 0, 0, 0, 1, 0, 1, 0, 0, 0, 0, 0, 0, 0, 0, 1, 1, 0, 0, 0,\n",
       "       0, 1, 0, 1, 0, 0, 1, 0, 1, 0, 0, 0, 0, 0, 0, 0, 0, 0, 1, 0, 0, 0,\n",
       "       1, 0, 1, 1, 0, 1, 0, 0, 1, 0, 0, 1, 0, 0, 1, 1, 1, 0, 0, 1, 1, 0,\n",
       "       0, 0, 1, 1, 0, 1, 0, 0, 0, 1, 0, 0, 0, 0, 0, 0, 1, 1, 1, 0, 0, 1,\n",
       "       0, 0, 0, 0, 1, 1, 1, 0, 1, 1, 0, 0, 0, 0, 1, 1, 0, 0, 0, 0, 0, 1,\n",
       "       0, 1, 1, 1, 1, 1, 0, 1, 1, 1, 1, 0, 1, 0, 0, 0, 0, 0, 0, 0, 1, 1,\n",
       "       0, 0, 1, 1, 0, 1, 1, 0, 1, 1, 1, 0, 0, 0, 0, 1, 1, 0, 0, 0, 1, 0,\n",
       "       1, 1, 1, 1, 0, 1, 0, 1, 1, 0, 1, 1, 0, 0, 0, 1, 0, 1, 1, 1, 0, 1,\n",
       "       0, 0, 0, 0, 1, 0, 0, 0, 1, 0, 1, 0, 1, 0, 1, 0, 1, 1, 0, 0, 0, 0,\n",
       "       0, 1, 1, 1, 0, 0, 0, 1, 1, 0, 1, 0, 0, 1, 0, 1, 0, 0, 1, 0, 0, 0,\n",
       "       0, 1, 1, 0, 0, 1, 0, 1, 1, 0, 1, 1, 1, 1, 0, 0, 0, 1, 1, 1, 1, 0,\n",
       "       1, 1, 1, 0, 0, 1, 1, 1, 0, 1, 1, 0, 0, 1, 1, 1, 1, 0, 0, 1, 0, 1,\n",
       "       0, 0, 0, 0, 0, 0, 1, 0, 1, 0, 0, 0, 1, 1, 1, 1, 0, 0, 1, 0, 1, 0,\n",
       "       1, 1, 1, 1, 0, 0, 1, 1, 1, 1, 0, 0, 0, 0, 1, 0, 0, 1, 1, 0, 0, 0,\n",
       "       0, 0, 0, 1, 0, 1, 0, 1, 1, 0, 0, 0, 0, 1, 0, 1, 1, 1, 0, 0, 1, 1,\n",
       "       0, 1, 1, 1, 1, 0, 1, 0, 0, 0, 1, 1, 1, 1, 0, 0, 0, 0, 0, 0, 1, 1,\n",
       "       0, 0, 0, 1, 0, 1, 0, 0, 1, 0, 0, 1, 1, 1, 1, 1, 1, 1, 1, 1, 1, 0,\n",
       "       1, 0, 0, 1, 0, 0, 1, 1, 1, 1, 0, 0, 1, 1, 0, 0, 1, 1, 0, 0, 0, 0,\n",
       "       1, 1, 0, 1, 1, 0, 0, 1, 1, 0, 1, 0, 0, 1, 0, 0, 0, 0, 0, 1, 0, 0,\n",
       "       1, 0, 1, 0, 1, 0, 0, 1, 1, 1, 0, 1, 1, 1, 0, 0, 1, 0, 0, 1, 0, 1,\n",
       "       0, 1, 0, 1, 1, 1, 0, 1, 0, 1, 1, 0, 0, 0, 0, 1, 1, 1, 1, 0, 0, 0,\n",
       "       0, 1, 0, 0, 0, 0, 0, 0, 1, 1, 1, 1, 1, 0, 1, 0, 1, 1, 0, 1, 0, 1,\n",
       "       1, 0, 1, 0, 0, 0, 1, 1, 0, 0, 0, 0, 1, 0, 0, 1, 0, 0, 0, 1, 0, 0,\n",
       "       1, 0, 1, 0, 1, 0, 1, 1, 1, 0, 0, 1, 1, 0, 1, 0, 1, 1, 0, 0, 1, 0,\n",
       "       0, 0, 1, 1, 0, 1, 1, 0, 0, 0, 1, 0, 0, 1, 0, 0, 0, 1, 0, 0, 0, 1,\n",
       "       0, 1, 1, 0, 0, 1, 1, 0, 1, 1, 0, 0, 1, 0, 0, 0, 0, 0, 0, 0, 1, 1,\n",
       "       0, 1, 0, 1, 0, 0, 0, 1, 0, 0, 0, 1, 0, 1, 0, 0, 0, 0, 0, 1, 0, 1,\n",
       "       0, 1, 1, 1, 1, 1, 1, 0, 1, 0], dtype=int64)"
      ]
     },
     "execution_count": 37,
     "metadata": {},
     "output_type": "execute_result"
    }
   ],
   "source": [
    "p_test=model.predict(x_test).argmax(axis=1)\n",
    "p_test"
   ]
  },
  {
   "cell_type": "code",
   "execution_count": 72,
   "metadata": {},
   "outputs": [
    {
     "data": {
      "text/plain": [
       "array([ 12,  16,  26,  27,  29,  33,  46,  49,  84, 101, 102, 146, 149,\n",
       "       173, 176, 178, 180, 184, 197, 210, 242, 252, 256, 261, 267, 271,\n",
       "       279, 282, 288, 304, 310, 324, 335, 351, 352, 363, 375, 385, 394,\n",
       "       408, 411, 420, 430, 431, 434, 438, 449, 457, 484, 493, 496, 504,\n",
       "       537, 551, 579, 581, 593, 594, 595, 606, 608, 630, 644, 659, 662,\n",
       "       663, 668, 671, 675, 677, 685, 731, 734, 735, 742, 749, 754, 770,\n",
       "       778, 809, 812, 827, 838, 854, 860, 862, 865, 872, 889, 891, 918,\n",
       "       919, 928, 943, 958, 966, 981, 987, 992, 996], dtype=int64)"
      ]
     },
     "execution_count": 72,
     "metadata": {},
     "output_type": "execute_result"
    }
   ],
   "source": [
    "missclassified_idx=np.where(p_test!=y_test)[0]\n",
    "missclassified_idx"
   ]
  },
  {
   "cell_type": "code",
   "execution_count": 82,
   "metadata": {},
   "outputs": [
    {
     "data": {
      "text/plain": [
       "Text(0.5, 1.0, 'True label: dog, Predicted label: cat')"
      ]
     },
     "execution_count": 82,
     "metadata": {},
     "output_type": "execute_result"
    },
    {
     "data": {
      "image/png": "[encoded data removed]",
      "text/plain": [
       "<Figure size 432x288 with 1 Axes>"
      ]
     },
     "metadata": {
      "needs_background": "light"
     },
     "output_type": "display_data"
    }
   ],
   "source": [
    "i=np.random.choice(missclassified_idx)\n",
    "plt.imshow(x_test[i].reshape(50,50),cmap='gray')\n",
    "plt.title(\"True label: %s, Predicted label: %s\" %(labels[y_test[i]],labels[p_test[i]]))"
   ]
  },
  {
   "cell_type": "code",
   "execution_count": 58,
   "metadata": {},
   "outputs": [],
   "source": [
    "path=\"D://Downloads/test.jpg\""
   ]
  },
  {
   "cell_type": "code",
   "execution_count": 61,
   "metadata": {},
   "outputs": [],
   "source": [
    "image=cv2.imread(path,cv2.IMREAD_GRAYSCALE)\n",
    "image=cv2.resize(image,(50,50))/255.0"
   ]
  },
  {
   "cell_type": "code",
   "execution_count": 65,
   "metadata": {
    "scrolled": true
   },
   "outputs": [
    {
     "data": {
      "text/plain": [
       "(1, 50, 50, 1)"
      ]
     },
     "execution_count": 65,
     "metadata": {},
     "output_type": "execute_result"
    }
   ],
   "source": [
    "image=np.array(image).reshape(-1,50,50,1)\n",
    "image.shape"
   ]
  },
  {
   "cell_type": "code",
   "execution_count": 83,
   "metadata": {},
   "outputs": [
    {
     "name": "stdout",
     "output_type": "stream",
     "text": [
      "dog\n"
     ]
    }
   ],
   "source": [
    "pred=model.predict(image).argmax(axis=1)\n",
    "print(labels[pred[0]])"
   ]
  },
  {
   "cell_type": "code",
   "execution_count": 30,
   "metadata": {},
   "outputs": [
    {
     "ename": "NameError",
     "evalue": "name 'test_data' is not defined",
     "output_type": "error",
     "traceback": [
      "\u001b[1;31m---------------------------------------------------------------------------\u001b[0m",
      "\u001b[1;31mNameError\u001b[0m                                 Traceback (most recent call last)",
      "\u001b[1;32m<ipython-input-30-9d7d83ae34d8>\u001b[0m in \u001b[0;36m<module>\u001b[1;34m\u001b[0m\n\u001b[0;32m      8\u001b[0m \u001b[0mfig\u001b[0m\u001b[1;33m=\u001b[0m\u001b[0mplt\u001b[0m\u001b[1;33m.\u001b[0m\u001b[0mfigure\u001b[0m\u001b[1;33m(\u001b[0m\u001b[1;33m)\u001b[0m\u001b[1;33m\u001b[0m\u001b[1;33m\u001b[0m\u001b[0m\n\u001b[0;32m      9\u001b[0m \u001b[1;33m\u001b[0m\u001b[0m\n\u001b[1;32m---> 10\u001b[1;33m \u001b[1;32mfor\u001b[0m \u001b[0mnum\u001b[0m\u001b[1;33m,\u001b[0m\u001b[0mdata\u001b[0m \u001b[1;32min\u001b[0m \u001b[0menumerate\u001b[0m\u001b[1;33m(\u001b[0m\u001b[0mtest_data\u001b[0m\u001b[1;33m[\u001b[0m\u001b[1;33m:\u001b[0m\u001b[1;36m12\u001b[0m\u001b[1;33m]\u001b[0m\u001b[1;33m)\u001b[0m\u001b[1;33m:\u001b[0m\u001b[1;33m\u001b[0m\u001b[1;33m\u001b[0m\u001b[0m\n\u001b[0m\u001b[0;32m     11\u001b[0m     \u001b[1;31m# cat: [1,0]\u001b[0m\u001b[1;33m\u001b[0m\u001b[1;33m\u001b[0m\u001b[1;33m\u001b[0m\u001b[0m\n\u001b[0;32m     12\u001b[0m     \u001b[1;31m# dog: [0,1]\u001b[0m\u001b[1;33m\u001b[0m\u001b[1;33m\u001b[0m\u001b[1;33m\u001b[0m\u001b[0m\n",
      "\u001b[1;31mNameError\u001b[0m: name 'test_data' is not defined"
     ]
    },
    {
     "data": {
      "text/plain": [
       "<Figure size 432x288 with 0 Axes>"
      ]
     },
     "metadata": {},
     "output_type": "display_data"
    }
   ],
   "source": [
    "import matplotlib.pyplot as plt\n",
    "\n",
    "# if you need to create the data:\n",
    "#test_data = process_test_data()\n",
    "# if you already have some saved:\n",
    "#test_data = np.load('test_data.npy')\n",
    "\n",
    "fig=plt.figure()\n",
    "\n",
    "for num,data in enumerate(test_data[:12]):\n",
    "    # cat: [1,0]\n",
    "    # dog: [0,1]\n",
    "    \n",
    "    img_num = data[1]\n",
    "    img_data = data[0]\n",
    "    \n",
    "    y = fig.add_subplot(3,4,num+1)\n",
    "    orig = img_data\n",
    "    data = img_data.reshape(IMG_SIZE,IMG_SIZE,1)\n",
    "    #model_out = model.predict([data])[0]\n",
    "    model_out = model.predict([data])[0]\n",
    "    \n",
    "    if np.argmax(model_out) == 1: str_label='Dog'\n",
    "    else: str_label='Cat'\n",
    "        \n",
    "    y.imshow(orig,cmap='gray')\n",
    "    plt.title(str_label)\n",
    "    y.axes.get_xaxis().set_visible(False)\n",
    "    y.axes.get_yaxis().set_visible(False)\n",
    "plt.show()"
   ]
  },
  {
   "cell_type": "code",
   "execution_count": null,
   "metadata": {},
   "outputs": [],
   "source": []
  }
 ],
 "metadata": {
  "kernelspec": {
   "display_name": "Python 3",
   "language": "python",
   "name": "python3"
  },
  "language_info": {
   "codemirror_mode": {
    "name": "ipython",
    "version": 3
   },
   "file_extension": ".py",
   "mimetype": "text/x-python",
   "name": "python",
   "nbconvert_exporter": "python",
   "pygments_lexer": "ipython3",
   "version": "3.7.9"
  }
 },
 "nbformat": 4,
 "nbformat_minor": 2
}
