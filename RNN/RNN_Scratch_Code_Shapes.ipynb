{
 "cells": [
  {
   "cell_type": "code",
   "execution_count": 1,
   "metadata": {},
   "outputs": [],
   "source": [
    "import tensorflow as tf\n",
    "import numpy as np\n",
    "import matplotlib.pyplot as plt"
   ]
  },
  {
   "cell_type": "code",
   "execution_count": 2,
   "metadata": {},
   "outputs": [],
   "source": [
    "from tensorflow.keras.layers import Dense, Flatten, Input, Dropout, SimpleRNN\n",
    "from tensorflow.keras.optimizers import Adam\n",
    "from tensorflow.keras.models import Model"
   ]
  },
  {
   "cell_type": "code",
   "execution_count": 1,
   "metadata": {},
   "outputs": [],
   "source": [
    "# N- Number of samples\n",
    "# T-sample length\n",
    "# M-number of hidden units\n",
    "# D-number of input features\n",
    "# K-number of output units"
   ]
  },
  {
   "cell_type": "code",
   "execution_count": 21,
   "metadata": {},
   "outputs": [],
   "source": [
    "N=3\n",
    "D=3\n",
    "T=10\n",
    "K=2\n",
    "X = np.random.randn(N, T, D)"
   ]
  },
  {
   "cell_type": "code",
   "execution_count": 22,
   "metadata": {},
   "outputs": [
    {
     "data": {
      "text/plain": [
       "(3, 10, 3)"
      ]
     },
     "execution_count": 22,
     "metadata": {},
     "output_type": "execute_result"
    }
   ],
   "source": [
    "X.shape"
   ]
  },
  {
   "cell_type": "code",
   "execution_count": 23,
   "metadata": {},
   "outputs": [],
   "source": [
    "M = 5\n",
    "i = Input(shape=(T,D))\n",
    "x = SimpleRNN(5)(i)\n",
    "x = Dense(K)(x)\n",
    "model=Model(i, x)"
   ]
  },
  {
   "cell_type": "code",
   "execution_count": 24,
   "metadata": {},
   "outputs": [
    {
     "data": {
      "text/plain": [
       "array([[-0.40273103,  0.31304938],\n",
       "       [-0.03804955, -0.35805455],\n",
       "       [ 0.21548724, -0.43519872]], dtype=float32)"
      ]
     },
     "execution_count": 24,
     "metadata": {},
     "output_type": "execute_result"
    }
   ],
   "source": [
    "yhat=model.predict(X)\n",
    "yhat"
   ]
  },
  {
   "cell_type": "code",
   "execution_count": 25,
   "metadata": {},
   "outputs": [
    {
     "name": "stdout",
     "output_type": "stream",
     "text": [
      "Model: \"model_1\"\n",
      "_________________________________________________________________\n",
      "Layer (type)                 Output Shape              Param #   \n",
      "=================================================================\n",
      "input_2 (InputLayer)         [(None, 10, 3)]           0         \n",
      "_________________________________________________________________\n",
      "simple_rnn_1 (SimpleRNN)     (None, 5)                 45        \n",
      "_________________________________________________________________\n",
      "dense_1 (Dense)              (None, 2)                 12        \n",
      "=================================================================\n",
      "Total params: 57\n",
      "Trainable params: 57\n",
      "Non-trainable params: 0\n",
      "_________________________________________________________________\n"
     ]
    }
   ],
   "source": [
    "model.summary()"
   ]
  },
  {
   "cell_type": "code",
   "execution_count": 37,
   "metadata": {},
   "outputs": [
    {
     "data": {
      "text/plain": [
       "[array([[-0.04246336,  0.04682392, -0.33272582,  0.24897546, -0.44122344],\n",
       "        [ 0.18066329,  0.21223003, -0.26311016,  0.02133256, -0.54043627],\n",
       "        [ 0.06317747,  0.7531721 , -0.8051059 , -0.6642943 , -0.6628533 ]],\n",
       "       dtype=float32),\n",
       " array([[ 0.49150777, -0.04155034,  0.37260365,  0.57179177,  0.5393646 ],\n",
       "        [ 0.5196326 , -0.42059857, -0.48894244, -0.4602093 ,  0.31972095],\n",
       "        [ 0.08527198,  0.76332486, -0.58239377,  0.16342725,  0.21017373],\n",
       "        [ 0.34463683, -0.23937327, -0.3498643 ,  0.52780396, -0.65034133],\n",
       "        [ 0.6019602 ,  0.42591798,  0.40064237, -0.3949379 , -0.37382823]],\n",
       "       dtype=float32),\n",
       " array([0., 0., 0., 0., 0.], dtype=float32)]"
      ]
     },
     "execution_count": 37,
     "metadata": {},
     "output_type": "execute_result"
    }
   ],
   "source": [
    "model.layers[1].get_weights()"
   ]
  },
  {
   "cell_type": "code",
   "execution_count": 38,
   "metadata": {},
   "outputs": [
    {
     "name": "stdout",
     "output_type": "stream",
     "text": [
      "(3, 5) (5, 5) (5,)\n"
     ]
    }
   ],
   "source": [
    "a, b, c=model.layers[1].get_weights()\n",
    "print(a.shape, b.shape, c.shape)  \n",
    "# 1st weight is DxM which is input to hidden\n",
    "# 2nd weight is MxM which is hidden to hidden\n",
    "# 3rd is bias"
   ]
  },
  {
   "cell_type": "code",
   "execution_count": 39,
   "metadata": {},
   "outputs": [],
   "source": [
    "Wx, Wh, bh=model.layers[1].get_weights()\n",
    "Wo, bo=model.layers[2].get_weights()"
   ]
  },
  {
   "cell_type": "code",
   "execution_count": 41,
   "metadata": {},
   "outputs": [
    {
     "name": "stdout",
     "output_type": "stream",
     "text": [
      "[-0.40273097  0.31304933]\n",
      "[-0.0380495  -0.35805452]\n",
      "[ 0.21548723 -0.43519871]\n"
     ]
    }
   ],
   "source": [
    "for i in range(N):\n",
    "    h_last=np.zeros(M)\n",
    "    x=X[i] #the one and only sample\n",
    "    yhats=[]\n",
    "\n",
    "    for t in range(T):\n",
    "        h=np.tanh(x[t].dot(Wx) + h_last.dot(Wh) + bh)\n",
    "        y=h.dot(Wo) + bo\n",
    "        yhats.append(y)\n",
    "\n",
    "        h_last=h\n",
    "    print(yhats[-1])"
   ]
  },
  {
   "cell_type": "code",
   "execution_count": null,
   "metadata": {},
   "outputs": [],
   "source": []
  }
 ],
 "metadata": {
  "kernelspec": {
   "display_name": "Python 3",
   "language": "python",
   "name": "python3"
  },
  "language_info": {
   "codemirror_mode": {
    "name": "ipython",
    "version": 3
   },
   "file_extension": ".py",
   "mimetype": "text/x-python",
   "name": "python",
   "nbconvert_exporter": "python",
   "pygments_lexer": "ipython3",
   "version": "3.7.7"
  }
 },
 "nbformat": 4,
 "nbformat_minor": 4
}
