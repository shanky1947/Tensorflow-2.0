{
 "cells": [
  {
   "cell_type": "code",
   "execution_count": 1,
   "metadata": {},
   "outputs": [],
   "source": [
    "import tensorflow as tf\n",
    "import pandas as pd\n",
    "import numpy as np\n",
    "import matplotlib.pyplot as plt"
   ]
  },
  {
   "cell_type": "code",
   "execution_count": 2,
   "metadata": {},
   "outputs": [],
   "source": [
    "from tensorflow.keras.layers import Input, Dense, LSTM, RNN, GRU, Flatten\n",
    "from tensorflow.keras.models import Model\n",
    "from tensorflow.keras.optimizers import SGD, Adam"
   ]
  },
  {
   "cell_type": "code",
   "execution_count": 3,
   "metadata": {},
   "outputs": [],
   "source": [
    "mnist=tf.keras.datasets.mnist"
   ]
  },
  {
   "cell_type": "code",
   "execution_count": 4,
   "metadata": {},
   "outputs": [],
   "source": [
    "(x_train, y_train), (x_test, y_test)=mnist.load_data()"
   ]
  },
  {
   "cell_type": "code",
   "execution_count": 5,
   "metadata": {},
   "outputs": [],
   "source": [
    "x_train, x_test=x_train/255.0, x_test/255.0"
   ]
  },
  {
   "cell_type": "code",
   "execution_count": 6,
   "metadata": {},
   "outputs": [],
   "source": [
    "T, D=x_train[0].shape"
   ]
  },
  {
   "cell_type": "code",
   "execution_count": 7,
   "metadata": {},
   "outputs": [],
   "source": [
    "i=Input(shape=(T,D))\n",
    "x=LSTM(128)(i)\n",
    "x=Dense(10, activation='softmax')(x)\n",
    "model=Model(i,x)\n",
    "model.compile(loss='sparse_categorical_crossentropy',\n",
    "             optimizer='adam',\n",
    "             metrics=['accuracy'])"
   ]
  },
  {
   "cell_type": "code",
   "execution_count": 8,
   "metadata": {
    "scrolled": true
   },
   "outputs": [
    {
     "name": "stdout",
     "output_type": "stream",
     "text": [
      "Train on 60000 samples, validate on 10000 samples\n",
      "Epoch 1/10\n",
      "60000/60000 [==============================] - 9s 151us/sample - loss: 0.3343 - accuracy: 0.8927 - val_loss: 0.1347 - val_accuracy: 0.9590\n",
      "Epoch 2/10\n",
      "60000/60000 [==============================] - 7s 120us/sample - loss: 0.1052 - accuracy: 0.9688 - val_loss: 0.0773 - val_accuracy: 0.9766\n",
      "Epoch 3/10\n",
      "60000/60000 [==============================] - 8s 126us/sample - loss: 0.0729 - accuracy: 0.9779 - val_loss: 0.0565 - val_accuracy: 0.9831\n",
      "Epoch 4/10\n",
      "60000/60000 [==============================] - 8s 125us/sample - loss: 0.0570 - accuracy: 0.9826 - val_loss: 0.0554 - val_accuracy: 0.9836\n",
      "Epoch 5/10\n",
      "60000/60000 [==============================] - 8s 126us/sample - loss: 0.0451 - accuracy: 0.9859 - val_loss: 0.0497 - val_accuracy: 0.9840\n",
      "Epoch 6/10\n",
      "60000/60000 [==============================] - 7s 120us/sample - loss: 0.0383 - accuracy: 0.9880 - val_loss: 0.0518 - val_accuracy: 0.9841\n",
      "Epoch 7/10\n",
      "60000/60000 [==============================] - 7s 113us/sample - loss: 0.0331 - accuracy: 0.9897 - val_loss: 0.0459 - val_accuracy: 0.9862\n",
      "Epoch 8/10\n",
      "60000/60000 [==============================] - 7s 116us/sample - loss: 0.0276 - accuracy: 0.9910 - val_loss: 0.0463 - val_accuracy: 0.9853\n",
      "Epoch 9/10\n",
      "60000/60000 [==============================] - 7s 115us/sample - loss: 0.0258 - accuracy: 0.9920 - val_loss: 0.0417 - val_accuracy: 0.9884\n",
      "Epoch 10/10\n",
      "60000/60000 [==============================] - 7s 116us/sample - loss: 0.0219 - accuracy: 0.9933 - val_loss: 0.0457 - val_accuracy: 0.9856\n"
     ]
    }
   ],
   "source": [
    "r=model.fit(x_train, y_train, epochs=10, validation_data=(x_test, y_test))"
   ]
  },
  {
   "cell_type": "code",
   "execution_count": 9,
   "metadata": {},
   "outputs": [
    {
     "data": {
      "image/png": "[encoded data removed]",
      "text/plain": [
       "<Figure size 432x288 with 1 Axes>"
      ]
     },
     "metadata": {
      "needs_background": "light"
     },
     "output_type": "display_data"
    }
   ],
   "source": [
    "plt.plot(r.history['loss'],label='loss')\n",
    "plt.plot(r.history['val_loss'],label='val_loss')\n",
    "plt.legend()\n",
    "plt.show()"
   ]
  },
  {
   "cell_type": "code",
   "execution_count": 10,
   "metadata": {},
   "outputs": [
    {
     "data": {
      "image/png": "[encoded data removed]",
      "text/plain": [
       "<Figure size 432x288 with 1 Axes>"
      ]
     },
     "metadata": {
      "needs_background": "light"
     },
     "output_type": "display_data"
    }
   ],
   "source": [
    "plt.plot(r.history['accuracy'],label='accuracy')\n",
    "plt.plot(r.history['val_accuracy'],label='val_accuracy')\n",
    "plt.legend()\n",
    "plt.show()"
   ]
  },
  {
   "cell_type": "code",
   "execution_count": 11,
   "metadata": {},
   "outputs": [
    {
     "name": "stdout",
     "output_type": "stream",
     "text": [
      "10000/10000 [==============================] - 1s 69us/sample - loss: 0.0457 - accuracy: 0.9856\n"
     ]
    },
    {
     "data": {
      "text/plain": [
       "[0.04565589997416828, 0.9856]"
      ]
     },
     "execution_count": 11,
     "metadata": {},
     "output_type": "execute_result"
    }
   ],
   "source": [
    "model.evaluate(x_test, y_test)"
   ]
  },
  {
   "cell_type": "code",
   "execution_count": null,
   "metadata": {},
   "outputs": [],
   "source": []
  }
 ],
 "metadata": {
  "kernelspec": {
   "display_name": "Python 3",
   "language": "python",
   "name": "python3"
  },
  "language_info": {
   "codemirror_mode": {
    "name": "ipython",
    "version": 3
   },
   "file_extension": ".py",
   "mimetype": "text/x-python",
   "name": "python",
   "nbconvert_exporter": "python",
   "pygments_lexer": "ipython3",
   "version": "3.7.7"
  }
 },
 "nbformat": 4,
 "nbformat_minor": 4
}
