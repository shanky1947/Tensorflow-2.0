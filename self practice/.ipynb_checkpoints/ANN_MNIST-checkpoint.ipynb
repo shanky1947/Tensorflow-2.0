{
 "cells": [
  {
   "cell_type": "markdown",
   "metadata": {},
   "source": [
    "# AI DA ON ANN(Artificial Neural Network)"
   ]
  },
  {
   "cell_type": "markdown",
   "metadata": {},
   "source": [
    "# Mihir Agarwal\n",
    "# 18BCE2526"
   ]
  },
  {
   "cell_type": "markdown",
   "metadata": {},
   "source": [
    "# Dataset- MNIST dataset(Handwritten digits)"
   ]
  },
  {
   "cell_type": "markdown",
   "metadata": {},
   "source": [
    "## Import required library"
   ]
  },
  {
   "cell_type": "code",
   "execution_count": 2,
   "metadata": {},
   "outputs": [],
   "source": [
    "import tensorflow as tf\n",
    "import matplotlib.pyplot as plt\n",
    "import numpy as np\n",
    "import itertools\n",
    "from sklearn.metrics import confusion_matrix"
   ]
  },
  {
   "cell_type": "markdown",
   "metadata": {},
   "source": [
    "## Import required dataset i.e., MNIST dataset"
   ]
  },
  {
   "cell_type": "code",
   "execution_count": 51,
   "metadata": {},
   "outputs": [],
   "source": [
    "(x_train,y_train),(x_test,y_test)=tf.keras.datasets.mnist.load_data()"
   ]
  },
  {
   "cell_type": "markdown",
   "metadata": {},
   "source": [
    "## Divide train set image pixels by 255 to normalize them"
   ]
  },
  {
   "cell_type": "code",
   "execution_count": 52,
   "metadata": {},
   "outputs": [],
   "source": [
    "x_train=x_train/255.0"
   ]
  },
  {
   "cell_type": "code",
   "execution_count": 53,
   "metadata": {},
   "outputs": [],
   "source": [
    "x_test=x_test/255.0"
   ]
  },
  {
   "cell_type": "markdown",
   "metadata": {},
   "source": [
    "## Importing required layers of ANN using keras library"
   ]
  },
  {
   "cell_type": "code",
   "execution_count": 54,
   "metadata": {},
   "outputs": [],
   "source": [
    "model=tf.keras.models.Sequential([\n",
    "    tf.keras.layers.Flatten(input_shape=(28,28)),\n",
    "    tf.keras.layers.Dense(128,activation='relu'),\n",
    "    tf.keras.layers.Dropout(0.2),\n",
    "    tf.keras.layers.Dense(10,activation='softmax')\n",
    "])"
   ]
  },
  {
   "cell_type": "markdown",
   "metadata": {},
   "source": [
    "## Compiling model using optimizers and loss function"
   ]
  },
  {
   "cell_type": "code",
   "execution_count": 55,
   "metadata": {
    "scrolled": true
   },
   "outputs": [
    {
     "name": "stdout",
     "output_type": "stream",
     "text": [
      "Train on 60000 samples, validate on 10000 samples\n",
      "Epoch 1/10\n",
      "60000/60000 [==============================] - 4s 72us/sample - loss: 0.2729 - accuracy: 0.9180 - val_loss: 0.1331 - val_accuracy: 0.9596\n",
      "Epoch 2/10\n",
      "60000/60000 [==============================] - 4s 66us/sample - loss: 0.1209 - accuracy: 0.9634 - val_loss: 0.1000 - val_accuracy: 0.9671\n",
      "Epoch 3/10\n",
      "60000/60000 [==============================] - 4s 67us/sample - loss: 0.0894 - accuracy: 0.9725 - val_loss: 0.1080 - val_accuracy: 0.9669\n",
      "Epoch 4/10\n",
      "60000/60000 [==============================] - 4s 64us/sample - loss: 0.0707 - accuracy: 0.9778 - val_loss: 0.0971 - val_accuracy: 0.9708\n",
      "Epoch 5/10\n",
      "60000/60000 [==============================] - 4s 62us/sample - loss: 0.0604 - accuracy: 0.9812 - val_loss: 0.0901 - val_accuracy: 0.9720\n",
      "Epoch 6/10\n",
      "60000/60000 [==============================] - 4s 62us/sample - loss: 0.0510 - accuracy: 0.9838 - val_loss: 0.0841 - val_accuracy: 0.9762\n",
      "Epoch 7/10\n",
      "60000/60000 [==============================] - 4s 63us/sample - loss: 0.0435 - accuracy: 0.9858 - val_loss: 0.1202 - val_accuracy: 0.9687\n",
      "Epoch 8/10\n",
      "60000/60000 [==============================] - 4s 66us/sample - loss: 0.0409 - accuracy: 0.9868 - val_loss: 0.0908 - val_accuracy: 0.9759\n",
      "Epoch 9/10\n",
      "60000/60000 [==============================] - 4s 69us/sample - loss: 0.0359 - accuracy: 0.9883 - val_loss: 0.1049 - val_accuracy: 0.9735\n",
      "Epoch 10/10\n",
      "60000/60000 [==============================] - 4s 65us/sample - loss: 0.0326 - accuracy: 0.9890 - val_loss: 0.0908 - val_accuracy: 0.9777\n"
     ]
    }
   ],
   "source": [
    "model.compile(optimizer='adam',\n",
    "             loss='sparse_categorical_crossentropy',\n",
    "             metrics=['accuracy'])\n",
    "\n",
    "r=model.fit(x_train,y_train,validation_data=(x_test,y_test),epochs=10)"
   ]
  },
  {
   "cell_type": "markdown",
   "metadata": {},
   "source": [
    "## Print train and test accuracy"
   ]
  },
  {
   "cell_type": "code",
   "execution_count": 72,
   "metadata": {},
   "outputs": [
    {
     "name": "stdout",
     "output_type": "stream",
     "text": [
      "60000/60000 [==============================] - 3s 43us/sample - loss: 0.0150 - accuracy: 0.9951\n",
      "[0.014981344593623363, 0.99508333]\n",
      "10000/10000 [==============================] - 0s 46us/sample - loss: 0.0908 - accuracy: 0.9777\n",
      "[0.09081701310225399, 0.9777]\n"
     ]
    }
   ],
   "source": [
    "print(model.evaluate(x_train,y_train))\n",
    "print(model.evaluate(x_test,y_test))"
   ]
  },
  {
   "cell_type": "markdown",
   "metadata": {},
   "source": [
    "## Plot training loss and validation loss"
   ]
  },
  {
   "cell_type": "code",
   "execution_count": 73,
   "metadata": {},
   "outputs": [
    {
     "data": {
      "text/plain": [
       "<matplotlib.legend.Legend at 0x223944e5908>"
      ]
     },
     "execution_count": 73,
     "metadata": {},
     "output_type": "execute_result"
    },
    {
     "data": {
      "image/png": "[encoded data removed]",
      "text/plain": [
       "<Figure size 432x288 with 1 Axes>"
      ]
     },
     "metadata": {
      "needs_background": "light"
     },
     "output_type": "display_data"
    }
   ],
   "source": [
    "plt.plot(r.history['loss'],label='loss')\n",
    "plt.plot(r.history['val_loss'],label='val_loss')\n",
    "plt.legend()"
   ]
  },
  {
   "cell_type": "markdown",
   "metadata": {},
   "source": [
    "## Plot training and validation(test) accuracy"
   ]
  },
  {
   "cell_type": "code",
   "execution_count": 74,
   "metadata": {},
   "outputs": [
    {
     "data": {
      "text/plain": [
       "<matplotlib.legend.Legend at 0x22399368ec8>"
      ]
     },
     "execution_count": 74,
     "metadata": {},
     "output_type": "execute_result"
    },
    {
     "data": {
      "image/png": "[encoded data removed]",
      "text/plain": [
       "<Figure size 432x288 with 1 Axes>"
      ]
     },
     "metadata": {
      "needs_background": "light"
     },
     "output_type": "display_data"
    }
   ],
   "source": [
    "plt.plot(r.history['accuracy'],label='acc')\n",
    "plt.plot(r.history['val_accuracy'],label='val_acc')\n",
    "plt.legend()"
   ]
  },
  {
   "cell_type": "markdown",
   "metadata": {},
   "source": [
    "## Prediction with model"
   ]
  },
  {
   "cell_type": "code",
   "execution_count": 75,
   "metadata": {},
   "outputs": [],
   "source": [
    "pred=model.predict(x_test)"
   ]
  },
  {
   "cell_type": "markdown",
   "metadata": {},
   "source": [
    "## Flattening prediction array to convert into 1-D array"
   ]
  },
  {
   "cell_type": "code",
   "execution_count": 76,
   "metadata": {},
   "outputs": [],
   "source": [
    "pred=np.round(pred).flatten()"
   ]
  },
  {
   "cell_type": "code",
   "execution_count": null,
   "metadata": {},
   "outputs": [],
   "source": [
    "Reshaping into required shape"
   ]
  },
  {
   "cell_type": "code",
   "execution_count": 77,
   "metadata": {},
   "outputs": [],
   "source": [
    "pred_new=pred.reshape(-1,10)"
   ]
  },
  {
   "cell_type": "code",
   "execution_count": 78,
   "metadata": {},
   "outputs": [
    {
     "data": {
      "text/plain": [
       "(10000, 10)"
      ]
     },
     "execution_count": 78,
     "metadata": {},
     "output_type": "execute_result"
    }
   ],
   "source": [
    "pred_new.shape"
   ]
  },
  {
   "cell_type": "code",
   "execution_count": 79,
   "metadata": {},
   "outputs": [
    {
     "data": {
      "text/plain": [
       "(10000,)"
      ]
     },
     "execution_count": 79,
     "metadata": {},
     "output_type": "execute_result"
    }
   ],
   "source": [
    "y_test.shape"
   ]
  },
  {
   "cell_type": "code",
   "execution_count": 80,
   "metadata": {},
   "outputs": [
    {
     "data": {
      "text/plain": [
       "7"
      ]
     },
     "execution_count": 80,
     "metadata": {},
     "output_type": "execute_result"
    }
   ],
   "source": [
    "y_test[0]"
   ]
  },
  {
   "cell_type": "code",
   "execution_count": 81,
   "metadata": {},
   "outputs": [
    {
     "data": {
      "text/plain": [
       "array([0., 0., 0., 0., 0., 0., 0., 1., 0., 0.], dtype=float32)"
      ]
     },
     "execution_count": 81,
     "metadata": {},
     "output_type": "execute_result"
    }
   ],
   "source": [
    "pred_new[0]"
   ]
  },
  {
   "cell_type": "markdown",
   "metadata": {},
   "source": [
    "## Printing confusion matrix"
   ]
  },
  {
   "cell_type": "code",
   "execution_count": 84,
   "metadata": {},
   "outputs": [
    {
     "name": "stdout",
     "output_type": "stream",
     "text": [
      "Confusion matrix, without normalization\n",
      "[[ 969    0    1    1    1    0    2    0    2    4]\n",
      " [   0 1124    4    1    0    1    2    0    3    0]\n",
      " [   4    1 1009   10    1    0    0    4    3    0]\n",
      " [   3    0    2  992    0    4    0    5    3    1]\n",
      " [   1    1    1    0  961    0    3    2    0   13]\n",
      " [   6    0    1   10    1  860    6    1    5    2]\n",
      " [   3    3    2    0    5    4  938    0    3    0]\n",
      " [   0    4    8    4    5    1    0 1001    1    4]\n",
      " [   3    1    4    7    5    2    0    2  948    2]\n",
      " [   1    2    0    3    9    5    1    5    8  975]]\n"
     ]
    },
    {
     "data": {
      "image/png": "[encoded data removed]",
      "text/plain": [
       "<Figure size 432x288 with 2 Axes>"
      ]
     },
     "metadata": {
      "needs_background": "light"
     },
     "output_type": "display_data"
    }
   ],
   "source": [
    "# Plot confusion matrix\n",
    "from sklearn.metrics import confusion_matrix\n",
    "import numpy as np\n",
    "import itertools\n",
    "\n",
    "def plot_confusion_matrix(cm, classes,\n",
    "                          normalize=False,\n",
    "                          title='Confusion matrix',\n",
    "                          cmap=plt.cm.Blues):\n",
    "  \"\"\"\n",
    "  This function prints and plots the confusion matrix.\n",
    "  Normalization can be applied by setting `normalize=True`.\n",
    "  \"\"\"\n",
    "  if normalize:\n",
    "      cm = cm.astype('float') / cm.sum(axis=1)[:, np.newaxis]\n",
    "      print(\"Normalized confusion matrix\")\n",
    "  else:\n",
    "      print('Confusion matrix, without normalization')\n",
    "\n",
    "  print(cm)\n",
    "\n",
    "  plt.imshow(cm, interpolation='nearest', cmap=cmap)\n",
    "  plt.title(title)\n",
    "  plt.colorbar()\n",
    "  tick_marks = np.arange(len(classes))\n",
    "  plt.xticks(tick_marks, classes, rotation=45)\n",
    "  plt.yticks(tick_marks, classes)\n",
    "\n",
    "  fmt = '.2f' if normalize else 'd'\n",
    "  thresh = cm.max() / 2.\n",
    "  for i, j in itertools.product(range(cm.shape[0]), range(cm.shape[1])):\n",
    "      plt.text(j, i, format(cm[i, j], fmt),\n",
    "               horizontalalignment=\"center\",\n",
    "               color=\"white\" if cm[i, j] > thresh else \"black\")\n",
    "\n",
    "  plt.tight_layout()\n",
    "  plt.ylabel('True label')\n",
    "  plt.xlabel('Predicted label')\n",
    "  plt.show()\n",
    "\n",
    "\n",
    "p_test = model.predict(x_test).argmax(axis=1)\n",
    "cm = confusion_matrix(y_test, p_test)\n",
    "plot_confusion_matrix(cm, list(range(10)))\n",
    "\n",
    "# Do these results make sense?\n",
    "# It's easy to confuse 9 <--> 4, 9 <--> 7, 2 <--> 7, etc. "
   ]
  },
  {
   "cell_type": "markdown",
   "metadata": {},
   "source": [
    "## Checking for misclassified set"
   ]
  },
  {
   "cell_type": "code",
   "execution_count": 85,
   "metadata": {},
   "outputs": [],
   "source": [
    "misclassified_idx = np.where(p_test != y_test)[0]"
   ]
  },
  {
   "cell_type": "code",
   "execution_count": 86,
   "metadata": {
    "scrolled": true
   },
   "outputs": [
    {
     "data": {
      "text/plain": [
       "array([   8,  104,  115,  151,  247,  321,  340,  381,  445,  495,  582,\n",
       "        619,  659,  691,  726,  947,  951,  956,  965, 1014, 1039, 1044,\n",
       "       1156, 1182, 1226, 1228, 1232, 1242, 1247, 1260, 1281, 1289, 1299,\n",
       "       1319, 1393, 1395, 1413, 1425, 1516, 1522, 1527, 1530, 1549, 1569,\n",
       "       1581, 1611, 1621, 1681, 1754, 1828, 1878, 1901, 1941, 1987, 1992,\n",
       "       2004, 2024, 2040, 2053, 2070, 2073, 2093, 2098, 2109, 2118, 2135,\n",
       "       2182, 2189, 2224, 2266, 2272, 2308, 2329, 2371, 2387, 2406, 2476,\n",
       "       2488, 2514, 2597, 2607, 2630, 2648, 2654, 2720, 2743, 2758, 2771,\n",
       "       2810, 2854, 2877, 2896, 2921, 2939, 2953, 2995, 3030, 3073, 3117,\n",
       "       3172, 3222, 3251, 3405, 3503, 3520, 3552, 3558, 3597, 3681, 3702,\n",
       "       3767, 3778, 3780, 3808, 3818, 3869, 3893, 3906, 3926, 3941, 3976,\n",
       "       3985, 4027, 4065, 4140, 4163, 4176, 4212, 4248, 4255, 4289, 4344,\n",
       "       4355, 4360, 4433, 4497, 4504, 4534, 4567, 4571, 4639, 4699, 4731,\n",
       "       4740, 4761, 4808, 4814, 4823, 4880, 4915, 4956, 4966, 4997, 5176,\n",
       "       5210, 5268, 5331, 5457, 5547, 5634, 5642, 5676, 5734, 5887, 5937,\n",
       "       5955, 5973, 6011, 6024, 6059, 6421, 6555, 6571, 6576, 6597, 6599,\n",
       "       6625, 6632, 6662, 6730, 7216, 7233, 7256, 7259, 7268, 7401, 7451,\n",
       "       7921, 8059, 8062, 8094, 8143, 8245, 8325, 8504, 8527, 9009, 9015,\n",
       "       9024, 9046, 9209, 9280, 9422, 9517, 9530, 9587, 9634, 9664, 9679,\n",
       "       9719, 9729, 9733, 9745, 9749, 9768, 9770, 9779, 9792, 9839, 9858,\n",
       "       9904, 9940, 9980], dtype=int64)"
      ]
     },
     "execution_count": 86,
     "metadata": {},
     "output_type": "execute_result"
    }
   ],
   "source": [
    "misclassified_idx"
   ]
  },
  {
   "cell_type": "code",
   "execution_count": 93,
   "metadata": {},
   "outputs": [
    {
     "data": {
      "text/plain": [
       "Text(0.5, 1.0, 'True label 5, Predicted label 3')"
      ]
     },
     "execution_count": 93,
     "metadata": {},
     "output_type": "execute_result"
    },
    {
     "data": {
      "image/png": "[encoded data removed]",
      "text/plain": [
       "<Figure size 432x288 with 1 Axes>"
      ]
     },
     "metadata": {
      "needs_background": "light"
     },
     "output_type": "display_data"
    }
   ],
   "source": [
    "i = np.random.choice(misclassified_idx)\n",
    "plt.imshow(x_test[i], cmap='gray')\n",
    "plt.title(\"True label %s, Predicted label %s\" % (y_test[i],p_test[i]))"
   ]
  },
  {
   "cell_type": "markdown",
   "metadata": {},
   "source": [
    "# Conclusion"
   ]
  },
  {
   "cell_type": "markdown",
   "metadata": {},
   "source": [
    "ANN gives quite good accuracy of about 97% and we can observe that it gets confused where even human eyes can make error in such small images. But this accuracy can further improve by using CNN(Convolution Neural Network) which are specialised for image data."
   ]
  }
 ],
 "metadata": {
  "kernelspec": {
   "display_name": "Python 3",
   "language": "python",
   "name": "python3"
  },
  "language_info": {
   "codemirror_mode": {
    "name": "ipython",
    "version": 3
   },
   "file_extension": ".py",
   "mimetype": "text/x-python",
   "name": "python",
   "nbconvert_exporter": "python",
   "pygments_lexer": "ipython3",
   "version": "3.7.7"
  }
 },
 "nbformat": 4,
 "nbformat_minor": 4
}
