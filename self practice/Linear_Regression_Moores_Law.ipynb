{
 "cells": [
  {
   "cell_type": "code",
   "execution_count": 1,
   "metadata": {},
   "outputs": [],
   "source": [
    "import tensorflow as tf"
   ]
  },
  {
   "cell_type": "code",
   "execution_count": 2,
   "metadata": {},
   "outputs": [],
   "source": [
    "import numpy as np\n",
    "import pandas as pd\n",
    "import matplotlib.pyplot as plt"
   ]
  },
  {
   "cell_type": "code",
   "execution_count": 3,
   "metadata": {},
   "outputs": [],
   "source": [
    "data=pd.read_csv(\"https://raw.githubusercontent.com/lazyprogrammer/machine_learning_examples/master/tf2.0/moore.csv\",header=None)"
   ]
  },
  {
   "cell_type": "code",
   "execution_count": 4,
   "metadata": {
    "scrolled": true
   },
   "outputs": [
    {
     "data": {
      "text/html": [
       "<div>\n",
       "<style scoped>\n",
       "    .dataframe tbody tr th:only-of-type {\n",
       "        vertical-align: middle;\n",
       "    }\n",
       "\n",
       "    .dataframe tbody tr th {\n",
       "        vertical-align: top;\n",
       "    }\n",
       "\n",
       "    .dataframe thead th {\n",
       "        text-align: right;\n",
       "    }\n",
       "</style>\n",
       "<table border=\"1\" class=\"dataframe\">\n",
       "  <thead>\n",
       "    <tr style=\"text-align: right;\">\n",
       "      <th></th>\n",
       "      <th>0</th>\n",
       "      <th>1</th>\n",
       "    </tr>\n",
       "  </thead>\n",
       "  <tbody>\n",
       "    <tr>\n",
       "      <th>0</th>\n",
       "      <td>1971</td>\n",
       "      <td>2300</td>\n",
       "    </tr>\n",
       "    <tr>\n",
       "      <th>1</th>\n",
       "      <td>1972</td>\n",
       "      <td>3500</td>\n",
       "    </tr>\n",
       "    <tr>\n",
       "      <th>2</th>\n",
       "      <td>1973</td>\n",
       "      <td>2500</td>\n",
       "    </tr>\n",
       "    <tr>\n",
       "      <th>3</th>\n",
       "      <td>1973</td>\n",
       "      <td>2500</td>\n",
       "    </tr>\n",
       "    <tr>\n",
       "      <th>4</th>\n",
       "      <td>1974</td>\n",
       "      <td>4100</td>\n",
       "    </tr>\n",
       "    <tr>\n",
       "      <th>...</th>\n",
       "      <td>...</td>\n",
       "      <td>...</td>\n",
       "    </tr>\n",
       "    <tr>\n",
       "      <th>157</th>\n",
       "      <td>2017</td>\n",
       "      <td>18000000000</td>\n",
       "    </tr>\n",
       "    <tr>\n",
       "      <th>158</th>\n",
       "      <td>2017</td>\n",
       "      <td>19200000000</td>\n",
       "    </tr>\n",
       "    <tr>\n",
       "      <th>159</th>\n",
       "      <td>2018</td>\n",
       "      <td>8876000000</td>\n",
       "    </tr>\n",
       "    <tr>\n",
       "      <th>160</th>\n",
       "      <td>2018</td>\n",
       "      <td>23600000000</td>\n",
       "    </tr>\n",
       "    <tr>\n",
       "      <th>161</th>\n",
       "      <td>2018</td>\n",
       "      <td>9000000000</td>\n",
       "    </tr>\n",
       "  </tbody>\n",
       "</table>\n",
       "<p>162 rows × 2 columns</p>\n",
       "</div>"
      ],
      "text/plain": [
       "        0            1\n",
       "0    1971         2300\n",
       "1    1972         3500\n",
       "2    1973         2500\n",
       "3    1973         2500\n",
       "4    1974         4100\n",
       "..    ...          ...\n",
       "157  2017  18000000000\n",
       "158  2017  19200000000\n",
       "159  2018   8876000000\n",
       "160  2018  23600000000\n",
       "161  2018   9000000000\n",
       "\n",
       "[162 rows x 2 columns]"
      ]
     },
     "execution_count": 4,
     "metadata": {},
     "output_type": "execute_result"
    }
   ],
   "source": [
    "data"
   ]
  },
  {
   "cell_type": "code",
   "execution_count": 5,
   "metadata": {},
   "outputs": [
    {
     "data": {
      "text/plain": [
       "array([[       1971,        2300],\n",
       "       [       1972,        3500],\n",
       "       [       1973,        2500],\n",
       "       [       1973,        2500],\n",
       "       [       1974,        4100],\n",
       "       [       1974,        4500],\n",
       "       [       1974,        8000],\n",
       "       [       1975,        3510],\n",
       "       [       1976,        5000],\n",
       "       [       1976,        8500],\n",
       "       [       1976,        6500],\n",
       "       [       1978,        9000],\n",
       "       [       1978,       29000],\n",
       "       [       1979,       17500],\n",
       "       [       1979,       29000],\n",
       "       [       1979,       68000],\n",
       "       [       1981,       11500],\n",
       "       [       1982,       55000],\n",
       "       [       1982,      134000],\n",
       "       [       1983,       22000],\n",
       "       [       1984,       63000],\n",
       "       [       1984,      190000],\n",
       "       [       1985,      275000],\n",
       "       [       1985,       25000],\n",
       "       [       1985,       16000],\n",
       "       [       1986,      110000],\n",
       "       [       1986,      375000],\n",
       "       [       1986,       30000],\n",
       "       [       1987,      385000],\n",
       "       [       1987,      730000],\n",
       "       [       1987,      273000],\n",
       "       [       1987,      553000],\n",
       "       [       1988,      180000],\n",
       "       [       1988,      250000],\n",
       "       [       1989,      600000],\n",
       "       [       1989,     1000000],\n",
       "       [       1989,     1180235],\n",
       "       [       1989,      310000],\n",
       "       [       1990,     1200000],\n",
       "       [       1991,     1350000],\n",
       "       [       1991,       35000],\n",
       "       [       1992,      600000],\n",
       "       [       1992,      900000],\n",
       "       [       1993,     2800000],\n",
       "       [       1993,     3100000],\n",
       "       [       1994,      578977],\n",
       "       [       1994,     2500000],\n",
       "       [       1995,     2500000],\n",
       "       [       1999,      111000],\n",
       "       [       1995,     5500000],\n",
       "       [       1996,     4300000],\n",
       "       [       1997,    10000000],\n",
       "       [       1997,     7500000],\n",
       "       [       1997,     8800000],\n",
       "       [       1998,     7500000],\n",
       "       [       1999,     9500000],\n",
       "       [       1999,    13500000],\n",
       "       [       2000,    21000000],\n",
       "       [       2000,    21000000],\n",
       "       [       1999,    27400000],\n",
       "       [       1999,    21300000],\n",
       "       [       1999,    22000000],\n",
       "       [       2000,    42000000],\n",
       "       [       2001,   191000000],\n",
       "       [       2001,    45000000],\n",
       "       [       2002,    55000000],\n",
       "       [       2004,   112000000],\n",
       "       [       2004,   400000000],\n",
       "       [       2005,   169000000],\n",
       "       [       2006,   184000000],\n",
       "       [       2005,   228000000],\n",
       "       [       2006,   362000000],\n",
       "       [       2007,   540000000],\n",
       "       [       2008,    47000000],\n",
       "       [       2003,    54300000],\n",
       "       [       2003,   105900000],\n",
       "       [       2002,   220000000],\n",
       "       [       2005,   165000000],\n",
       "       [       2005,   250000000],\n",
       "       [       2006,   291000000],\n",
       "       [       2007,   169000000],\n",
       "       [       2003,   410000000],\n",
       "       [       2008,   600000000],\n",
       "       [       2009,   760000000],\n",
       "       [       2011,  1870000000],\n",
       "       [       2012,   432000000],\n",
       "       [       2007,   463000000],\n",
       "       [       2007,    26000000],\n",
       "       [       2008,   230000000],\n",
       "       [       2004,   592000000],\n",
       "       [       2007,   411000000],\n",
       "       [       2008,   731000000],\n",
       "       [       2008,   758000000],\n",
       "       [       2007,   789000000],\n",
       "       [       2009,   904000000],\n",
       "       [       2010,  1000000000],\n",
       "       [       2012,  2990000000],\n",
       "       [       2013,  1000000000],\n",
       "       [       2011,  1160000000],\n",
       "       [       2010,  1170000000],\n",
       "       [       2010,  1200000000],\n",
       "       [       2012,  1200000000],\n",
       "       [       2012,  1303000000],\n",
       "       [       2010,  1400000000],\n",
       "       [       2012,  1400000000],\n",
       "       [       2014,  1400000000],\n",
       "       [       2006,  1700000000],\n",
       "       [       2015,  1750000000],\n",
       "       [       2013,  1860000000],\n",
       "       [       2015,  1900000000],\n",
       "       [       2008,  1900000000],\n",
       "       [       2010,  2000000000],\n",
       "       [       2014,  2000000000],\n",
       "       [       2015,  2000000000],\n",
       "       [       2015,  3000000000],\n",
       "       [       2012,  2100000000],\n",
       "       [       2011,  2270000000],\n",
       "       [       2010,  2300000000],\n",
       "       [       2014,  2600000000],\n",
       "       [       2011,  2600000000],\n",
       "       [       2012,  2750000000],\n",
       "       [       2014,  3000000000],\n",
       "       [       2016,  3000000000],\n",
       "       [       2017,  5300000000],\n",
       "       [       2017,  5300000000],\n",
       "       [       2018,  8500000000],\n",
       "       [       2012,  3100000000],\n",
       "       [       2016,  3200000000],\n",
       "       [       2016,  3300000000],\n",
       "       [       2015,  3990000000],\n",
       "       [       2013,  4200000000],\n",
       "       [       2017,  4300000000],\n",
       "       [       2014,  4310000000],\n",
       "       [       2017,  4800000000],\n",
       "       [       2017,  4800000000],\n",
       "       [       2017,  4800000000],\n",
       "       [       2012,  5000000000],\n",
       "       [       2013,  5000000000],\n",
       "       [       2014,  5560000000],\n",
       "       [       2017,  6100000000],\n",
       "       [       2018,  6900000000],\n",
       "       [       2016,  4000000000],\n",
       "       [       2018,  6900000000],\n",
       "       [       2017,  5500000000],\n",
       "       [       2018,  5500000000],\n",
       "       [       2017,  7000000000],\n",
       "       [       2015,  7100000000],\n",
       "       [       2017,  8000000000],\n",
       "       [       2016,  7200000000],\n",
       "       [       2017,  8000000000],\n",
       "       [       2016,  8000000000],\n",
       "       [       2017,  9700000000],\n",
       "       [       2017,   250000000],\n",
       "       [       2015, 10000000000],\n",
       "       [       2017,  5450000000],\n",
       "       [       2018, 10000000000],\n",
       "       [       2017,  4300000000],\n",
       "       [       2017, 18000000000],\n",
       "       [       2017, 19200000000],\n",
       "       [       2018,  8876000000],\n",
       "       [       2018, 23600000000],\n",
       "       [       2018,  9000000000]], dtype=int64)"
      ]
     },
     "execution_count": 5,
     "metadata": {},
     "output_type": "execute_result"
    }
   ],
   "source": [
    "data.values  #converting into numpy array"
   ]
  },
  {
   "cell_type": "code",
   "execution_count": 6,
   "metadata": {},
   "outputs": [],
   "source": [
    "data=data.values  #stroing it in data"
   ]
  },
  {
   "cell_type": "code",
   "execution_count": 7,
   "metadata": {},
   "outputs": [],
   "source": [
    "x=data[:,0] #Extract 1st row which is feature here"
   ]
  },
  {
   "cell_type": "code",
   "execution_count": 8,
   "metadata": {},
   "outputs": [
    {
     "data": {
      "text/plain": [
       "array([1971, 1972, 1973, 1973, 1974, 1974, 1974, 1975, 1976, 1976],\n",
       "      dtype=int64)"
      ]
     },
     "execution_count": 8,
     "metadata": {},
     "output_type": "execute_result"
    }
   ],
   "source": [
    "x[0:10] #features are 1D here, but 2D array is expected"
   ]
  },
  {
   "cell_type": "code",
   "execution_count": 9,
   "metadata": {},
   "outputs": [
    {
     "data": {
      "text/plain": [
       "162"
      ]
     },
     "execution_count": 9,
     "metadata": {},
     "output_type": "execute_result"
    }
   ],
   "source": [
    "len(x)"
   ]
  },
  {
   "cell_type": "code",
   "execution_count": 10,
   "metadata": {},
   "outputs": [
    {
     "data": {
      "text/plain": [
       "array([[1971],\n",
       "       [1972],\n",
       "       [1973],\n",
       "       [1973],\n",
       "       [1974]], dtype=int64)"
      ]
     },
     "execution_count": 10,
     "metadata": {},
     "output_type": "execute_result"
    }
   ],
   "source": [
    "x.reshape(-1,1)[0:5]\n",
    "#same as x.reshape(162,1)\n",
    "#reshaping features from 1D to 2D array\n",
    "#-1 here repersents 1st dimension which is length of array, -1 means by default length of array"
   ]
  },
  {
   "cell_type": "code",
   "execution_count": 11,
   "metadata": {},
   "outputs": [],
   "source": [
    "x=data[:,0].reshape(-1,1)\n",
    "y=data[:,1]"
   ]
  },
  {
   "cell_type": "code",
   "execution_count": 12,
   "metadata": {},
   "outputs": [
    {
     "data": {
      "text/plain": [
       "<matplotlib.collections.PathCollection at 0x1694b5b3188>"
      ]
     },
     "execution_count": 12,
     "metadata": {},
     "output_type": "execute_result"
    },
    {
     "data": {
      "image/png": "[encoded data removed]",
      "text/plain": [
       "<Figure size 432x288 with 1 Axes>"
      ]
     },
     "metadata": {
      "needs_background": "light"
     },
     "output_type": "display_data"
    }
   ],
   "source": [
    "plt.scatter(x,y)"
   ]
  },
  {
   "cell_type": "markdown",
   "metadata": {},
   "source": [
    "converting into linear model by taking log only on y because it is our count and in equation after tking log we have logc i.e. log on count variable where as x variable i.e. time is same as t and hence as x here"
   ]
  },
  {
   "cell_type": "code",
   "execution_count": 13,
   "metadata": {},
   "outputs": [
    {
     "data": {
      "text/plain": [
       "<matplotlib.collections.PathCollection at 0x1694d48cac8>"
      ]
     },
     "execution_count": 13,
     "metadata": {},
     "output_type": "execute_result"
    },
    {
     "data": {
      "image/png": "[encoded data removed]",
      "text/plain": [
       "<Figure size 432x288 with 1 Axes>"
      ]
     },
     "metadata": {
      "needs_background": "light"
     },
     "output_type": "display_data"
    }
   ],
   "source": [
    "y=np.log(y)\n",
    "plt.scatter(x,y)"
   ]
  },
  {
   "cell_type": "code",
   "execution_count": 14,
   "metadata": {},
   "outputs": [
    {
     "data": {
      "text/plain": [
       "array([[1971],\n",
       "       [1972],\n",
       "       [1973],\n",
       "       [1973],\n",
       "       [1974]], dtype=int64)"
      ]
     },
     "execution_count": 14,
     "metadata": {},
     "output_type": "execute_result"
    }
   ],
   "source": [
    "x[0:5]"
   ]
  },
  {
   "cell_type": "markdown",
   "metadata": {},
   "source": [
    "Centering x so that x is near to zero and not dividing by variance i.e. normalization as x is years this will differ its increase in count by 1"
   ]
  },
  {
   "cell_type": "code",
   "execution_count": 15,
   "metadata": {},
   "outputs": [],
   "source": [
    "x=x-x.mean() "
   ]
  },
  {
   "cell_type": "code",
   "execution_count": 16,
   "metadata": {},
   "outputs": [
    {
     "data": {
      "text/plain": [
       "array([[2.80246914],\n",
       "       [3.80246914],\n",
       "       [4.80246914],\n",
       "       [5.80246914],\n",
       "       [0.80246914]])"
      ]
     },
     "execution_count": 16,
     "metadata": {},
     "output_type": "execute_result"
    }
   ],
   "source": [
    "x[70:75]"
   ]
  },
  {
   "cell_type": "code",
   "execution_count": 17,
   "metadata": {},
   "outputs": [
    {
     "name": "stdout",
     "output_type": "stream",
     "text": [
      "Train on 162 samples\n",
      "Epoch 1/200\n",
      "162/162 [==============================] - 1s 4ms/sample - loss: 323.2366\n",
      "Epoch 2/200\n",
      "162/162 [==============================] - 0s 129us/sample - loss: 295.0497\n",
      "Epoch 3/200\n",
      "162/162 [==============================] - 0s 136us/sample - loss: 330.7481\n",
      "Epoch 4/200\n",
      "162/162 [==============================] - 0s 135us/sample - loss: 474.9144\n",
      "Epoch 5/200\n",
      "162/162 [==============================] - 0s 136us/sample - loss: 266.6289\n",
      "Epoch 6/200\n",
      "162/162 [==============================] - 0s 142us/sample - loss: 220.8065\n",
      "Epoch 7/200\n",
      "162/162 [==============================] - 0s 129us/sample - loss: 161.2649\n",
      "Epoch 8/200\n",
      "162/162 [==============================] - 0s 129us/sample - loss: 132.0937\n",
      "Epoch 9/200\n",
      "162/162 [==============================] - 0s 129us/sample - loss: 61.5697\n",
      "Epoch 10/200\n",
      "162/162 [==============================] - 0s 129us/sample - loss: 57.3795\n",
      "Epoch 11/200\n",
      "162/162 [==============================] - 0s 142us/sample - loss: 52.6177\n",
      "Epoch 12/200\n",
      "162/162 [==============================] - 0s 148us/sample - loss: 35.4670\n",
      "Epoch 13/200\n",
      "162/162 [==============================] - 0s 135us/sample - loss: 21.4866\n",
      "Epoch 14/200\n",
      "162/162 [==============================] - 0s 135us/sample - loss: 17.5883\n",
      "Epoch 15/200\n",
      "162/162 [==============================] - 0s 129us/sample - loss: 18.8068\n",
      "Epoch 16/200\n",
      "162/162 [==============================] - 0s 142us/sample - loss: 10.9125\n",
      "Epoch 17/200\n",
      "162/162 [==============================] - 0s 123us/sample - loss: 6.6221\n",
      "Epoch 18/200\n",
      "162/162 [==============================] - 0s 135us/sample - loss: 7.1853\n",
      "Epoch 19/200\n",
      "162/162 [==============================] - 0s 148us/sample - loss: 5.6416\n",
      "Epoch 20/200\n",
      "162/162 [==============================] - 0s 142us/sample - loss: 7.3338\n",
      "Epoch 21/200\n",
      "162/162 [==============================] - 0s 135us/sample - loss: 4.0962\n",
      "Epoch 22/200\n",
      "162/162 [==============================] - 0s 265us/sample - loss: 3.1608\n",
      "Epoch 23/200\n",
      "162/162 [==============================] - 0s 135us/sample - loss: 2.8353\n",
      "Epoch 24/200\n",
      "162/162 [==============================] - 0s 123us/sample - loss: 2.4094\n",
      "Epoch 25/200\n",
      "162/162 [==============================] - 0s 123us/sample - loss: 1.9269\n",
      "Epoch 26/200\n",
      "162/162 [==============================] - 0s 123us/sample - loss: 1.3919\n",
      "Epoch 27/200\n",
      "162/162 [==============================] - 0s 123us/sample - loss: 1.6712\n",
      "Epoch 28/200\n",
      "162/162 [==============================] - 0s 129us/sample - loss: 1.3013\n",
      "Epoch 29/200\n",
      "162/162 [==============================] - 0s 135us/sample - loss: 1.0504\n",
      "Epoch 30/200\n",
      "162/162 [==============================] - 0s 135us/sample - loss: 0.9884\n",
      "Epoch 31/200\n",
      "162/162 [==============================] - 0s 135us/sample - loss: 0.9357\n",
      "Epoch 32/200\n",
      "162/162 [==============================] - 0s 129us/sample - loss: 0.9465\n",
      "Epoch 33/200\n",
      "162/162 [==============================] - 0s 129us/sample - loss: 0.9160\n",
      "Epoch 34/200\n",
      "162/162 [==============================] - 0s 135us/sample - loss: 1.0019\n",
      "Epoch 35/200\n",
      "162/162 [==============================] - 0s 123us/sample - loss: 0.9237\n",
      "Epoch 36/200\n",
      "162/162 [==============================] - 0s 148us/sample - loss: 0.8917\n",
      "Epoch 37/200\n",
      "162/162 [==============================] - 0s 129us/sample - loss: 1.3057\n",
      "Epoch 38/200\n",
      "162/162 [==============================] - 0s 129us/sample - loss: 1.0427\n",
      "Epoch 39/200\n",
      "162/162 [==============================] - 0s 129us/sample - loss: 0.9409\n",
      "Epoch 40/200\n",
      "162/162 [==============================] - 0s 129us/sample - loss: 0.9076\n",
      "Epoch 41/200\n",
      "162/162 [==============================] - 0s 123us/sample - loss: 0.9413\n",
      "Epoch 42/200\n",
      "162/162 [==============================] - 0s 129us/sample - loss: 0.9788\n",
      "Epoch 43/200\n",
      "162/162 [==============================] - 0s 123us/sample - loss: 0.9413\n",
      "Epoch 44/200\n",
      "162/162 [==============================] - 0s 123us/sample - loss: 1.0975\n",
      "Epoch 45/200\n",
      "162/162 [==============================] - ETA: 0s - loss: 0.677 - 0s 129us/sample - loss: 0.9475\n",
      "Epoch 46/200\n",
      "162/162 [==============================] - 0s 129us/sample - loss: 0.9279\n",
      "Epoch 47/200\n",
      "162/162 [==============================] - 0s 129us/sample - loss: 1.1092\n",
      "Epoch 48/200\n",
      "162/162 [==============================] - 0s 123us/sample - loss: 0.9992\n",
      "Epoch 49/200\n",
      "162/162 [==============================] - 0s 135us/sample - loss: 1.0130\n",
      "Epoch 50/200\n",
      "162/162 [==============================] - 0s 123us/sample - loss: 0.9988\n",
      "Epoch 51/200\n",
      "162/162 [==============================] - 0s 136us/sample - loss: 0.9649\n",
      "Epoch 52/200\n",
      "162/162 [==============================] - 0s 129us/sample - loss: 0.9268\n",
      "Epoch 53/200\n",
      "162/162 [==============================] - 0s 142us/sample - loss: 1.0033\n",
      "Epoch 54/200\n",
      "162/162 [==============================] - 0s 123us/sample - loss: 1.1025\n",
      "Epoch 55/200\n",
      "162/162 [==============================] - 0s 123us/sample - loss: 1.3100\n",
      "Epoch 56/200\n",
      "162/162 [==============================] - 0s 111us/sample - loss: 1.0392\n",
      "Epoch 57/200\n",
      "162/162 [==============================] - 0s 117us/sample - loss: 0.9192\n",
      "Epoch 58/200\n",
      "162/162 [==============================] - 0s 117us/sample - loss: 0.9114\n",
      "Epoch 59/200\n",
      "162/162 [==============================] - 0s 123us/sample - loss: 0.9236\n",
      "Epoch 60/200\n",
      "162/162 [==============================] - 0s 117us/sample - loss: 0.9362\n",
      "Epoch 61/200\n",
      "162/162 [==============================] - 0s 105us/sample - loss: 0.8972\n",
      "Epoch 62/200\n",
      "162/162 [==============================] - 0s 111us/sample - loss: 0.8825\n",
      "Epoch 63/200\n",
      "162/162 [==============================] - 0s 111us/sample - loss: 0.8821\n",
      "Epoch 64/200\n",
      "162/162 [==============================] - 0s 98us/sample - loss: 0.9777\n",
      "Epoch 65/200\n",
      "162/162 [==============================] - 0s 111us/sample - loss: 0.9494\n",
      "Epoch 66/200\n",
      "162/162 [==============================] - 0s 111us/sample - loss: 0.8798\n",
      "Epoch 67/200\n",
      "162/162 [==============================] - 0s 105us/sample - loss: 1.2504\n",
      "Epoch 68/200\n",
      "162/162 [==============================] - 0s 111us/sample - loss: 1.0123\n",
      "Epoch 69/200\n",
      "162/162 [==============================] - 0s 111us/sample - loss: 1.1014\n",
      "Epoch 70/200\n",
      "162/162 [==============================] - 0s 111us/sample - loss: 1.1057\n",
      "Epoch 71/200\n",
      "162/162 [==============================] - 0s 111us/sample - loss: 0.9174\n",
      "Epoch 72/200\n",
      "162/162 [==============================] - 0s 117us/sample - loss: 0.9141\n",
      "Epoch 73/200\n",
      "162/162 [==============================] - 0s 111us/sample - loss: 0.9176\n",
      "Epoch 74/200\n",
      "162/162 [==============================] - 0s 111us/sample - loss: 0.9463\n",
      "Epoch 75/200\n",
      "162/162 [==============================] - 0s 111us/sample - loss: 0.9040\n",
      "Epoch 76/200\n",
      "162/162 [==============================] - 0s 111us/sample - loss: 0.9338\n",
      "Epoch 77/200\n",
      "162/162 [==============================] - 0s 117us/sample - loss: 1.2372\n",
      "Epoch 78/200\n",
      "162/162 [==============================] - 0s 117us/sample - loss: 0.8797\n",
      "Epoch 79/200\n",
      "162/162 [==============================] - 0s 111us/sample - loss: 0.9088\n",
      "Epoch 80/200\n",
      "162/162 [==============================] - 0s 111us/sample - loss: 0.9203\n",
      "Epoch 81/200\n",
      "162/162 [==============================] - 0s 111us/sample - loss: 0.8833\n",
      "Epoch 82/200\n",
      "162/162 [==============================] - 0s 117us/sample - loss: 1.1443\n",
      "Epoch 83/200\n",
      "162/162 [==============================] - 0s 117us/sample - loss: 0.8483\n",
      "Epoch 84/200\n",
      "162/162 [==============================] - 0s 105us/sample - loss: 0.9317\n",
      "Epoch 85/200\n",
      "162/162 [==============================] - 0s 111us/sample - loss: 0.9114\n",
      "Epoch 86/200\n",
      "162/162 [==============================] - 0s 111us/sample - loss: 0.9395\n",
      "Epoch 87/200\n",
      "162/162 [==============================] - 0s 117us/sample - loss: 1.2657\n",
      "Epoch 88/200\n",
      "162/162 [==============================] - 0s 123us/sample - loss: 1.5423\n",
      "Epoch 89/200\n",
      "162/162 [==============================] - 0s 111us/sample - loss: 1.1666\n",
      "Epoch 90/200\n",
      "162/162 [==============================] - 0s 111us/sample - loss: 1.0079\n",
      "Epoch 91/200\n",
      "162/162 [==============================] - 0s 111us/sample - loss: 1.0202\n",
      "Epoch 92/200\n",
      "162/162 [==============================] - 0s 117us/sample - loss: 1.0364\n",
      "Epoch 93/200\n",
      "162/162 [==============================] - 0s 117us/sample - loss: 0.9024\n",
      "Epoch 94/200\n"
     ]
    },
    {
     "name": "stdout",
     "output_type": "stream",
     "text": [
      "162/162 [==============================] - 0s 111us/sample - loss: 0.9176\n",
      "Epoch 95/200\n",
      "162/162 [==============================] - 0s 117us/sample - loss: 0.8583\n",
      "Epoch 96/200\n",
      "162/162 [==============================] - 0s 117us/sample - loss: 0.8970\n",
      "Epoch 97/200\n",
      "162/162 [==============================] - 0s 111us/sample - loss: 0.9018\n",
      "Epoch 98/200\n",
      "162/162 [==============================] - 0s 105us/sample - loss: 0.9399\n",
      "Epoch 99/200\n",
      "162/162 [==============================] - 0s 111us/sample - loss: 0.8990\n",
      "Epoch 100/200\n",
      "162/162 [==============================] - 0s 105us/sample - loss: 0.9169\n",
      "Epoch 101/200\n",
      "162/162 [==============================] - 0s 105us/sample - loss: 0.9711\n",
      "Epoch 102/200\n",
      "162/162 [==============================] - 0s 117us/sample - loss: 1.0430\n",
      "Epoch 103/200\n",
      "162/162 [==============================] - 0s 111us/sample - loss: 1.0883\n",
      "Epoch 104/200\n",
      "162/162 [==============================] - 0s 117us/sample - loss: 0.9189\n",
      "Epoch 105/200\n",
      "162/162 [==============================] - 0s 123us/sample - loss: 0.8931\n",
      "Epoch 106/200\n",
      "162/162 [==============================] - 0s 117us/sample - loss: 0.9708\n",
      "Epoch 107/200\n",
      "162/162 [==============================] - 0s 117us/sample - loss: 1.0114\n",
      "Epoch 108/200\n",
      "162/162 [==============================] - 0s 123us/sample - loss: 0.9919\n",
      "Epoch 109/200\n",
      "162/162 [==============================] - 0s 117us/sample - loss: 0.9250\n",
      "Epoch 110/200\n",
      "162/162 [==============================] - 0s 123us/sample - loss: 0.9432\n",
      "Epoch 111/200\n",
      "162/162 [==============================] - 0s 111us/sample - loss: 0.9275\n",
      "Epoch 112/200\n",
      "162/162 [==============================] - 0s 117us/sample - loss: 0.8950\n",
      "Epoch 113/200\n",
      "162/162 [==============================] - 0s 117us/sample - loss: 0.9553\n",
      "Epoch 114/200\n",
      "162/162 [==============================] - 0s 111us/sample - loss: 0.8675\n",
      "Epoch 115/200\n",
      "162/162 [==============================] - 0s 117us/sample - loss: 0.8983\n",
      "Epoch 116/200\n",
      "162/162 [==============================] - 0s 129us/sample - loss: 0.9080\n",
      "Epoch 117/200\n",
      "162/162 [==============================] - 0s 111us/sample - loss: 0.9304\n",
      "Epoch 118/200\n",
      "162/162 [==============================] - 0s 117us/sample - loss: 0.8899\n",
      "Epoch 119/200\n",
      "162/162 [==============================] - 0s 117us/sample - loss: 0.8979\n",
      "Epoch 120/200\n",
      "162/162 [==============================] - 0s 117us/sample - loss: 0.9419\n",
      "Epoch 121/200\n",
      "162/162 [==============================] - 0s 123us/sample - loss: 0.9708\n",
      "Epoch 122/200\n",
      "162/162 [==============================] - 0s 117us/sample - loss: 1.0099\n",
      "Epoch 123/200\n",
      "162/162 [==============================] - 0s 117us/sample - loss: 1.0761\n",
      "Epoch 124/200\n",
      "162/162 [==============================] - 0s 117us/sample - loss: 1.0409\n",
      "Epoch 125/200\n",
      "162/162 [==============================] - 0s 123us/sample - loss: 0.9397\n",
      "Epoch 126/200\n",
      "162/162 [==============================] - 0s 117us/sample - loss: 1.0207\n",
      "Epoch 127/200\n",
      "162/162 [==============================] - 0s 129us/sample - loss: 1.0093\n",
      "Epoch 128/200\n",
      "162/162 [==============================] - 0s 129us/sample - loss: 0.9926\n",
      "Epoch 129/200\n",
      "162/162 [==============================] - 0s 129us/sample - loss: 0.9204\n",
      "Epoch 130/200\n",
      "162/162 [==============================] - 0s 117us/sample - loss: 0.9121\n",
      "Epoch 131/200\n",
      "162/162 [==============================] - 0s 117us/sample - loss: 0.9056\n",
      "Epoch 132/200\n",
      "162/162 [==============================] - 0s 123us/sample - loss: 0.8718\n",
      "Epoch 133/200\n",
      "162/162 [==============================] - 0s 117us/sample - loss: 0.8989\n",
      "Epoch 134/200\n",
      "162/162 [==============================] - 0s 111us/sample - loss: 1.0184\n",
      "Epoch 135/200\n",
      "162/162 [==============================] - 0s 123us/sample - loss: 1.1099\n",
      "Epoch 136/200\n",
      "162/162 [==============================] - 0s 117us/sample - loss: 1.0191\n",
      "Epoch 137/200\n",
      "162/162 [==============================] - 0s 111us/sample - loss: 1.1212\n",
      "Epoch 138/200\n",
      "162/162 [==============================] - 0s 123us/sample - loss: 0.9408\n",
      "Epoch 139/200\n",
      "162/162 [==============================] - 0s 135us/sample - loss: 0.9146\n",
      "Epoch 140/200\n",
      "162/162 [==============================] - 0s 148us/sample - loss: 0.9523\n",
      "Epoch 141/200\n",
      "162/162 [==============================] - 0s 135us/sample - loss: 0.8912\n",
      "Epoch 142/200\n",
      "162/162 [==============================] - 0s 148us/sample - loss: 0.8953\n",
      "Epoch 143/200\n",
      "162/162 [==============================] - 0s 129us/sample - loss: 0.9154\n",
      "Epoch 144/200\n",
      "162/162 [==============================] - 0s 148us/sample - loss: 0.9072\n",
      "Epoch 145/200\n",
      "162/162 [==============================] - 0s 142us/sample - loss: 0.8802\n",
      "Epoch 146/200\n",
      "162/162 [==============================] - 0s 135us/sample - loss: 1.0682\n",
      "Epoch 147/200\n",
      "162/162 [==============================] - 0s 123us/sample - loss: 0.9770\n",
      "Epoch 148/200\n",
      "162/162 [==============================] - 0s 123us/sample - loss: 1.0648\n",
      "Epoch 149/200\n",
      "162/162 [==============================] - 0s 117us/sample - loss: 0.9800\n",
      "Epoch 150/200\n",
      "162/162 [==============================] - 0s 117us/sample - loss: 0.9706\n",
      "Epoch 151/200\n",
      "162/162 [==============================] - 0s 123us/sample - loss: 1.3889\n",
      "Epoch 152/200\n",
      "162/162 [==============================] - 0s 105us/sample - loss: 1.1737\n",
      "Epoch 153/200\n",
      "162/162 [==============================] - 0s 111us/sample - loss: 1.0225\n",
      "Epoch 154/200\n",
      "162/162 [==============================] - 0s 105us/sample - loss: 0.9748\n",
      "Epoch 155/200\n",
      "162/162 [==============================] - 0s 111us/sample - loss: 1.3176\n",
      "Epoch 156/200\n",
      "162/162 [==============================] - 0s 117us/sample - loss: 1.0238\n",
      "Epoch 157/200\n",
      "162/162 [==============================] - 0s 105us/sample - loss: 1.1949\n",
      "Epoch 158/200\n",
      "162/162 [==============================] - 0s 105us/sample - loss: 1.0512\n",
      "Epoch 159/200\n",
      "162/162 [==============================] - 0s 117us/sample - loss: 1.1817\n",
      "Epoch 160/200\n",
      "162/162 [==============================] - 0s 111us/sample - loss: 1.2081\n",
      "Epoch 161/200\n",
      "162/162 [==============================] - 0s 117us/sample - loss: 1.2499\n",
      "Epoch 162/200\n",
      "162/162 [==============================] - ETA: 0s - loss: 1.379 - 0s 111us/sample - loss: 1.0304\n",
      "Epoch 163/200\n",
      "162/162 [==============================] - 0s 117us/sample - loss: 0.9210\n",
      "Epoch 164/200\n",
      "162/162 [==============================] - 0s 117us/sample - loss: 0.8980\n",
      "Epoch 165/200\n",
      "162/162 [==============================] - 0s 148us/sample - loss: 0.8746\n",
      "Epoch 166/200\n",
      "162/162 [==============================] - 0s 123us/sample - loss: 0.8826\n",
      "Epoch 167/200\n",
      "162/162 [==============================] - 0s 154us/sample - loss: 0.8845\n",
      "Epoch 168/200\n",
      "162/162 [==============================] - 0s 123us/sample - loss: 0.8802\n",
      "Epoch 169/200\n",
      "162/162 [==============================] - 0s 148us/sample - loss: 1.2244\n",
      "Epoch 170/200\n",
      "162/162 [==============================] - 0s 129us/sample - loss: 1.0801\n",
      "Epoch 171/200\n",
      "162/162 [==============================] - 0s 142us/sample - loss: 0.9041\n",
      "Epoch 172/200\n",
      "162/162 [==============================] - 0s 135us/sample - loss: 1.0298\n",
      "Epoch 173/200\n",
      "162/162 [==============================] - 0s 129us/sample - loss: 1.0314\n",
      "Epoch 174/200\n",
      "162/162 [==============================] - 0s 117us/sample - loss: 1.5962\n",
      "Epoch 175/200\n",
      "162/162 [==============================] - 0s 123us/sample - loss: 1.5348\n",
      "Epoch 176/200\n",
      "162/162 [==============================] - 0s 117us/sample - loss: 1.3729\n",
      "Epoch 177/200\n",
      "162/162 [==============================] - 0s 111us/sample - loss: 1.2528\n",
      "Epoch 178/200\n",
      "162/162 [==============================] - 0s 105us/sample - loss: 1.0964\n",
      "Epoch 179/200\n",
      "162/162 [==============================] - 0s 105us/sample - loss: 1.0164\n",
      "Epoch 180/200\n",
      "162/162 [==============================] - 0s 111us/sample - loss: 0.9777\n",
      "Epoch 181/200\n",
      "162/162 [==============================] - 0s 105us/sample - loss: 0.9058\n",
      "Epoch 182/200\n",
      "162/162 [==============================] - 0s 111us/sample - loss: 0.8744\n",
      "Epoch 183/200\n",
      "162/162 [==============================] - 0s 111us/sample - loss: 0.8843\n",
      "Epoch 184/200\n",
      "162/162 [==============================] - 0s 111us/sample - loss: 0.9243\n",
      "Epoch 185/200\n",
      "162/162 [==============================] - 0s 129us/sample - loss: 0.8897\n",
      "Epoch 186/200\n",
      "162/162 [==============================] - 0s 142us/sample - loss: 0.8833\n",
      "Epoch 187/200\n"
     ]
    },
    {
     "name": "stdout",
     "output_type": "stream",
     "text": [
      "162/162 [==============================] - 0s 129us/sample - loss: 0.8879\n",
      "Epoch 188/200\n",
      "162/162 [==============================] - 0s 148us/sample - loss: 0.8971\n",
      "Epoch 189/200\n",
      "162/162 [==============================] - 0s 129us/sample - loss: 0.8858\n",
      "Epoch 190/200\n",
      "162/162 [==============================] - 0s 135us/sample - loss: 0.9287\n",
      "Epoch 191/200\n",
      "162/162 [==============================] - 0s 135us/sample - loss: 1.3289\n",
      "Epoch 192/200\n",
      "162/162 [==============================] - 0s 154us/sample - loss: 1.4773\n",
      "Epoch 193/200\n",
      "162/162 [==============================] - 0s 142us/sample - loss: 1.3731\n",
      "Epoch 194/200\n",
      "162/162 [==============================] - 0s 111us/sample - loss: 1.3980\n",
      "Epoch 195/200\n",
      "162/162 [==============================] - 0s 117us/sample - loss: 1.3878\n",
      "Epoch 196/200\n",
      "162/162 [==============================] - 0s 117us/sample - loss: 1.3298\n",
      "Epoch 197/200\n",
      "162/162 [==============================] - 0s 105us/sample - loss: 1.4020\n",
      "Epoch 198/200\n",
      "162/162 [==============================] - 0s 117us/sample - loss: 1.1648\n",
      "Epoch 199/200\n",
      "162/162 [==============================] - 0s 111us/sample - loss: 1.6254\n",
      "Epoch 200/200\n",
      "162/162 [==============================] - 0s 111us/sample - loss: 1.3358\n"
     ]
    }
   ],
   "source": [
    "model=tf.keras.models.Sequential([\n",
    "    tf.keras.layers.Input(shape=(1,)),\n",
    "    tf.keras.layers.Dense(1)\n",
    "])\n",
    "#No activation function as it is regression and in regression we dont want to limit output between 0 and 1\n",
    "\n",
    "model.compile(optimizer=tf.keras.optimizers.SGD(0.001, 0.9), loss='mse')\n",
    "\n",
    "def schedule(epoch, lr):\n",
    "    if(epoch>=50):\n",
    "        return 0.001\n",
    "    return 0.001\n",
    "\n",
    "scheduler=tf.keras.callbacks.LearningRateScheduler(schedule)\n",
    "\n",
    "r=model.fit(x,y, epochs=200, callbacks=[scheduler])"
   ]
  },
  {
   "cell_type": "markdown",
   "metadata": {},
   "source": [
    "Printing loss with number of epochs"
   ]
  },
  {
   "cell_type": "code",
   "execution_count": 18,
   "metadata": {},
   "outputs": [
    {
     "data": {
      "text/plain": [
       "<matplotlib.legend.Legend at 0x1694cc0cb08>"
      ]
     },
     "execution_count": 18,
     "metadata": {},
     "output_type": "execute_result"
    },
    {
     "data": {
      "image/png": "[encoded data removed]",
      "text/plain": [
       "<Figure size 432x288 with 1 Axes>"
      ]
     },
     "metadata": {
      "needs_background": "light"
     },
     "output_type": "display_data"
    }
   ],
   "source": [
    "plt.plot(r.history['loss'],label=\"loss\")\n",
    "plt.legend()"
   ]
  },
  {
   "cell_type": "markdown",
   "metadata": {},
   "source": [
    "Printing layers in the model, here only 1 layer is there Dense, input layer is just for supporting it"
   ]
  },
  {
   "cell_type": "code",
   "execution_count": 19,
   "metadata": {},
   "outputs": [
    {
     "name": "stdout",
     "output_type": "stream",
     "text": [
      "[<tensorflow.python.keras.layers.core.Dense object at 0x000001694CC41588>]\n"
     ]
    }
   ],
   "source": [
    "print(model.layers) "
   ]
  },
  {
   "cell_type": "markdown",
   "metadata": {},
   "source": [
    "Printing weights from 1st layer i.e. Dense layer by get_weights() in-built function"
   ]
  },
  {
   "cell_type": "code",
   "execution_count": 20,
   "metadata": {},
   "outputs": [
    {
     "name": "stdout",
     "output_type": "stream",
     "text": [
      "[array([[0.3854809]], dtype=float32), array([17.775047], dtype=float32)]\n"
     ]
    }
   ],
   "source": [
    "print(model.layers[0].get_weights())"
   ]
  },
  {
   "cell_type": "markdown",
   "metadata": {},
   "source": [
    "Here we get 2 things, 1st is 2-D array which denotes slope 'm' and 2nd is 1-D array which denotes constant 'b' in equation y=mx+c"
   ]
  },
  {
   "cell_type": "raw",
   "metadata": {},
   "source": [
    "Generally, if\n",
    "D=input_size\n",
    "M=output_size\n",
    "then,\n",
    "W.shape=(D,M)\n",
    "b.shape=(M,)"
   ]
  },
  {
   "cell_type": "code",
   "execution_count": 21,
   "metadata": {},
   "outputs": [],
   "source": [
    "a=model.layers[0].get_weights()[0][0,0]  #just printing scalar value of weight which is of 1st layer "
   ]
  },
  {
   "cell_type": "raw",
   "metadata": {},
   "source": [
    "Main equation-  C=a*r^t       ,C-count of transistors\n",
    "After taking log, log C=t*log r+log a\n",
    "which is similar to equation of line, y=m*x+c\n",
    "Here, y=log C\n",
    "slope, m=log r\n",
    "x=t (time)\n",
    "constant c=log a\n",
    "\n",
    "\n",
    "From above calculations we got value of slope as 0.37482 so we can calculate rate,r from it i.e,\n",
    "r=e^m -> r=e^0.37482 -> r=1.4076\n",
    "\n",
    "Now, to calculate time t, when count becomes double-\n",
    "New equation- 2C=a*r^t'\n",
    "Original equation- C=a*r^t\n",
    "\n",
    "On dividing, we got- 2C/C=(ar^t')/(ar^t)\n",
    "=> 2=r^(t'-t)\n",
    "from here, log 2=(t'-t)*log r\n",
    "=> (t'-t)=log 2/log r   (log r=m)\n",
    "=> t'-t=log 2/m\n",
    "\n",
    "this difference is what we were required to calculate, time gap in which register coun t becomes double"
   ]
  },
  {
   "cell_type": "code",
   "execution_count": 22,
   "metadata": {},
   "outputs": [
    {
     "name": "stdout",
     "output_type": "stream",
     "text": [
      "Time to double:  1.7981362023598582\n"
     ]
    }
   ],
   "source": [
    "print(\"Time to double: \",np.log(2)/a)"
   ]
  },
  {
   "cell_type": "code",
   "execution_count": 28,
   "metadata": {},
   "outputs": [
    {
     "data": {
      "text/plain": [
       "[<matplotlib.lines.Line2D at 0x169fc376548>]"
      ]
     },
     "execution_count": 28,
     "metadata": {},
     "output_type": "execute_result"
    },
    {
     "data": {
      "image/png": "[encoded data removed]",
      "text/plain": [
       "<Figure size 432x288 with 1 Axes>"
      ]
     },
     "metadata": {
      "needs_background": "light"
     },
     "output_type": "display_data"
    }
   ],
   "source": [
    "yhat=model.predict(x).flatten()\n",
    "plt.scatter(x,y)\n",
    "plt.plot(x,yhat)"
   ]
  },
  {
   "cell_type": "code",
   "execution_count": 30,
   "metadata": {},
   "outputs": [],
   "source": [
    "w, b=model.layers[0].get_weights()"
   ]
  },
  {
   "cell_type": "code",
   "execution_count": 33,
   "metadata": {},
   "outputs": [],
   "source": [
    "x=x.reshape(-1,1)"
   ]
  },
  {
   "cell_type": "code",
   "execution_count": 34,
   "metadata": {},
   "outputs": [],
   "source": [
    "yhat2=(x.dot(w)+b).flatten()"
   ]
  },
  {
   "cell_type": "code",
   "execution_count": 37,
   "metadata": {},
   "outputs": [
    {
     "data": {
      "text/plain": [
       "True"
      ]
     },
     "execution_count": 37,
     "metadata": {},
     "output_type": "execute_result"
    }
   ],
   "source": [
    "np.allclose(yhat,yhat2)"
   ]
  },
  {
   "cell_type": "markdown",
   "metadata": {},
   "source": [
    "# Saving the model"
   ]
  },
  {
   "cell_type": "code",
   "execution_count": 44,
   "metadata": {},
   "outputs": [],
   "source": [
    "model.save(\"C://Users/shash/Downloads/Jupytor/Tensorflow 2.0/linearregression.h5\")"
   ]
  },
  {
   "cell_type": "code",
   "execution_count": 45,
   "metadata": {},
   "outputs": [],
   "source": [
    "model=tf.keras.models.load_model(\"C://Users/shash/Downloads/Jupytor/Tensorflow 2.0/linearregression.h5\")"
   ]
  },
  {
   "cell_type": "code",
   "execution_count": 46,
   "metadata": {},
   "outputs": [
    {
     "name": "stdout",
     "output_type": "stream",
     "text": [
      "[<tensorflow.python.keras.layers.core.Dense object at 0x00000169FD965FC8>]\n"
     ]
    }
   ],
   "source": [
    "print(model.layers)"
   ]
  },
  {
   "cell_type": "code",
   "execution_count": 47,
   "metadata": {},
   "outputs": [
    {
     "name": "stdout",
     "output_type": "stream",
     "text": [
      "162/162 [==============================] - 0s 462us/sample - loss: 1.2276\n"
     ]
    },
    {
     "data": {
      "text/plain": [
       "1.2276394334104326"
      ]
     },
     "execution_count": 47,
     "metadata": {},
     "output_type": "execute_result"
    }
   ],
   "source": [
    "model.evaluate(x,y)"
   ]
  },
  {
   "cell_type": "code",
   "execution_count": null,
   "metadata": {},
   "outputs": [],
   "source": []
  }
 ],
 "metadata": {
  "kernelspec": {
   "display_name": "Python 3",
   "language": "python",
   "name": "python3"
  },
  "language_info": {
   "codemirror_mode": {
    "name": "ipython",
    "version": 3
   },
   "file_extension": ".py",
   "mimetype": "text/x-python",
   "name": "python",
   "nbconvert_exporter": "python",
   "pygments_lexer": "ipython3",
   "version": "3.7.7"
  }
 },
 "nbformat": 4,
 "nbformat_minor": 4
}
